{
 "cells": [
  {
   "cell_type": "markdown",
   "id": "fe62d734",
   "metadata": {},
   "source": [
    "# IMDb Dataset Analysis\n",
    "\n",
    "Dataset source: [IMDb](https://www.imdb.com/interfaces/) \n",
    "\n",
    "**IMDb Dataset Details**: \n",
    "1. There are 7 datasets in total. Each dataset is contained in a gzipped, tab-separated-values (TSV) formatted file in the UTF-8 character set. \n",
    "2. The first line in each file contains headers that describe what is in each column.\n",
    "3. A ‘\\N’ is used to denote that a particular field is missing or null for that title/name. \n",
    "4. The dataset was downloaded on `March 6, 2023`. The data is refreshed daily.\n",
    "5. Thesee dataset share the same column `tconst (string)` which is an alphanumeric unique identifier of the title.\n",
    "\n",
    "### <span style=\"color:green\">**Objective: Predict the average ratings for `movies` based on given features.**</span> \n",
    "\n",
    "This notebook will do the IMDb dataset analysis following the next steps. Corresponding reasoning and analysis are also provided. \n",
    "1. Exploratory Data Analysis (EDA) and Data Cleaning.\n",
    "2. Data Preprocessing.\n",
    "3. ML Model Training.\n",
    "4. Conclusions.\n",
    "5. Future Directions.\n"
   ]
  },
  {
   "cell_type": "markdown",
   "id": "2ab23f98",
   "metadata": {},
   "source": [
    "## <span style=\"color:blue\">Step 1: Exploratory Data Analysis (EDA) and Data Cleaning</span>\n",
    "\n",
    "In this section, we will import the required libraries and load the datasets into Python environment. Then, we will take a look at each dataset and perform some exploratory analysis and data cleaning tasks. "
   ]
  },
  {
   "cell_type": "code",
   "execution_count": 2,
   "id": "253514e1",
   "metadata": {},
   "outputs": [],
   "source": [
    "import pandas as pd\n",
    "import numpy as np\n",
    "\n",
    "# For plotting and visualization\n",
    "import matplotlib.pyplot as plt\n",
    "import matplotlib.style as style\n",
    "import seaborn as sns\n",
    "\n",
    "style.use('seaborn-poster')\n",
    "sns.set_style('darkgrid')\n",
    "\n",
    "# For data preprocessing\n",
    "from sklearn.preprocessing import OneHotEncoder, StandardScaler\n",
    "from sklearn.compose import ColumnTransformer\n",
    "from sklearn.model_selection import train_test_split\n",
    "\n",
    "# Ignore warnings\n",
    "import warnings\n",
    "warnings.filterwarnings('ignore')"
   ]
  },
  {
   "cell_type": "markdown",
   "id": "e16fb6f0",
   "metadata": {},
   "source": [
    "We will define a function to load data into Python environment as Pandas DataFrames in order to avoid repetitive work. "
   ]
  },
  {
   "cell_type": "code",
   "execution_count": 3,
   "id": "8eed28d9",
   "metadata": {},
   "outputs": [],
   "source": [
    "def read_csv_file(file_name: str, dtype: dict, usecols: list):\n",
    "    return pd.read_csv(file_name, sep='\\t', index_col=False, na_values='\\\\N', dtype=dtype, usecols=usecols)\n",
    "# index_col=False: force pandas to not use the first colum as the index"
   ]
  },
  {
   "cell_type": "markdown",
   "id": "0220b78a",
   "metadata": {},
   "source": [
    "### <span style=\"color:maroon\">title.akas.tsv.gz</span> \n",
    "Contains the following information for titles:\n",
    "\n",
    "`titleId` (string) - a tconst, an alphanumeric unique identifier of the title <br>\n",
    "`ordering` (integer) – a number to uniquely identify rows for a given titleId <br>\n",
    "`title` (string) – the localized title <br>\n",
    "`region` (string) - the region for this version of the title <br>\n",
    "`language` (string) - the language of the title <br>\n",
    "`types` (array) - Enumerated set of attributes for this alternative title. One or more of the following: \"alternative\", \"dvd\", \"festival\", \"tv\", \"video\", \"working\", \"original\", \"imdbDisplay\". New values may be added in the future without warning <br>\n",
    "`attributes` (array) - Additional terms to describe this alternative title, not enumerated <br>\n",
    "`isOriginalTitle` (boolean) – 0: not original title; 1: original title <br>\n",
    "\n",
    "Among all the given features, only `titleId`, `ordering`, `title`, `region`, `language`, `types` are highly related to the average ratings of movies. So we will only read these columns."
   ]
  },
  {
   "cell_type": "code",
   "execution_count": 4,
   "id": "594c25eb",
   "metadata": {},
   "outputs": [],
   "source": [
    "df_akas_dtypes = {'titleId': 'str', 'ordering': 'int', 'region': 'str', 'language': 'str', 'types': 'str'}\n",
    "df_akas_usecols = ['titleId', 'ordering', 'region', 'language', 'types']\n",
    "\n",
    "df_akas = read_csv_file('./datasets/title.akas.tsv', df_akas_dtypes, df_akas_usecols)"
   ]
  },
  {
   "cell_type": "code",
   "execution_count": 5,
   "id": "f2322fcc",
   "metadata": {},
   "outputs": [
    {
     "data": {
      "text/html": [
       "<div>\n",
       "<style scoped>\n",
       "    .dataframe tbody tr th:only-of-type {\n",
       "        vertical-align: middle;\n",
       "    }\n",
       "\n",
       "    .dataframe tbody tr th {\n",
       "        vertical-align: top;\n",
       "    }\n",
       "\n",
       "    .dataframe thead th {\n",
       "        text-align: right;\n",
       "    }\n",
       "</style>\n",
       "<table border=\"1\" class=\"dataframe\">\n",
       "  <thead>\n",
       "    <tr style=\"text-align: right;\">\n",
       "      <th></th>\n",
       "      <th>titleId</th>\n",
       "      <th>ordering</th>\n",
       "      <th>region</th>\n",
       "      <th>language</th>\n",
       "      <th>types</th>\n",
       "    </tr>\n",
       "  </thead>\n",
       "  <tbody>\n",
       "    <tr>\n",
       "      <th>0</th>\n",
       "      <td>tt0000001</td>\n",
       "      <td>1</td>\n",
       "      <td>UA</td>\n",
       "      <td>NaN</td>\n",
       "      <td>imdbDisplay</td>\n",
       "    </tr>\n",
       "    <tr>\n",
       "      <th>1</th>\n",
       "      <td>tt0000001</td>\n",
       "      <td>2</td>\n",
       "      <td>DE</td>\n",
       "      <td>NaN</td>\n",
       "      <td>NaN</td>\n",
       "    </tr>\n",
       "    <tr>\n",
       "      <th>2</th>\n",
       "      <td>tt0000001</td>\n",
       "      <td>3</td>\n",
       "      <td>HU</td>\n",
       "      <td>NaN</td>\n",
       "      <td>imdbDisplay</td>\n",
       "    </tr>\n",
       "    <tr>\n",
       "      <th>3</th>\n",
       "      <td>tt0000001</td>\n",
       "      <td>4</td>\n",
       "      <td>GR</td>\n",
       "      <td>NaN</td>\n",
       "      <td>imdbDisplay</td>\n",
       "    </tr>\n",
       "    <tr>\n",
       "      <th>4</th>\n",
       "      <td>tt0000001</td>\n",
       "      <td>5</td>\n",
       "      <td>RU</td>\n",
       "      <td>NaN</td>\n",
       "      <td>imdbDisplay</td>\n",
       "    </tr>\n",
       "  </tbody>\n",
       "</table>\n",
       "</div>"
      ],
      "text/plain": [
       "     titleId  ordering region language        types\n",
       "0  tt0000001         1     UA      NaN  imdbDisplay\n",
       "1  tt0000001         2     DE      NaN          NaN\n",
       "2  tt0000001         3     HU      NaN  imdbDisplay\n",
       "3  tt0000001         4     GR      NaN  imdbDisplay\n",
       "4  tt0000001         5     RU      NaN  imdbDisplay"
      ]
     },
     "execution_count": 5,
     "metadata": {},
     "output_type": "execute_result"
    }
   ],
   "source": [
    "df_akas.head()"
   ]
  },
  {
   "cell_type": "code",
   "execution_count": 6,
   "id": "e6f166ce",
   "metadata": {},
   "outputs": [
    {
     "data": {
      "text/html": [
       "<div>\n",
       "<style scoped>\n",
       "    .dataframe tbody tr th:only-of-type {\n",
       "        vertical-align: middle;\n",
       "    }\n",
       "\n",
       "    .dataframe tbody tr th {\n",
       "        vertical-align: top;\n",
       "    }\n",
       "\n",
       "    .dataframe thead th {\n",
       "        text-align: right;\n",
       "    }\n",
       "</style>\n",
       "<table border=\"1\" class=\"dataframe\">\n",
       "  <thead>\n",
       "    <tr style=\"text-align: right;\">\n",
       "      <th></th>\n",
       "      <th>titleId</th>\n",
       "      <th>ordering</th>\n",
       "      <th>region</th>\n",
       "      <th>language</th>\n",
       "      <th>types</th>\n",
       "    </tr>\n",
       "  </thead>\n",
       "  <tbody>\n",
       "    <tr>\n",
       "      <th>35165554</th>\n",
       "      <td>tt9916852</td>\n",
       "      <td>5</td>\n",
       "      <td>PT</td>\n",
       "      <td>pt</td>\n",
       "      <td>NaN</td>\n",
       "    </tr>\n",
       "    <tr>\n",
       "      <th>35165555</th>\n",
       "      <td>tt9916852</td>\n",
       "      <td>6</td>\n",
       "      <td>IT</td>\n",
       "      <td>it</td>\n",
       "      <td>NaN</td>\n",
       "    </tr>\n",
       "    <tr>\n",
       "      <th>35165556</th>\n",
       "      <td>tt9916852</td>\n",
       "      <td>7</td>\n",
       "      <td>IN</td>\n",
       "      <td>hi</td>\n",
       "      <td>NaN</td>\n",
       "    </tr>\n",
       "    <tr>\n",
       "      <th>35165557</th>\n",
       "      <td>tt9916856</td>\n",
       "      <td>1</td>\n",
       "      <td>DE</td>\n",
       "      <td>NaN</td>\n",
       "      <td>imdbDisplay</td>\n",
       "    </tr>\n",
       "    <tr>\n",
       "      <th>35165558</th>\n",
       "      <td>tt9916856</td>\n",
       "      <td>2</td>\n",
       "      <td>NaN</td>\n",
       "      <td>NaN</td>\n",
       "      <td>original</td>\n",
       "    </tr>\n",
       "  </tbody>\n",
       "</table>\n",
       "</div>"
      ],
      "text/plain": [
       "            titleId  ordering region language        types\n",
       "35165554  tt9916852         5     PT       pt          NaN\n",
       "35165555  tt9916852         6     IT       it          NaN\n",
       "35165556  tt9916852         7     IN       hi          NaN\n",
       "35165557  tt9916856         1     DE      NaN  imdbDisplay\n",
       "35165558  tt9916856         2    NaN      NaN     original"
      ]
     },
     "execution_count": 6,
     "metadata": {},
     "output_type": "execute_result"
    }
   ],
   "source": [
    "df_akas.tail()"
   ]
  },
  {
   "cell_type": "markdown",
   "id": "b9e958f4",
   "metadata": {},
   "source": [
    "Take a look at the `types` column and count the frequency for each type."
   ]
  },
  {
   "cell_type": "code",
   "execution_count": 7,
   "id": "4a3319d2",
   "metadata": {},
   "outputs": [
    {
     "data": {
      "text/plain": [
       "imdbDisplay             3440324\n",
       "original                1806783\n",
       "alternative              108716\n",
       "working                   53470\n",
       "dvd                       21893\n",
       "video                     20689\n",
       "festival                  19007\n",
       "tv                        18469\n",
       "dvd\u0002imdbDisplay             233\n",
       "imdbDisplay\u0002tv               74\n",
       "festival\u0002imdbDisplay         66\n",
       "imdbDisplay\u0002working          31\n",
       "imdbDisplay\u0002video            26\n",
       "alternative\u0002tv                9\n",
       "tv\u0002video                      7\n",
       "alternative\u0002dvd               6\n",
       "video\u0002working                 5\n",
       "alternative\u0002working           5\n",
       "tv\u0002working                    4\n",
       "festival\u0002working              3\n",
       "alternative\u0002video             2\n",
       "dvd\u0002video                     2\n",
       "alternative\u0002festival          2\n",
       "Name: types, dtype: int64"
      ]
     },
     "execution_count": 7,
     "metadata": {},
     "output_type": "execute_result"
    }
   ],
   "source": [
    "df_akas['types'].value_counts()"
   ]
  },
  {
   "cell_type": "markdown",
   "id": "32dc17e0",
   "metadata": {},
   "source": [
    "`imdbDisplay` has the maximum frequency of `3440324` followed by `original`, `alternative` and so on."
   ]
  },
  {
   "cell_type": "markdown",
   "id": "c146588e",
   "metadata": {},
   "source": [
    "Based on the `language` column, we can figure out the most popular language among all movies/TV shows. Since there are many languages, let's show only the top 15 languages."
   ]
  },
  {
   "cell_type": "code",
   "execution_count": 8,
   "id": "7a892599",
   "metadata": {},
   "outputs": [
    {
     "data": {
      "text/html": [
       "<div>\n",
       "<style scoped>\n",
       "    .dataframe tbody tr th:only-of-type {\n",
       "        vertical-align: middle;\n",
       "    }\n",
       "\n",
       "    .dataframe tbody tr th {\n",
       "        vertical-align: top;\n",
       "    }\n",
       "\n",
       "    .dataframe thead th {\n",
       "        text-align: right;\n",
       "    }\n",
       "</style>\n",
       "<table border=\"1\" class=\"dataframe\">\n",
       "  <thead>\n",
       "    <tr style=\"text-align: right;\">\n",
       "      <th></th>\n",
       "      <th>language</th>\n",
       "      <th>frequency</th>\n",
       "    </tr>\n",
       "  </thead>\n",
       "  <tbody>\n",
       "    <tr>\n",
       "      <th>0</th>\n",
       "      <td>ja</td>\n",
       "      <td>4068637</td>\n",
       "    </tr>\n",
       "    <tr>\n",
       "      <th>1</th>\n",
       "      <td>fr</td>\n",
       "      <td>4033790</td>\n",
       "    </tr>\n",
       "    <tr>\n",
       "      <th>2</th>\n",
       "      <td>hi</td>\n",
       "      <td>4007162</td>\n",
       "    </tr>\n",
       "    <tr>\n",
       "      <th>3</th>\n",
       "      <td>es</td>\n",
       "      <td>3977420</td>\n",
       "    </tr>\n",
       "    <tr>\n",
       "      <th>4</th>\n",
       "      <td>de</td>\n",
       "      <td>3976847</td>\n",
       "    </tr>\n",
       "    <tr>\n",
       "      <th>5</th>\n",
       "      <td>it</td>\n",
       "      <td>3975479</td>\n",
       "    </tr>\n",
       "    <tr>\n",
       "      <th>6</th>\n",
       "      <td>pt</td>\n",
       "      <td>3975333</td>\n",
       "    </tr>\n",
       "    <tr>\n",
       "      <th>7</th>\n",
       "      <td>en</td>\n",
       "      <td>446828</td>\n",
       "    </tr>\n",
       "    <tr>\n",
       "      <th>8</th>\n",
       "      <td>tr</td>\n",
       "      <td>35150</td>\n",
       "    </tr>\n",
       "    <tr>\n",
       "      <th>9</th>\n",
       "      <td>ru</td>\n",
       "      <td>34145</td>\n",
       "    </tr>\n",
       "    <tr>\n",
       "      <th>10</th>\n",
       "      <td>bg</td>\n",
       "      <td>26315</td>\n",
       "    </tr>\n",
       "    <tr>\n",
       "      <th>11</th>\n",
       "      <td>cmn</td>\n",
       "      <td>21738</td>\n",
       "    </tr>\n",
       "    <tr>\n",
       "      <th>12</th>\n",
       "      <td>sv</td>\n",
       "      <td>9900</td>\n",
       "    </tr>\n",
       "    <tr>\n",
       "      <th>13</th>\n",
       "      <td>he</td>\n",
       "      <td>7947</td>\n",
       "    </tr>\n",
       "    <tr>\n",
       "      <th>14</th>\n",
       "      <td>yue</td>\n",
       "      <td>7596</td>\n",
       "    </tr>\n",
       "  </tbody>\n",
       "</table>\n",
       "</div>"
      ],
      "text/plain": [
       "   language  frequency\n",
       "0        ja    4068637\n",
       "1        fr    4033790\n",
       "2        hi    4007162\n",
       "3        es    3977420\n",
       "4        de    3976847\n",
       "5        it    3975479\n",
       "6        pt    3975333\n",
       "7        en     446828\n",
       "8        tr      35150\n",
       "9        ru      34145\n",
       "10       bg      26315\n",
       "11      cmn      21738\n",
       "12       sv       9900\n",
       "13       he       7947\n",
       "14      yue       7596"
      ]
     },
     "execution_count": 8,
     "metadata": {},
     "output_type": "execute_result"
    }
   ],
   "source": [
    "df_akas_lang = df_akas.groupby('language').size().sort_values(ascending=False).reset_index(name='frequency')\n",
    "df_akas_lang.head(15)"
   ]
  },
  {
   "cell_type": "markdown",
   "id": "537ceb06",
   "metadata": {},
   "source": [
    "It shows that `ja` (Japanese) is the most popular language followed by `fr` (French), `hi` (Hindi), `es` (Espaniol) and so on. "
   ]
  },
  {
   "cell_type": "markdown",
   "id": "05c907f3",
   "metadata": {},
   "source": [
    "The number of languages a movie/TV show was out plays a role in IMDb ratings since the more number of languages a movie/TV show has, the more number of viewers, and thus more viewers would rate the movie/TV show, which influences its average rating. <br>\n",
    "Following this line of thought, we can generate a new column `num_of_lang` to represent the number of languages a movie/TV show has. "
   ]
  },
  {
   "cell_type": "code",
   "execution_count": 9,
   "id": "b7acd5b1",
   "metadata": {},
   "outputs": [
    {
     "data": {
      "text/html": [
       "<div>\n",
       "<style scoped>\n",
       "    .dataframe tbody tr th:only-of-type {\n",
       "        vertical-align: middle;\n",
       "    }\n",
       "\n",
       "    .dataframe tbody tr th {\n",
       "        vertical-align: top;\n",
       "    }\n",
       "\n",
       "    .dataframe thead th {\n",
       "        text-align: right;\n",
       "    }\n",
       "</style>\n",
       "<table border=\"1\" class=\"dataframe\">\n",
       "  <thead>\n",
       "    <tr style=\"text-align: right;\">\n",
       "      <th></th>\n",
       "      <th>titleId</th>\n",
       "      <th>ordering</th>\n",
       "      <th>region</th>\n",
       "      <th>language</th>\n",
       "      <th>types</th>\n",
       "    </tr>\n",
       "  </thead>\n",
       "  <tbody>\n",
       "    <tr>\n",
       "      <th>0</th>\n",
       "      <td>tt0000001</td>\n",
       "      <td>1</td>\n",
       "      <td>UA</td>\n",
       "      <td>NaN</td>\n",
       "      <td>imdbDisplay</td>\n",
       "    </tr>\n",
       "    <tr>\n",
       "      <th>1</th>\n",
       "      <td>tt0000001</td>\n",
       "      <td>2</td>\n",
       "      <td>DE</td>\n",
       "      <td>NaN</td>\n",
       "      <td>NaN</td>\n",
       "    </tr>\n",
       "    <tr>\n",
       "      <th>2</th>\n",
       "      <td>tt0000001</td>\n",
       "      <td>3</td>\n",
       "      <td>HU</td>\n",
       "      <td>NaN</td>\n",
       "      <td>imdbDisplay</td>\n",
       "    </tr>\n",
       "    <tr>\n",
       "      <th>3</th>\n",
       "      <td>tt0000001</td>\n",
       "      <td>4</td>\n",
       "      <td>GR</td>\n",
       "      <td>NaN</td>\n",
       "      <td>imdbDisplay</td>\n",
       "    </tr>\n",
       "    <tr>\n",
       "      <th>4</th>\n",
       "      <td>tt0000001</td>\n",
       "      <td>5</td>\n",
       "      <td>RU</td>\n",
       "      <td>NaN</td>\n",
       "      <td>imdbDisplay</td>\n",
       "    </tr>\n",
       "    <tr>\n",
       "      <th>5</th>\n",
       "      <td>tt0000001</td>\n",
       "      <td>6</td>\n",
       "      <td>US</td>\n",
       "      <td>NaN</td>\n",
       "      <td>imdbDisplay</td>\n",
       "    </tr>\n",
       "    <tr>\n",
       "      <th>6</th>\n",
       "      <td>tt0000001</td>\n",
       "      <td>7</td>\n",
       "      <td>NaN</td>\n",
       "      <td>NaN</td>\n",
       "      <td>original</td>\n",
       "    </tr>\n",
       "    <tr>\n",
       "      <th>7</th>\n",
       "      <td>tt0000001</td>\n",
       "      <td>8</td>\n",
       "      <td>JP</td>\n",
       "      <td>ja</td>\n",
       "      <td>imdbDisplay</td>\n",
       "    </tr>\n",
       "    <tr>\n",
       "      <th>8</th>\n",
       "      <td>tt0000002</td>\n",
       "      <td>1</td>\n",
       "      <td>NaN</td>\n",
       "      <td>NaN</td>\n",
       "      <td>original</td>\n",
       "    </tr>\n",
       "    <tr>\n",
       "      <th>9</th>\n",
       "      <td>tt0000002</td>\n",
       "      <td>2</td>\n",
       "      <td>FR</td>\n",
       "      <td>NaN</td>\n",
       "      <td>imdbDisplay</td>\n",
       "    </tr>\n",
       "    <tr>\n",
       "      <th>10</th>\n",
       "      <td>tt0000002</td>\n",
       "      <td>3</td>\n",
       "      <td>HU</td>\n",
       "      <td>NaN</td>\n",
       "      <td>imdbDisplay</td>\n",
       "    </tr>\n",
       "    <tr>\n",
       "      <th>11</th>\n",
       "      <td>tt0000002</td>\n",
       "      <td>4</td>\n",
       "      <td>DE</td>\n",
       "      <td>NaN</td>\n",
       "      <td>NaN</td>\n",
       "    </tr>\n",
       "    <tr>\n",
       "      <th>12</th>\n",
       "      <td>tt0000002</td>\n",
       "      <td>5</td>\n",
       "      <td>RO</td>\n",
       "      <td>NaN</td>\n",
       "      <td>imdbDisplay</td>\n",
       "    </tr>\n",
       "    <tr>\n",
       "      <th>13</th>\n",
       "      <td>tt0000002</td>\n",
       "      <td>6</td>\n",
       "      <td>RU</td>\n",
       "      <td>NaN</td>\n",
       "      <td>imdbDisplay</td>\n",
       "    </tr>\n",
       "    <tr>\n",
       "      <th>14</th>\n",
       "      <td>tt0000002</td>\n",
       "      <td>7</td>\n",
       "      <td>US</td>\n",
       "      <td>NaN</td>\n",
       "      <td>NaN</td>\n",
       "    </tr>\n",
       "    <tr>\n",
       "      <th>15</th>\n",
       "      <td>tt0000002</td>\n",
       "      <td>8</td>\n",
       "      <td>JP</td>\n",
       "      <td>ja</td>\n",
       "      <td>imdbDisplay</td>\n",
       "    </tr>\n",
       "    <tr>\n",
       "      <th>16</th>\n",
       "      <td>tt0000003</td>\n",
       "      <td>1</td>\n",
       "      <td>RO</td>\n",
       "      <td>NaN</td>\n",
       "      <td>imdbDisplay</td>\n",
       "    </tr>\n",
       "    <tr>\n",
       "      <th>17</th>\n",
       "      <td>tt0000003</td>\n",
       "      <td>2</td>\n",
       "      <td>HU</td>\n",
       "      <td>NaN</td>\n",
       "      <td>imdbDisplay</td>\n",
       "    </tr>\n",
       "    <tr>\n",
       "      <th>18</th>\n",
       "      <td>tt0000003</td>\n",
       "      <td>3</td>\n",
       "      <td>JP</td>\n",
       "      <td>ja</td>\n",
       "      <td>imdbDisplay</td>\n",
       "    </tr>\n",
       "    <tr>\n",
       "      <th>19</th>\n",
       "      <td>tt0000003</td>\n",
       "      <td>4</td>\n",
       "      <td>UA</td>\n",
       "      <td>NaN</td>\n",
       "      <td>imdbDisplay</td>\n",
       "    </tr>\n",
       "  </tbody>\n",
       "</table>\n",
       "</div>"
      ],
      "text/plain": [
       "      titleId  ordering region language        types\n",
       "0   tt0000001         1     UA      NaN  imdbDisplay\n",
       "1   tt0000001         2     DE      NaN          NaN\n",
       "2   tt0000001         3     HU      NaN  imdbDisplay\n",
       "3   tt0000001         4     GR      NaN  imdbDisplay\n",
       "4   tt0000001         5     RU      NaN  imdbDisplay\n",
       "5   tt0000001         6     US      NaN  imdbDisplay\n",
       "6   tt0000001         7    NaN      NaN     original\n",
       "7   tt0000001         8     JP       ja  imdbDisplay\n",
       "8   tt0000002         1    NaN      NaN     original\n",
       "9   tt0000002         2     FR      NaN  imdbDisplay\n",
       "10  tt0000002         3     HU      NaN  imdbDisplay\n",
       "11  tt0000002         4     DE      NaN          NaN\n",
       "12  tt0000002         5     RO      NaN  imdbDisplay\n",
       "13  tt0000002         6     RU      NaN  imdbDisplay\n",
       "14  tt0000002         7     US      NaN          NaN\n",
       "15  tt0000002         8     JP       ja  imdbDisplay\n",
       "16  tt0000003         1     RO      NaN  imdbDisplay\n",
       "17  tt0000003         2     HU      NaN  imdbDisplay\n",
       "18  tt0000003         3     JP       ja  imdbDisplay\n",
       "19  tt0000003         4     UA      NaN  imdbDisplay"
      ]
     },
     "execution_count": 9,
     "metadata": {},
     "output_type": "execute_result"
    }
   ],
   "source": [
    "df_akas.head(20)"
   ]
  },
  {
   "cell_type": "markdown",
   "id": "ec964c58",
   "metadata": {},
   "source": [
    "Note that for each unique `titleId`, there are duplicate rows and each row represents a region and thus a corresponding language. <br>\n",
    "Based on this info, we can get the number of languages for each movie/TV show and drop unrelevant columns (`region`, `language`, `types`)."
   ]
  },
  {
   "cell_type": "code",
   "execution_count": 10,
   "id": "bf6ba5ff",
   "metadata": {},
   "outputs": [],
   "source": [
    "df_akas.drop(labels=['region', 'language', 'types'], axis=1, inplace=True)"
   ]
  },
  {
   "cell_type": "code",
   "execution_count": 11,
   "id": "e2aa3d1a",
   "metadata": {},
   "outputs": [
    {
     "data": {
      "text/html": [
       "<div>\n",
       "<style scoped>\n",
       "    .dataframe tbody tr th:only-of-type {\n",
       "        vertical-align: middle;\n",
       "    }\n",
       "\n",
       "    .dataframe tbody tr th {\n",
       "        vertical-align: top;\n",
       "    }\n",
       "\n",
       "    .dataframe thead th {\n",
       "        text-align: right;\n",
       "    }\n",
       "</style>\n",
       "<table border=\"1\" class=\"dataframe\">\n",
       "  <thead>\n",
       "    <tr style=\"text-align: right;\">\n",
       "      <th></th>\n",
       "      <th>titleId</th>\n",
       "      <th>ordering</th>\n",
       "    </tr>\n",
       "  </thead>\n",
       "  <tbody>\n",
       "    <tr>\n",
       "      <th>0</th>\n",
       "      <td>tt0000001</td>\n",
       "      <td>1</td>\n",
       "    </tr>\n",
       "    <tr>\n",
       "      <th>1</th>\n",
       "      <td>tt0000001</td>\n",
       "      <td>2</td>\n",
       "    </tr>\n",
       "    <tr>\n",
       "      <th>2</th>\n",
       "      <td>tt0000001</td>\n",
       "      <td>3</td>\n",
       "    </tr>\n",
       "    <tr>\n",
       "      <th>3</th>\n",
       "      <td>tt0000001</td>\n",
       "      <td>4</td>\n",
       "    </tr>\n",
       "    <tr>\n",
       "      <th>4</th>\n",
       "      <td>tt0000001</td>\n",
       "      <td>5</td>\n",
       "    </tr>\n",
       "  </tbody>\n",
       "</table>\n",
       "</div>"
      ],
      "text/plain": [
       "     titleId  ordering\n",
       "0  tt0000001         1\n",
       "1  tt0000001         2\n",
       "2  tt0000001         3\n",
       "3  tt0000001         4\n",
       "4  tt0000001         5"
      ]
     },
     "execution_count": 11,
     "metadata": {},
     "output_type": "execute_result"
    }
   ],
   "source": [
    "df_akas.head()"
   ]
  },
  {
   "cell_type": "code",
   "execution_count": 12,
   "id": "c96e27a8",
   "metadata": {},
   "outputs": [
    {
     "data": {
      "text/html": [
       "<div>\n",
       "<style scoped>\n",
       "    .dataframe tbody tr th:only-of-type {\n",
       "        vertical-align: middle;\n",
       "    }\n",
       "\n",
       "    .dataframe tbody tr th {\n",
       "        vertical-align: top;\n",
       "    }\n",
       "\n",
       "    .dataframe thead th {\n",
       "        text-align: right;\n",
       "    }\n",
       "</style>\n",
       "<table border=\"1\" class=\"dataframe\">\n",
       "  <thead>\n",
       "    <tr style=\"text-align: right;\">\n",
       "      <th></th>\n",
       "      <th>titleId</th>\n",
       "      <th>num_of_lang</th>\n",
       "    </tr>\n",
       "  </thead>\n",
       "  <tbody>\n",
       "    <tr>\n",
       "      <th>0</th>\n",
       "      <td>tt0000001</td>\n",
       "      <td>1</td>\n",
       "    </tr>\n",
       "    <tr>\n",
       "      <th>1</th>\n",
       "      <td>tt0000001</td>\n",
       "      <td>2</td>\n",
       "    </tr>\n",
       "    <tr>\n",
       "      <th>2</th>\n",
       "      <td>tt0000001</td>\n",
       "      <td>3</td>\n",
       "    </tr>\n",
       "    <tr>\n",
       "      <th>3</th>\n",
       "      <td>tt0000001</td>\n",
       "      <td>4</td>\n",
       "    </tr>\n",
       "    <tr>\n",
       "      <th>4</th>\n",
       "      <td>tt0000001</td>\n",
       "      <td>5</td>\n",
       "    </tr>\n",
       "  </tbody>\n",
       "</table>\n",
       "</div>"
      ],
      "text/plain": [
       "     titleId  num_of_lang\n",
       "0  tt0000001            1\n",
       "1  tt0000001            2\n",
       "2  tt0000001            3\n",
       "3  tt0000001            4\n",
       "4  tt0000001            5"
      ]
     },
     "execution_count": 12,
     "metadata": {},
     "output_type": "execute_result"
    }
   ],
   "source": [
    "df_akas.rename(columns={'ordering': 'num_of_lang'}, inplace=True) # change the column name\n",
    "df_akas.head()"
   ]
  },
  {
   "cell_type": "code",
   "execution_count": 13,
   "id": "3ef106ec",
   "metadata": {},
   "outputs": [
    {
     "data": {
      "text/html": [
       "<div>\n",
       "<style scoped>\n",
       "    .dataframe tbody tr th:only-of-type {\n",
       "        vertical-align: middle;\n",
       "    }\n",
       "\n",
       "    .dataframe tbody tr th {\n",
       "        vertical-align: top;\n",
       "    }\n",
       "\n",
       "    .dataframe thead th {\n",
       "        text-align: right;\n",
       "    }\n",
       "</style>\n",
       "<table border=\"1\" class=\"dataframe\">\n",
       "  <thead>\n",
       "    <tr style=\"text-align: right;\">\n",
       "      <th></th>\n",
       "      <th>titleId</th>\n",
       "      <th>num_of_lang</th>\n",
       "    </tr>\n",
       "  </thead>\n",
       "  <tbody>\n",
       "    <tr>\n",
       "      <th>7</th>\n",
       "      <td>tt0000001</td>\n",
       "      <td>8</td>\n",
       "    </tr>\n",
       "    <tr>\n",
       "      <th>15</th>\n",
       "      <td>tt0000002</td>\n",
       "      <td>8</td>\n",
       "    </tr>\n",
       "    <tr>\n",
       "      <th>24</th>\n",
       "      <td>tt0000003</td>\n",
       "      <td>9</td>\n",
       "    </tr>\n",
       "    <tr>\n",
       "      <th>32</th>\n",
       "      <td>tt0000004</td>\n",
       "      <td>8</td>\n",
       "    </tr>\n",
       "    <tr>\n",
       "      <th>44</th>\n",
       "      <td>tt0000005</td>\n",
       "      <td>9</td>\n",
       "    </tr>\n",
       "  </tbody>\n",
       "</table>\n",
       "</div>"
      ],
      "text/plain": [
       "      titleId  num_of_lang\n",
       "7   tt0000001            8\n",
       "15  tt0000002            8\n",
       "24  tt0000003            9\n",
       "32  tt0000004            8\n",
       "44  tt0000005            9"
      ]
     },
     "execution_count": 13,
     "metadata": {},
     "output_type": "execute_result"
    }
   ],
   "source": [
    "# get rid of duplicates\n",
    "df_akas_final = df_akas.drop_duplicates(subset='titleId', keep='last')\n",
    "df_akas_final.head()"
   ]
  },
  {
   "cell_type": "code",
   "execution_count": 14,
   "id": "abd432c2",
   "metadata": {
    "scrolled": true
   },
   "outputs": [
    {
     "name": "stdout",
     "output_type": "stream",
     "text": [
      "The shape of original dataframe (df_akas) is (35165559, 2)\n",
      "The shape of the final dataframe (df_akas_final) is (6925445, 2)\n"
     ]
    }
   ],
   "source": [
    "print(f'The shape of original dataframe (df_akas) is {df_akas.shape}') \n",
    "print(f'The shape of the final dataframe (df_akas_final) is {df_akas_final.shape}')"
   ]
  },
  {
   "cell_type": "markdown",
   "id": "1c8b7a8c",
   "metadata": {},
   "source": [
    "Note that we reduce the dataframe size significantly by doing feature selection: dropping certain columns and creating a new feature column `num_of_lang`.\n",
    "\n",
    "Next, let's figure out what is **the most common number of languages** for a movie/TV show was produced in."
   ]
  },
  {
   "cell_type": "code",
   "execution_count": 15,
   "id": "51f7fff8",
   "metadata": {},
   "outputs": [
    {
     "data": {
      "text/plain": [
       "7     3998607\n",
       "2     1234008\n",
       "1     1144187\n",
       "3      255230\n",
       "9       97093\n",
       "4       81560\n",
       "5       62447\n",
       "6       35846\n",
       "8       16466\n",
       "99          1\n",
       "Name: num_of_lang, dtype: int64"
      ]
     },
     "execution_count": 15,
     "metadata": {},
     "output_type": "execute_result"
    }
   ],
   "source": [
    "df_akas_final['num_of_lang'].value_counts()"
   ]
  },
  {
   "cell_type": "code",
   "execution_count": 16,
   "id": "3651699e",
   "metadata": {},
   "outputs": [
    {
     "data": {
      "text/html": [
       "<div>\n",
       "<style scoped>\n",
       "    .dataframe tbody tr th:only-of-type {\n",
       "        vertical-align: middle;\n",
       "    }\n",
       "\n",
       "    .dataframe tbody tr th {\n",
       "        vertical-align: top;\n",
       "    }\n",
       "\n",
       "    .dataframe thead th {\n",
       "        text-align: right;\n",
       "    }\n",
       "</style>\n",
       "<table border=\"1\" class=\"dataframe\">\n",
       "  <thead>\n",
       "    <tr style=\"text-align: right;\">\n",
       "      <th></th>\n",
       "      <th>num_of_lang</th>\n",
       "    </tr>\n",
       "  </thead>\n",
       "  <tbody>\n",
       "    <tr>\n",
       "      <th>count</th>\n",
       "      <td>6.925445e+06</td>\n",
       "    </tr>\n",
       "    <tr>\n",
       "      <th>mean</th>\n",
       "      <td>4.942261e+00</td>\n",
       "    </tr>\n",
       "    <tr>\n",
       "      <th>std</th>\n",
       "      <td>2.639061e+00</td>\n",
       "    </tr>\n",
       "    <tr>\n",
       "      <th>min</th>\n",
       "      <td>1.000000e+00</td>\n",
       "    </tr>\n",
       "    <tr>\n",
       "      <th>25%</th>\n",
       "      <td>2.000000e+00</td>\n",
       "    </tr>\n",
       "    <tr>\n",
       "      <th>50%</th>\n",
       "      <td>7.000000e+00</td>\n",
       "    </tr>\n",
       "    <tr>\n",
       "      <th>75%</th>\n",
       "      <td>7.000000e+00</td>\n",
       "    </tr>\n",
       "    <tr>\n",
       "      <th>max</th>\n",
       "      <td>9.900000e+01</td>\n",
       "    </tr>\n",
       "  </tbody>\n",
       "</table>\n",
       "</div>"
      ],
      "text/plain": [
       "        num_of_lang\n",
       "count  6.925445e+06\n",
       "mean   4.942261e+00\n",
       "std    2.639061e+00\n",
       "min    1.000000e+00\n",
       "25%    2.000000e+00\n",
       "50%    7.000000e+00\n",
       "75%    7.000000e+00\n",
       "max    9.900000e+01"
      ]
     },
     "execution_count": 16,
     "metadata": {},
     "output_type": "execute_result"
    }
   ],
   "source": [
    "df_akas_final.describe()"
   ]
  },
  {
   "cell_type": "markdown",
   "id": "28cd9ee8",
   "metadata": {},
   "source": [
    "### <span style=\"color:green\">**Insights:**</span>\n",
    "1. Most movies/TV shows were produced in `7` languages, followed by `2` and `1` languages.\n",
    "2. The mean number of languages for a movie/TV show was produced is `4.94` (5 approximate).\n",
    "\n",
    "Since we are given multiple datasets for this project, let's look at them one by one to see what insights do they add to our understanding of the problem.\n",
    "\n",
    "Next, we will take a look at the `title.ratings.tsv` dataset, which contains the **Dependent Variable (averageRating)** for our ML model. \n",
    "\n",
    "### <span style=\"color:maroon\">title.ratings.tsv</span>\n",
    "– Contains the IMDb rating and votes information for titles\n",
    "\n",
    "`tconst` (string) - alphanumeric unique identifier of the title <br>\n",
    "`averageRating` – weighted average of all the individual user ratings <br>\n",
    "`numVotes` - number of votes the title has received\n",
    "\n",
    "We load all the columns since they are all important for the prediction goal. "
   ]
  },
  {
   "cell_type": "code",
   "execution_count": 17,
   "id": "064a5877",
   "metadata": {},
   "outputs": [],
   "source": [
    "df_ratings_dtype = {'tconst': 'str', 'averageRating': 'float', 'numVotes': 'int'}\n",
    "df_ratings_usecols = ['tconst', 'averageRating', 'numVotes']\n",
    "\n",
    "df_ratings = read_csv_file('./datasets/title.ratings.tsv', df_ratings_dtype, df_ratings_usecols)"
   ]
  },
  {
   "cell_type": "code",
   "execution_count": 18,
   "id": "de55ec2a",
   "metadata": {},
   "outputs": [
    {
     "data": {
      "text/html": [
       "<div>\n",
       "<style scoped>\n",
       "    .dataframe tbody tr th:only-of-type {\n",
       "        vertical-align: middle;\n",
       "    }\n",
       "\n",
       "    .dataframe tbody tr th {\n",
       "        vertical-align: top;\n",
       "    }\n",
       "\n",
       "    .dataframe thead th {\n",
       "        text-align: right;\n",
       "    }\n",
       "</style>\n",
       "<table border=\"1\" class=\"dataframe\">\n",
       "  <thead>\n",
       "    <tr style=\"text-align: right;\">\n",
       "      <th></th>\n",
       "      <th>tconst</th>\n",
       "      <th>averageRating</th>\n",
       "      <th>numVotes</th>\n",
       "    </tr>\n",
       "  </thead>\n",
       "  <tbody>\n",
       "    <tr>\n",
       "      <th>0</th>\n",
       "      <td>tt0000001</td>\n",
       "      <td>5.7</td>\n",
       "      <td>1958</td>\n",
       "    </tr>\n",
       "    <tr>\n",
       "      <th>1</th>\n",
       "      <td>tt0000002</td>\n",
       "      <td>5.8</td>\n",
       "      <td>263</td>\n",
       "    </tr>\n",
       "    <tr>\n",
       "      <th>2</th>\n",
       "      <td>tt0000003</td>\n",
       "      <td>6.5</td>\n",
       "      <td>1791</td>\n",
       "    </tr>\n",
       "    <tr>\n",
       "      <th>3</th>\n",
       "      <td>tt0000004</td>\n",
       "      <td>5.6</td>\n",
       "      <td>179</td>\n",
       "    </tr>\n",
       "    <tr>\n",
       "      <th>4</th>\n",
       "      <td>tt0000005</td>\n",
       "      <td>6.2</td>\n",
       "      <td>2594</td>\n",
       "    </tr>\n",
       "  </tbody>\n",
       "</table>\n",
       "</div>"
      ],
      "text/plain": [
       "      tconst  averageRating  numVotes\n",
       "0  tt0000001            5.7      1958\n",
       "1  tt0000002            5.8       263\n",
       "2  tt0000003            6.5      1791\n",
       "3  tt0000004            5.6       179\n",
       "4  tt0000005            6.2      2594"
      ]
     },
     "execution_count": 18,
     "metadata": {},
     "output_type": "execute_result"
    }
   ],
   "source": [
    "df_ratings.head()"
   ]
  },
  {
   "cell_type": "code",
   "execution_count": 19,
   "id": "caa6a552",
   "metadata": {},
   "outputs": [
    {
     "data": {
      "text/html": [
       "<div>\n",
       "<style scoped>\n",
       "    .dataframe tbody tr th:only-of-type {\n",
       "        vertical-align: middle;\n",
       "    }\n",
       "\n",
       "    .dataframe tbody tr th {\n",
       "        vertical-align: top;\n",
       "    }\n",
       "\n",
       "    .dataframe thead th {\n",
       "        text-align: right;\n",
       "    }\n",
       "</style>\n",
       "<table border=\"1\" class=\"dataframe\">\n",
       "  <thead>\n",
       "    <tr style=\"text-align: right;\">\n",
       "      <th></th>\n",
       "      <th>tconst</th>\n",
       "      <th>averageRating</th>\n",
       "      <th>numVotes</th>\n",
       "    </tr>\n",
       "  </thead>\n",
       "  <tbody>\n",
       "    <tr>\n",
       "      <th>1286104</th>\n",
       "      <td>tt9916730</td>\n",
       "      <td>8.3</td>\n",
       "      <td>10</td>\n",
       "    </tr>\n",
       "    <tr>\n",
       "      <th>1286105</th>\n",
       "      <td>tt9916766</td>\n",
       "      <td>7.0</td>\n",
       "      <td>21</td>\n",
       "    </tr>\n",
       "    <tr>\n",
       "      <th>1286106</th>\n",
       "      <td>tt9916778</td>\n",
       "      <td>7.2</td>\n",
       "      <td>36</td>\n",
       "    </tr>\n",
       "    <tr>\n",
       "      <th>1286107</th>\n",
       "      <td>tt9916840</td>\n",
       "      <td>8.8</td>\n",
       "      <td>6</td>\n",
       "    </tr>\n",
       "    <tr>\n",
       "      <th>1286108</th>\n",
       "      <td>tt9916880</td>\n",
       "      <td>8.2</td>\n",
       "      <td>6</td>\n",
       "    </tr>\n",
       "  </tbody>\n",
       "</table>\n",
       "</div>"
      ],
      "text/plain": [
       "            tconst  averageRating  numVotes\n",
       "1286104  tt9916730            8.3        10\n",
       "1286105  tt9916766            7.0        21\n",
       "1286106  tt9916778            7.2        36\n",
       "1286107  tt9916840            8.8         6\n",
       "1286108  tt9916880            8.2         6"
      ]
     },
     "execution_count": 19,
     "metadata": {},
     "output_type": "execute_result"
    }
   ],
   "source": [
    "df_ratings.tail()"
   ]
  },
  {
   "cell_type": "code",
   "execution_count": 20,
   "id": "cb8a12d3",
   "metadata": {},
   "outputs": [
    {
     "data": {
      "text/plain": [
       "(1286109, 3)"
      ]
     },
     "execution_count": 20,
     "metadata": {},
     "output_type": "execute_result"
    }
   ],
   "source": [
    "df_ratings.shape"
   ]
  },
  {
   "cell_type": "code",
   "execution_count": 21,
   "id": "0afdf48a",
   "metadata": {},
   "outputs": [
    {
     "data": {
      "text/plain": [
       "tconst  averageRating  numVotes\n",
       "False   False          False       1286109\n",
       "dtype: int64"
      ]
     },
     "execution_count": 21,
     "metadata": {},
     "output_type": "execute_result"
    }
   ],
   "source": [
    "df_ratings.isnull().value_counts()"
   ]
  },
  {
   "cell_type": "markdown",
   "id": "f5c888cc",
   "metadata": {},
   "source": [
    "There are no `NaN` values in this dataset."
   ]
  },
  {
   "cell_type": "code",
   "execution_count": 22,
   "id": "7f04cc37",
   "metadata": {},
   "outputs": [
    {
     "data": {
      "text/plain": [
       "1286109"
      ]
     },
     "execution_count": 22,
     "metadata": {},
     "output_type": "execute_result"
    }
   ],
   "source": [
    "len(df_ratings['tconst'].unique())"
   ]
  },
  {
   "cell_type": "markdown",
   "id": "650ad5a8",
   "metadata": {},
   "source": [
    "Since there are `1286109` rows in this dataset and the number of unique values in the column `tconst` is `1286109`, there are no duplicates of `tconst` in this datset.\n",
    "\n",
    "Let's plot a histogram to show the averageRating distribution."
   ]
  },
  {
   "cell_type": "code",
   "execution_count": 23,
   "id": "236938e5",
   "metadata": {
    "scrolled": false
   },
   "outputs": [
    {
     "data": {
      "image/png": "[encoded data removed]",
      "text/plain": [
       "<Figure size 1000x600 with 1 Axes>"
      ]
     },
     "metadata": {},
     "output_type": "display_data"
    }
   ],
   "source": [
    "plt.figure(figsize=(10,6))\n",
    "plt.hist(df_ratings['averageRating'], bins=80)\n",
    "plt.grid('ON')\n",
    "plt.xlabel('averageRating')\n",
    "plt.ylabel('Frequency')\n",
    "plt.title('Histogram of averageRating Distribution');"
   ]
  },
  {
   "cell_type": "markdown",
   "id": "b03c9016",
   "metadata": {},
   "source": [
    "Since the `averageRating` and `numVotes` columns are numerical values, we can calculate the summary statistics."
   ]
  },
  {
   "cell_type": "code",
   "execution_count": 24,
   "id": "4ab06fb8",
   "metadata": {},
   "outputs": [
    {
     "data": {
      "text/html": [
       "<div>\n",
       "<style scoped>\n",
       "    .dataframe tbody tr th:only-of-type {\n",
       "        vertical-align: middle;\n",
       "    }\n",
       "\n",
       "    .dataframe tbody tr th {\n",
       "        vertical-align: top;\n",
       "    }\n",
       "\n",
       "    .dataframe thead th {\n",
       "        text-align: right;\n",
       "    }\n",
       "</style>\n",
       "<table border=\"1\" class=\"dataframe\">\n",
       "  <thead>\n",
       "    <tr style=\"text-align: right;\">\n",
       "      <th></th>\n",
       "      <th>averageRating</th>\n",
       "      <th>numVotes</th>\n",
       "    </tr>\n",
       "  </thead>\n",
       "  <tbody>\n",
       "    <tr>\n",
       "      <th>count</th>\n",
       "      <td>1.286109e+06</td>\n",
       "      <td>1.286109e+06</td>\n",
       "    </tr>\n",
       "    <tr>\n",
       "      <th>mean</th>\n",
       "      <td>6.949707e+00</td>\n",
       "      <td>1.041075e+03</td>\n",
       "    </tr>\n",
       "    <tr>\n",
       "      <th>std</th>\n",
       "      <td>1.385453e+00</td>\n",
       "      <td>1.739146e+04</td>\n",
       "    </tr>\n",
       "    <tr>\n",
       "      <th>min</th>\n",
       "      <td>1.000000e+00</td>\n",
       "      <td>5.000000e+00</td>\n",
       "    </tr>\n",
       "    <tr>\n",
       "      <th>25%</th>\n",
       "      <td>6.200000e+00</td>\n",
       "      <td>1.100000e+01</td>\n",
       "    </tr>\n",
       "    <tr>\n",
       "      <th>50%</th>\n",
       "      <td>7.100000e+00</td>\n",
       "      <td>2.600000e+01</td>\n",
       "    </tr>\n",
       "    <tr>\n",
       "      <th>75%</th>\n",
       "      <td>7.900000e+00</td>\n",
       "      <td>1.010000e+02</td>\n",
       "    </tr>\n",
       "    <tr>\n",
       "      <th>max</th>\n",
       "      <td>1.000000e+01</td>\n",
       "      <td>2.709711e+06</td>\n",
       "    </tr>\n",
       "  </tbody>\n",
       "</table>\n",
       "</div>"
      ],
      "text/plain": [
       "       averageRating      numVotes\n",
       "count   1.286109e+06  1.286109e+06\n",
       "mean    6.949707e+00  1.041075e+03\n",
       "std     1.385453e+00  1.739146e+04\n",
       "min     1.000000e+00  5.000000e+00\n",
       "25%     6.200000e+00  1.100000e+01\n",
       "50%     7.100000e+00  2.600000e+01\n",
       "75%     7.900000e+00  1.010000e+02\n",
       "max     1.000000e+01  2.709711e+06"
      ]
     },
     "execution_count": 24,
     "metadata": {},
     "output_type": "execute_result"
    }
   ],
   "source": [
    "df_ratings.describe()"
   ]
  },
  {
   "cell_type": "markdown",
   "id": "89fed38d",
   "metadata": {},
   "source": [
    "### <span style=\"color:green\">**Insights:**</span>\n",
    "1. The dependent variable `averageRating` is a continuous numerical variable with a mean of `6.95` and standard deviation of `1.39`. The IMDb rating varies from a minimum of `1.0` to a maximum of `10.0`.\n",
    "2. `numVotes` is a continuous numerical variable with a mean of `1041.1` and standard deviation of `17391.5`. The number of votes varies from a minimum of `5` to a maximum of `2709711`. This indicates that the `numVotes` column has pretty spreadout values with a huge standard deviation and thus is likely to contain outliers.\n",
    "\n",
    "Next, we will take a look at `title.basics.tsv` dataset.\n",
    "\n",
    "### <span style=\"color:maroon\">title.basics.tsv</span>\n",
    "- Contains the following information for titles:\n",
    "\n",
    "`tconst` (string) - alphanumeric unique identifier of the title <br>\n",
    "`titleType` (string) – the type/format of the title (e.g. movie, short, tvseries, tvepisode, video, etc) <br>\n",
    "`primaryTitle` (string) – the more popular title / the title used by the filmmakers on promotional materials at the point of release <br>\n",
    "`originalTitle` (string) - original title, in the original language <br>\n",
    "`isAdult` (boolean) - 0: non-adult title; 1: adult title <br>\n",
    "`startYear` (YYYY) – represents the release year of a title. In the case of TV Series, it is the series start year <br>\n",
    "`endYear` (YYYY) – TV Series end year. ‘\\N’ for all other title types <br>\n",
    "`runtimeMinutes` – primary runtime of the title, in minutes <br>\n",
    "`genres` (string array) – includes up to three genres associated with the title <br>\n",
    "\n",
    "Among all the feature columns in this dataset, we think the column `tconst`, `isAdult`, `startYear`, `endYear`, `runtimeMinutes`, `genres` play a key role in the IMDb ratings. Thus we drop all the other columns.\n",
    "\n",
    "#### <span style=\"color:blue\">**Things of interest:**</span>\n",
    "1. Since the objective of this project is to predict IMDb ratings, so we will perform `inner join` of `title.basics.tsv` with `df_ratings` to make sure that we only keep data with available `averageRating`.\n",
    "2. Generate a new column `num_years=(endYear - startYear)` to replace 2 columns in the original dataset. This newly added column can be used directly as the input our ML models later.\n",
    "3. The `genres` column is a categorical variable. So we will perform `one-hot encoding` to convert it into a numerical value so that it can be used as an input to our ML models."
   ]
  },
  {
   "cell_type": "code",
   "execution_count": 25,
   "id": "b5bf9968",
   "metadata": {},
   "outputs": [],
   "source": [
    "df_titleBasics_dtype = {'tconst': 'str', 'isAdult': 'float', 'startYear': 'str', 'endYear': 'str', 'runtimeMinutes': 'str', 'genres': 'str'}\n",
    "df_titleBasics_usecols = ['tconst', 'isAdult', 'startYear', 'endYear', 'runtimeMinutes', 'genres']\n",
    "\n",
    "# df_titleBasics = read_csv_file('./datasets/title.basics.tsv', df_titleBasics_dtype, df_titleBasics_usecols)\n",
    "df_titleBasics = pd.read_csv('./datasets/title.basics.tsv', sep='\\t',index_col=False, na_values =\"\\\\N\", usecols=df_titleBasics_usecols) "
   ]
  },
  {
   "cell_type": "code",
   "execution_count": 26,
   "id": "6e3abe80",
   "metadata": {},
   "outputs": [
    {
     "data": {
      "text/html": [
       "<div>\n",
       "<style scoped>\n",
       "    .dataframe tbody tr th:only-of-type {\n",
       "        vertical-align: middle;\n",
       "    }\n",
       "\n",
       "    .dataframe tbody tr th {\n",
       "        vertical-align: top;\n",
       "    }\n",
       "\n",
       "    .dataframe thead th {\n",
       "        text-align: right;\n",
       "    }\n",
       "</style>\n",
       "<table border=\"1\" class=\"dataframe\">\n",
       "  <thead>\n",
       "    <tr style=\"text-align: right;\">\n",
       "      <th></th>\n",
       "      <th>tconst</th>\n",
       "      <th>isAdult</th>\n",
       "      <th>startYear</th>\n",
       "      <th>endYear</th>\n",
       "      <th>runtimeMinutes</th>\n",
       "      <th>genres</th>\n",
       "    </tr>\n",
       "  </thead>\n",
       "  <tbody>\n",
       "    <tr>\n",
       "      <th>0</th>\n",
       "      <td>tt0000001</td>\n",
       "      <td>0.0</td>\n",
       "      <td>1894.0</td>\n",
       "      <td>NaN</td>\n",
       "      <td>1.0</td>\n",
       "      <td>Documentary,Short</td>\n",
       "    </tr>\n",
       "    <tr>\n",
       "      <th>1</th>\n",
       "      <td>tt0000002</td>\n",
       "      <td>0.0</td>\n",
       "      <td>1892.0</td>\n",
       "      <td>NaN</td>\n",
       "      <td>5.0</td>\n",
       "      <td>Animation,Short</td>\n",
       "    </tr>\n",
       "    <tr>\n",
       "      <th>2</th>\n",
       "      <td>tt0000003</td>\n",
       "      <td>0.0</td>\n",
       "      <td>1892.0</td>\n",
       "      <td>NaN</td>\n",
       "      <td>4.0</td>\n",
       "      <td>Animation,Comedy,Romance</td>\n",
       "    </tr>\n",
       "    <tr>\n",
       "      <th>3</th>\n",
       "      <td>tt0000004</td>\n",
       "      <td>0.0</td>\n",
       "      <td>1892.0</td>\n",
       "      <td>NaN</td>\n",
       "      <td>12.0</td>\n",
       "      <td>Animation,Short</td>\n",
       "    </tr>\n",
       "    <tr>\n",
       "      <th>4</th>\n",
       "      <td>tt0000005</td>\n",
       "      <td>0.0</td>\n",
       "      <td>1893.0</td>\n",
       "      <td>NaN</td>\n",
       "      <td>1.0</td>\n",
       "      <td>Comedy,Short</td>\n",
       "    </tr>\n",
       "  </tbody>\n",
       "</table>\n",
       "</div>"
      ],
      "text/plain": [
       "      tconst  isAdult  startYear  endYear runtimeMinutes  \\\n",
       "0  tt0000001      0.0     1894.0      NaN            1.0   \n",
       "1  tt0000002      0.0     1892.0      NaN            5.0   \n",
       "2  tt0000003      0.0     1892.0      NaN            4.0   \n",
       "3  tt0000004      0.0     1892.0      NaN           12.0   \n",
       "4  tt0000005      0.0     1893.0      NaN            1.0   \n",
       "\n",
       "                     genres  \n",
       "0         Documentary,Short  \n",
       "1           Animation,Short  \n",
       "2  Animation,Comedy,Romance  \n",
       "3           Animation,Short  \n",
       "4              Comedy,Short  "
      ]
     },
     "execution_count": 26,
     "metadata": {},
     "output_type": "execute_result"
    }
   ],
   "source": [
    "df_titleBasics.head()"
   ]
  },
  {
   "cell_type": "code",
   "execution_count": 27,
   "id": "9614fdec",
   "metadata": {},
   "outputs": [
    {
     "name": "stdout",
     "output_type": "stream",
     "text": [
      "<class 'pandas.core.frame.DataFrame'>\n",
      "RangeIndex: 9669713 entries, 0 to 9669712\n",
      "Data columns (total 6 columns):\n",
      " #   Column          Dtype  \n",
      "---  ------          -----  \n",
      " 0   tconst          object \n",
      " 1   isAdult         float64\n",
      " 2   startYear       float64\n",
      " 3   endYear         float64\n",
      " 4   runtimeMinutes  object \n",
      " 5   genres          object \n",
      "dtypes: float64(3), object(3)\n",
      "memory usage: 442.6+ MB\n"
     ]
    }
   ],
   "source": [
    "df_titleBasics.info() # check data types"
   ]
  },
  {
   "cell_type": "code",
   "execution_count": 28,
   "id": "7e95ba55",
   "metadata": {},
   "outputs": [
    {
     "data": {
      "text/plain": [
       "(9669713, 6)"
      ]
     },
     "execution_count": 28,
     "metadata": {},
     "output_type": "execute_result"
    }
   ],
   "source": [
    "df_titleBasics.shape"
   ]
  },
  {
   "cell_type": "markdown",
   "id": "86c5927e",
   "metadata": {},
   "source": [
    "Perform an `inner join` on the two DataFrames (`df_ratings, df_titleBasics`) to obtain a DataFrame of moives/TV shows that have IMDb ratings."
   ]
  },
  {
   "cell_type": "code",
   "execution_count": 29,
   "id": "97da15f5",
   "metadata": {},
   "outputs": [
    {
     "data": {
      "text/html": [
       "<div>\n",
       "<style scoped>\n",
       "    .dataframe tbody tr th:only-of-type {\n",
       "        vertical-align: middle;\n",
       "    }\n",
       "\n",
       "    .dataframe tbody tr th {\n",
       "        vertical-align: top;\n",
       "    }\n",
       "\n",
       "    .dataframe thead th {\n",
       "        text-align: right;\n",
       "    }\n",
       "</style>\n",
       "<table border=\"1\" class=\"dataframe\">\n",
       "  <thead>\n",
       "    <tr style=\"text-align: right;\">\n",
       "      <th></th>\n",
       "      <th>tconst</th>\n",
       "      <th>averageRating</th>\n",
       "      <th>numVotes</th>\n",
       "      <th>isAdult</th>\n",
       "      <th>startYear</th>\n",
       "      <th>endYear</th>\n",
       "      <th>runtimeMinutes</th>\n",
       "      <th>genres</th>\n",
       "    </tr>\n",
       "  </thead>\n",
       "  <tbody>\n",
       "    <tr>\n",
       "      <th>0</th>\n",
       "      <td>tt0000001</td>\n",
       "      <td>5.7</td>\n",
       "      <td>1958</td>\n",
       "      <td>0.0</td>\n",
       "      <td>1894.0</td>\n",
       "      <td>NaN</td>\n",
       "      <td>1.0</td>\n",
       "      <td>Documentary,Short</td>\n",
       "    </tr>\n",
       "    <tr>\n",
       "      <th>1</th>\n",
       "      <td>tt0000002</td>\n",
       "      <td>5.8</td>\n",
       "      <td>263</td>\n",
       "      <td>0.0</td>\n",
       "      <td>1892.0</td>\n",
       "      <td>NaN</td>\n",
       "      <td>5.0</td>\n",
       "      <td>Animation,Short</td>\n",
       "    </tr>\n",
       "    <tr>\n",
       "      <th>2</th>\n",
       "      <td>tt0000003</td>\n",
       "      <td>6.5</td>\n",
       "      <td>1791</td>\n",
       "      <td>0.0</td>\n",
       "      <td>1892.0</td>\n",
       "      <td>NaN</td>\n",
       "      <td>4.0</td>\n",
       "      <td>Animation,Comedy,Romance</td>\n",
       "    </tr>\n",
       "    <tr>\n",
       "      <th>3</th>\n",
       "      <td>tt0000004</td>\n",
       "      <td>5.6</td>\n",
       "      <td>179</td>\n",
       "      <td>0.0</td>\n",
       "      <td>1892.0</td>\n",
       "      <td>NaN</td>\n",
       "      <td>12.0</td>\n",
       "      <td>Animation,Short</td>\n",
       "    </tr>\n",
       "    <tr>\n",
       "      <th>4</th>\n",
       "      <td>tt0000005</td>\n",
       "      <td>6.2</td>\n",
       "      <td>2594</td>\n",
       "      <td>0.0</td>\n",
       "      <td>1893.0</td>\n",
       "      <td>NaN</td>\n",
       "      <td>1.0</td>\n",
       "      <td>Comedy,Short</td>\n",
       "    </tr>\n",
       "  </tbody>\n",
       "</table>\n",
       "</div>"
      ],
      "text/plain": [
       "      tconst  averageRating  numVotes  isAdult  startYear  endYear  \\\n",
       "0  tt0000001            5.7      1958      0.0     1894.0      NaN   \n",
       "1  tt0000002            5.8       263      0.0     1892.0      NaN   \n",
       "2  tt0000003            6.5      1791      0.0     1892.0      NaN   \n",
       "3  tt0000004            5.6       179      0.0     1892.0      NaN   \n",
       "4  tt0000005            6.2      2594      0.0     1893.0      NaN   \n",
       "\n",
       "  runtimeMinutes                    genres  \n",
       "0            1.0         Documentary,Short  \n",
       "1            5.0           Animation,Short  \n",
       "2            4.0  Animation,Comedy,Romance  \n",
       "3           12.0           Animation,Short  \n",
       "4            1.0              Comedy,Short  "
      ]
     },
     "execution_count": 29,
     "metadata": {},
     "output_type": "execute_result"
    }
   ],
   "source": [
    "df_merge = pd.merge(df_ratings, df_titleBasics, how='inner', on='tconst')\n",
    "df_merge.head()"
   ]
  },
  {
   "cell_type": "code",
   "execution_count": 30,
   "id": "5b2d0e33",
   "metadata": {},
   "outputs": [
    {
     "data": {
      "text/plain": [
       "(1286107, 8)"
      ]
     },
     "execution_count": 30,
     "metadata": {},
     "output_type": "execute_result"
    }
   ],
   "source": [
    "df_merge.shape"
   ]
  },
  {
   "cell_type": "code",
   "execution_count": 31,
   "id": "2a90e6d3",
   "metadata": {},
   "outputs": [
    {
     "name": "stdout",
     "output_type": "stream",
     "text": [
      "The shape of the df_titleBasics dataframe before merge is (9669713, 6)\n",
      "The shape of the merged dataframe is (1286107, 8)\n"
     ]
    }
   ],
   "source": [
    "print(f'The shape of the df_titleBasics dataframe before merge is {df_titleBasics.shape}')\n",
    "print(f'The shape of the merged dataframe is {df_merge.shape}')"
   ]
  },
  {
   "cell_type": "markdown",
   "id": "924e072d",
   "metadata": {},
   "source": [
    "Through merging these two datasets by `inner join`, the number of rows are greatly reduced.\n",
    "\n",
    "Let's explore other columns in df_merge to check for `NaN` values."
   ]
  },
  {
   "cell_type": "code",
   "execution_count": 32,
   "id": "b9fca8b6",
   "metadata": {},
   "outputs": [
    {
     "data": {
      "text/plain": [
       "False    1286107\n",
       "Name: isAdult, dtype: int64"
      ]
     },
     "execution_count": 32,
     "metadata": {},
     "output_type": "execute_result"
    }
   ],
   "source": [
    "df_merge['isAdult'].isnull().value_counts()"
   ]
  },
  {
   "cell_type": "markdown",
   "id": "065001bc",
   "metadata": {},
   "source": [
    "This shows that there are no `NaN` values in the `isAdult` column."
   ]
  },
  {
   "cell_type": "code",
   "execution_count": 33,
   "id": "faf01599",
   "metadata": {},
   "outputs": [
    {
     "data": {
      "text/plain": [
       "False    1285853\n",
       "True         254\n",
       "Name: startYear, dtype: int64"
      ]
     },
     "execution_count": 33,
     "metadata": {},
     "output_type": "execute_result"
    }
   ],
   "source": [
    "df_merge['startYear'].isna().value_counts()"
   ]
  },
  {
   "cell_type": "markdown",
   "id": "bb12be1a",
   "metadata": {},
   "source": [
    "This shows that there are `254 NaN` values in the `startYear` column. Since later we will generate a new column (`num_years = endYear - startYear`), we drop these `NaN` rows."
   ]
  },
  {
   "cell_type": "code",
   "execution_count": 34,
   "id": "668e8d36",
   "metadata": {},
   "outputs": [],
   "source": [
    "df_merge = df_merge[df_merge['startYear'].notnull()]"
   ]
  },
  {
   "cell_type": "code",
   "execution_count": 35,
   "id": "1d1766f6",
   "metadata": {},
   "outputs": [
    {
     "name": "stdout",
     "output_type": "stream",
     "text": [
      "The shape df_merge after dropping NaN rows in the \"startYear\" column is (1285853, 8)\n"
     ]
    }
   ],
   "source": [
    "print(f'The shape df_merge after dropping NaN rows in the \"startYear\" column is {df_merge.shape}')"
   ]
  },
  {
   "cell_type": "markdown",
   "id": "e60c08cd",
   "metadata": {},
   "source": [
    "Let's check the `endYear` column for `NaN` values."
   ]
  },
  {
   "cell_type": "code",
   "execution_count": 36,
   "id": "b8876225",
   "metadata": {},
   "outputs": [
    {
     "data": {
      "text/plain": [
       "True     1241618\n",
       "False      44235\n",
       "Name: endYear, dtype: int64"
      ]
     },
     "execution_count": 36,
     "metadata": {},
     "output_type": "execute_result"
    }
   ],
   "source": [
    "df_merge['endYear'].isnull().value_counts()"
   ]
  },
  {
   "cell_type": "markdown",
   "id": "62c26f98",
   "metadata": {},
   "source": [
    "Note that for the `endYear` column, there are way more `NaN` values than non-NaN values. This may be because these are movies and thus do not have an end date like a TV show does.\n",
    "\n",
    "<span style=\"color:green\">**Assumption:** Since the objective of this project is to predict IMDb ratings for movies, we will drop the rows which do not have `NaN` values in the `endYear` column.</span>"
   ]
  },
  {
   "cell_type": "code",
   "execution_count": 37,
   "id": "8e5d91f6",
   "metadata": {},
   "outputs": [
    {
     "data": {
      "text/plain": [
       "(1241618, 8)"
      ]
     },
     "execution_count": 37,
     "metadata": {},
     "output_type": "execute_result"
    }
   ],
   "source": [
    "df_merge = df_merge[df_merge['endYear'].isnull()]\n",
    "df_merge.shape"
   ]
  },
  {
   "cell_type": "markdown",
   "id": "943bbdeb",
   "metadata": {},
   "source": [
    "Through above processing, we get rid of rows related to TV shows which do have end dates.\n",
    "\n",
    "Let's set the datatypes for the column so that we can calculate the summary statistics such as mean, std, etc."
   ]
  },
  {
   "cell_type": "code",
   "execution_count": 38,
   "id": "9b2a9e1f",
   "metadata": {},
   "outputs": [],
   "source": [
    "df_merge = df_merge.astype({'tconst': 'str', 'averageRating': 'float', 'numVotes': 'float', 'isAdult': 'float', 'runtimeMinutes': 'float'})"
   ]
  },
  {
   "cell_type": "code",
   "execution_count": 39,
   "id": "a2cc98d4",
   "metadata": {},
   "outputs": [
    {
     "data": {
      "text/html": [
       "<div>\n",
       "<style scoped>\n",
       "    .dataframe tbody tr th:only-of-type {\n",
       "        vertical-align: middle;\n",
       "    }\n",
       "\n",
       "    .dataframe tbody tr th {\n",
       "        vertical-align: top;\n",
       "    }\n",
       "\n",
       "    .dataframe thead th {\n",
       "        text-align: right;\n",
       "    }\n",
       "</style>\n",
       "<table border=\"1\" class=\"dataframe\">\n",
       "  <thead>\n",
       "    <tr style=\"text-align: right;\">\n",
       "      <th></th>\n",
       "      <th>averageRating</th>\n",
       "      <th>numVotes</th>\n",
       "      <th>isAdult</th>\n",
       "      <th>startYear</th>\n",
       "      <th>endYear</th>\n",
       "      <th>runtimeMinutes</th>\n",
       "    </tr>\n",
       "  </thead>\n",
       "  <tbody>\n",
       "    <tr>\n",
       "      <th>count</th>\n",
       "      <td>1.241618e+06</td>\n",
       "      <td>1.241618e+06</td>\n",
       "      <td>1.241618e+06</td>\n",
       "      <td>1.241618e+06</td>\n",
       "      <td>0.0</td>\n",
       "      <td>893994.000000</td>\n",
       "    </tr>\n",
       "    <tr>\n",
       "      <th>mean</th>\n",
       "      <td>6.949549e+00</td>\n",
       "      <td>9.874915e+02</td>\n",
       "      <td>1.599123e-02</td>\n",
       "      <td>2.002024e+03</td>\n",
       "      <td>NaN</td>\n",
       "      <td>55.915805</td>\n",
       "    </tr>\n",
       "    <tr>\n",
       "      <th>std</th>\n",
       "      <td>1.387738e+00</td>\n",
       "      <td>1.704810e+04</td>\n",
       "      <td>1.254413e-01</td>\n",
       "      <td>2.138494e+01</td>\n",
       "      <td>NaN</td>\n",
       "      <td>114.231160</td>\n",
       "    </tr>\n",
       "    <tr>\n",
       "      <th>min</th>\n",
       "      <td>1.000000e+00</td>\n",
       "      <td>5.000000e+00</td>\n",
       "      <td>0.000000e+00</td>\n",
       "      <td>1.874000e+03</td>\n",
       "      <td>NaN</td>\n",
       "      <td>0.000000</td>\n",
       "    </tr>\n",
       "    <tr>\n",
       "      <th>25%</th>\n",
       "      <td>6.200000e+00</td>\n",
       "      <td>1.100000e+01</td>\n",
       "      <td>0.000000e+00</td>\n",
       "      <td>1.996000e+03</td>\n",
       "      <td>NaN</td>\n",
       "      <td>23.000000</td>\n",
       "    </tr>\n",
       "    <tr>\n",
       "      <th>50%</th>\n",
       "      <td>7.100000e+00</td>\n",
       "      <td>2.500000e+01</td>\n",
       "      <td>0.000000e+00</td>\n",
       "      <td>2.010000e+03</td>\n",
       "      <td>NaN</td>\n",
       "      <td>45.000000</td>\n",
       "    </tr>\n",
       "    <tr>\n",
       "      <th>75%</th>\n",
       "      <td>7.900000e+00</td>\n",
       "      <td>9.700000e+01</td>\n",
       "      <td>0.000000e+00</td>\n",
       "      <td>2.017000e+03</td>\n",
       "      <td>NaN</td>\n",
       "      <td>86.000000</td>\n",
       "    </tr>\n",
       "    <tr>\n",
       "      <th>max</th>\n",
       "      <td>1.000000e+01</td>\n",
       "      <td>2.709711e+06</td>\n",
       "      <td>1.000000e+00</td>\n",
       "      <td>2.023000e+03</td>\n",
       "      <td>NaN</td>\n",
       "      <td>59460.000000</td>\n",
       "    </tr>\n",
       "  </tbody>\n",
       "</table>\n",
       "</div>"
      ],
      "text/plain": [
       "       averageRating      numVotes       isAdult     startYear  endYear  \\\n",
       "count   1.241618e+06  1.241618e+06  1.241618e+06  1.241618e+06      0.0   \n",
       "mean    6.949549e+00  9.874915e+02  1.599123e-02  2.002024e+03      NaN   \n",
       "std     1.387738e+00  1.704810e+04  1.254413e-01  2.138494e+01      NaN   \n",
       "min     1.000000e+00  5.000000e+00  0.000000e+00  1.874000e+03      NaN   \n",
       "25%     6.200000e+00  1.100000e+01  0.000000e+00  1.996000e+03      NaN   \n",
       "50%     7.100000e+00  2.500000e+01  0.000000e+00  2.010000e+03      NaN   \n",
       "75%     7.900000e+00  9.700000e+01  0.000000e+00  2.017000e+03      NaN   \n",
       "max     1.000000e+01  2.709711e+06  1.000000e+00  2.023000e+03      NaN   \n",
       "\n",
       "       runtimeMinutes  \n",
       "count   893994.000000  \n",
       "mean        55.915805  \n",
       "std        114.231160  \n",
       "min          0.000000  \n",
       "25%         23.000000  \n",
       "50%         45.000000  \n",
       "75%         86.000000  \n",
       "max      59460.000000  "
      ]
     },
     "execution_count": 39,
     "metadata": {},
     "output_type": "execute_result"
    }
   ],
   "source": [
    "df_merge.describe()"
   ]
  },
  {
   "cell_type": "markdown",
   "id": "d1b1161b",
   "metadata": {},
   "source": [
    "For the `NaN` values in the `endYear` column, let's fill the current year, i.e., 2023, such that we can add the new column `num_years = endYear - startYear`."
   ]
  },
  {
   "cell_type": "code",
   "execution_count": 40,
   "id": "c00be4f5",
   "metadata": {},
   "outputs": [
    {
     "data": {
      "text/html": [
       "<div>\n",
       "<style scoped>\n",
       "    .dataframe tbody tr th:only-of-type {\n",
       "        vertical-align: middle;\n",
       "    }\n",
       "\n",
       "    .dataframe tbody tr th {\n",
       "        vertical-align: top;\n",
       "    }\n",
       "\n",
       "    .dataframe thead th {\n",
       "        text-align: right;\n",
       "    }\n",
       "</style>\n",
       "<table border=\"1\" class=\"dataframe\">\n",
       "  <thead>\n",
       "    <tr style=\"text-align: right;\">\n",
       "      <th></th>\n",
       "      <th>tconst</th>\n",
       "      <th>averageRating</th>\n",
       "      <th>numVotes</th>\n",
       "      <th>isAdult</th>\n",
       "      <th>startYear</th>\n",
       "      <th>endYear</th>\n",
       "      <th>runtimeMinutes</th>\n",
       "      <th>genres</th>\n",
       "    </tr>\n",
       "  </thead>\n",
       "  <tbody>\n",
       "    <tr>\n",
       "      <th>0</th>\n",
       "      <td>tt0000001</td>\n",
       "      <td>5.7</td>\n",
       "      <td>1958.0</td>\n",
       "      <td>0.0</td>\n",
       "      <td>1894.0</td>\n",
       "      <td>2023.0</td>\n",
       "      <td>1.0</td>\n",
       "      <td>Documentary,Short</td>\n",
       "    </tr>\n",
       "    <tr>\n",
       "      <th>1</th>\n",
       "      <td>tt0000002</td>\n",
       "      <td>5.8</td>\n",
       "      <td>263.0</td>\n",
       "      <td>0.0</td>\n",
       "      <td>1892.0</td>\n",
       "      <td>2023.0</td>\n",
       "      <td>5.0</td>\n",
       "      <td>Animation,Short</td>\n",
       "    </tr>\n",
       "    <tr>\n",
       "      <th>2</th>\n",
       "      <td>tt0000003</td>\n",
       "      <td>6.5</td>\n",
       "      <td>1791.0</td>\n",
       "      <td>0.0</td>\n",
       "      <td>1892.0</td>\n",
       "      <td>2023.0</td>\n",
       "      <td>4.0</td>\n",
       "      <td>Animation,Comedy,Romance</td>\n",
       "    </tr>\n",
       "    <tr>\n",
       "      <th>3</th>\n",
       "      <td>tt0000004</td>\n",
       "      <td>5.6</td>\n",
       "      <td>179.0</td>\n",
       "      <td>0.0</td>\n",
       "      <td>1892.0</td>\n",
       "      <td>2023.0</td>\n",
       "      <td>12.0</td>\n",
       "      <td>Animation,Short</td>\n",
       "    </tr>\n",
       "    <tr>\n",
       "      <th>4</th>\n",
       "      <td>tt0000005</td>\n",
       "      <td>6.2</td>\n",
       "      <td>2594.0</td>\n",
       "      <td>0.0</td>\n",
       "      <td>1893.0</td>\n",
       "      <td>2023.0</td>\n",
       "      <td>1.0</td>\n",
       "      <td>Comedy,Short</td>\n",
       "    </tr>\n",
       "  </tbody>\n",
       "</table>\n",
       "</div>"
      ],
      "text/plain": [
       "      tconst  averageRating  numVotes  isAdult  startYear  endYear  \\\n",
       "0  tt0000001            5.7    1958.0      0.0     1894.0   2023.0   \n",
       "1  tt0000002            5.8     263.0      0.0     1892.0   2023.0   \n",
       "2  tt0000003            6.5    1791.0      0.0     1892.0   2023.0   \n",
       "3  tt0000004            5.6     179.0      0.0     1892.0   2023.0   \n",
       "4  tt0000005            6.2    2594.0      0.0     1893.0   2023.0   \n",
       "\n",
       "   runtimeMinutes                    genres  \n",
       "0             1.0         Documentary,Short  \n",
       "1             5.0           Animation,Short  \n",
       "2             4.0  Animation,Comedy,Romance  \n",
       "3            12.0           Animation,Short  \n",
       "4             1.0              Comedy,Short  "
      ]
     },
     "execution_count": 40,
     "metadata": {},
     "output_type": "execute_result"
    }
   ],
   "source": [
    "df_merge['endYear'] = df_merge['endYear'].fillna(2023)\n",
    "df_merge.head()"
   ]
  },
  {
   "cell_type": "markdown",
   "id": "08ab385a",
   "metadata": {},
   "source": [
    "Based on `startYear` and `endYear`, add a new column `num_year = endYear - startYear`."
   ]
  },
  {
   "cell_type": "code",
   "execution_count": 41,
   "id": "a3658041",
   "metadata": {},
   "outputs": [],
   "source": [
    "df_merge['num_years'] = df_merge['endYear'] - df_merge['startYear'] "
   ]
  },
  {
   "cell_type": "markdown",
   "id": "3c0b660a",
   "metadata": {},
   "source": [
    "After adding the new column, let's drop the `startYear` and `endYear` columns since they are not useful anymore."
   ]
  },
  {
   "cell_type": "code",
   "execution_count": 42,
   "id": "40840ed1",
   "metadata": {},
   "outputs": [],
   "source": [
    "df_merge.drop(['endYear', 'startYear'], axis=1, inplace=True)"
   ]
  },
  {
   "cell_type": "code",
   "execution_count": 43,
   "id": "254d97f1",
   "metadata": {},
   "outputs": [
    {
     "data": {
      "text/html": [
       "<div>\n",
       "<style scoped>\n",
       "    .dataframe tbody tr th:only-of-type {\n",
       "        vertical-align: middle;\n",
       "    }\n",
       "\n",
       "    .dataframe tbody tr th {\n",
       "        vertical-align: top;\n",
       "    }\n",
       "\n",
       "    .dataframe thead th {\n",
       "        text-align: right;\n",
       "    }\n",
       "</style>\n",
       "<table border=\"1\" class=\"dataframe\">\n",
       "  <thead>\n",
       "    <tr style=\"text-align: right;\">\n",
       "      <th></th>\n",
       "      <th>tconst</th>\n",
       "      <th>averageRating</th>\n",
       "      <th>numVotes</th>\n",
       "      <th>isAdult</th>\n",
       "      <th>runtimeMinutes</th>\n",
       "      <th>genres</th>\n",
       "      <th>num_years</th>\n",
       "    </tr>\n",
       "  </thead>\n",
       "  <tbody>\n",
       "    <tr>\n",
       "      <th>0</th>\n",
       "      <td>tt0000001</td>\n",
       "      <td>5.7</td>\n",
       "      <td>1958.0</td>\n",
       "      <td>0.0</td>\n",
       "      <td>1.0</td>\n",
       "      <td>Documentary,Short</td>\n",
       "      <td>129.0</td>\n",
       "    </tr>\n",
       "    <tr>\n",
       "      <th>1</th>\n",
       "      <td>tt0000002</td>\n",
       "      <td>5.8</td>\n",
       "      <td>263.0</td>\n",
       "      <td>0.0</td>\n",
       "      <td>5.0</td>\n",
       "      <td>Animation,Short</td>\n",
       "      <td>131.0</td>\n",
       "    </tr>\n",
       "    <tr>\n",
       "      <th>2</th>\n",
       "      <td>tt0000003</td>\n",
       "      <td>6.5</td>\n",
       "      <td>1791.0</td>\n",
       "      <td>0.0</td>\n",
       "      <td>4.0</td>\n",
       "      <td>Animation,Comedy,Romance</td>\n",
       "      <td>131.0</td>\n",
       "    </tr>\n",
       "    <tr>\n",
       "      <th>3</th>\n",
       "      <td>tt0000004</td>\n",
       "      <td>5.6</td>\n",
       "      <td>179.0</td>\n",
       "      <td>0.0</td>\n",
       "      <td>12.0</td>\n",
       "      <td>Animation,Short</td>\n",
       "      <td>131.0</td>\n",
       "    </tr>\n",
       "    <tr>\n",
       "      <th>4</th>\n",
       "      <td>tt0000005</td>\n",
       "      <td>6.2</td>\n",
       "      <td>2594.0</td>\n",
       "      <td>0.0</td>\n",
       "      <td>1.0</td>\n",
       "      <td>Comedy,Short</td>\n",
       "      <td>130.0</td>\n",
       "    </tr>\n",
       "  </tbody>\n",
       "</table>\n",
       "</div>"
      ],
      "text/plain": [
       "      tconst  averageRating  numVotes  isAdult  runtimeMinutes  \\\n",
       "0  tt0000001            5.7    1958.0      0.0             1.0   \n",
       "1  tt0000002            5.8     263.0      0.0             5.0   \n",
       "2  tt0000003            6.5    1791.0      0.0             4.0   \n",
       "3  tt0000004            5.6     179.0      0.0            12.0   \n",
       "4  tt0000005            6.2    2594.0      0.0             1.0   \n",
       "\n",
       "                     genres  num_years  \n",
       "0         Documentary,Short      129.0  \n",
       "1           Animation,Short      131.0  \n",
       "2  Animation,Comedy,Romance      131.0  \n",
       "3           Animation,Short      131.0  \n",
       "4              Comedy,Short      130.0  "
      ]
     },
     "execution_count": 43,
     "metadata": {},
     "output_type": "execute_result"
    }
   ],
   "source": [
    "df_merge.head()"
   ]
  },
  {
   "cell_type": "markdown",
   "id": "4678be4c",
   "metadata": {},
   "source": [
    "For the `runtimeMinutes` column, <span style=\"color:green\">**let's make the assumption:** most movies last between 80-120 minutes.</span> We will drop rows where `runtimeMinutes` > 180 (add some buffer time). This also makes sure that we are getting rid of rows that are NOT movies that have higher `runtimeMinutes`.\n",
    "\n",
    "Let's check the `NaN` values in the `runtimeMinutes` column first."
   ]
  },
  {
   "cell_type": "code",
   "execution_count": 44,
   "id": "775cbbc0",
   "metadata": {},
   "outputs": [
    {
     "data": {
      "text/plain": [
       "False    893994\n",
       "True     347624\n",
       "Name: runtimeMinutes, dtype: int64"
      ]
     },
     "execution_count": 44,
     "metadata": {},
     "output_type": "execute_result"
    }
   ],
   "source": [
    "df_merge['runtimeMinutes'].isnull().value_counts()"
   ]
  },
  {
   "cell_type": "markdown",
   "id": "8778483e",
   "metadata": {},
   "source": [
    "There are `347624` rows of `NaN` values in the `runtimeMinutes` column. <br>\n",
    "Let's drop these rows and only retain the rows with `runtimeMinutes` less than or equal to 180 minutes."
   ]
  },
  {
   "cell_type": "code",
   "execution_count": 45,
   "id": "704e0e3d",
   "metadata": {},
   "outputs": [],
   "source": [
    "# df_merge.drop(df_merge[df_merge['runtimeMinutes'] > 180].index, inplace=True) # this includes <=180 and NaN\n",
    "# df_merge.shape # (1235871, 7)"
   ]
  },
  {
   "cell_type": "code",
   "execution_count": 46,
   "id": "af2a4e34",
   "metadata": {},
   "outputs": [
    {
     "data": {
      "text/plain": [
       "(888247, 7)"
      ]
     },
     "execution_count": 46,
     "metadata": {},
     "output_type": "execute_result"
    }
   ],
   "source": [
    "df_merge = df_merge[df_merge['runtimeMinutes'] <= 180]\n",
    "df_merge.shape"
   ]
  },
  {
   "cell_type": "markdown",
   "id": "d7e1ae13",
   "metadata": {},
   "source": [
    "Next, we will focus on the `genres` column and try to find different genres of movies we are dealing with."
   ]
  },
  {
   "cell_type": "code",
   "execution_count": 47,
   "id": "d6abc942",
   "metadata": {},
   "outputs": [],
   "source": [
    "genres = df_merge['genres']"
   ]
  },
  {
   "cell_type": "code",
   "execution_count": 48,
   "id": "d1eb3d62",
   "metadata": {},
   "outputs": [
    {
     "data": {
      "text/plain": [
       "{'Action',\n",
       " 'Adult',\n",
       " 'Adventure',\n",
       " 'Animation',\n",
       " 'Biography',\n",
       " 'Comedy',\n",
       " 'Crime',\n",
       " 'Documentary',\n",
       " 'Drama',\n",
       " 'Family',\n",
       " 'Fantasy',\n",
       " 'Film-Noir',\n",
       " 'Game-Show',\n",
       " 'History',\n",
       " 'Horror',\n",
       " 'Music',\n",
       " 'Musical',\n",
       " 'Mystery',\n",
       " 'News',\n",
       " 'Reality-TV',\n",
       " 'Romance',\n",
       " 'Sci-Fi',\n",
       " 'Short',\n",
       " 'Sport',\n",
       " 'Talk-Show',\n",
       " 'Thriller',\n",
       " 'War',\n",
       " 'Western'}"
      ]
     },
     "execution_count": 48,
     "metadata": {},
     "output_type": "execute_result"
    }
   ],
   "source": [
    "all_genres = set()\n",
    "for row in genres:\n",
    "    if row is not np.nan:\n",
    "        if \",\" in row:\n",
    "            for item in row.split(\",\"):\n",
    "                all_genres.add(item)\n",
    "        else:\n",
    "            all_genres.add(item)\n",
    "all_genres"
   ]
  },
  {
   "cell_type": "code",
   "execution_count": 49,
   "id": "73c333d8",
   "metadata": {},
   "outputs": [
    {
     "name": "stdout",
     "output_type": "stream",
     "text": [
      "The number of movie genres is 28\n"
     ]
    }
   ],
   "source": [
    "number_genres = len(all_genres)\n",
    "print(f'The number of movie genres is {number_genres}')"
   ]
  },
  {
   "cell_type": "markdown",
   "id": "f9a7671d",
   "metadata": {},
   "source": [
    "<span style='color:green'>`Assumption`: The names of crew, directors, writers, their birth years, etc., don't influence the movie ratings.</span> <br>\n",
    "Therefore, we do not explore the rest of datasets:\n",
    "1. `name.basics.tsv.gz`\n",
    "2. `title.crew.tsv.gz`\n",
    "3. `title.principals.tsv.gz`\n",
    "4. `title.episode.tsv.gz`"
   ]
  },
  {
   "cell_type": "markdown",
   "id": "2f1891af",
   "metadata": {},
   "source": [
    "## <span style=\"color:blue\">Step 2: Data Preprocessing</span>\n",
    "In this section, we will work on converting the dataframe `df_merge` (from Step 1) into a form which can be served as an input to the ML models.<br>\n",
    "When it comes data preprocessing, it usually includes\n",
    "1. **One-hot encoding** (for categorical features)\n",
    "2. **Feature Scaling** (for numerical features) <br>\n",
    "    many algorithms are sensitive to features being on different scales, like metric-based algorithms (KNN, K-Means) and gradient descent-based algorithms (regression, neural nets). <br>\n",
    "    a. **StandardScaler**: scaling values to be centered around mean 0 with a standard deviation of 1. <br>\n",
    "    b. **MinMaxScaler**: scaling values so that the minimum value is 0 and maximum value is 1.\n",
    "\n",
    "To begin with, let's handle the `genres` column to unpack each genre. For this categorical feature, we will `one-hot encode` it."
   ]
  },
  {
   "cell_type": "code",
   "execution_count": 50,
   "id": "0e476dca",
   "metadata": {},
   "outputs": [],
   "source": [
    "for genre in all_genres:\n",
    "    df_merge[genre] = np.where(df_merge['genres'].str.contains(genre), 1, 0)"
   ]
  },
  {
   "cell_type": "code",
   "execution_count": 51,
   "id": "d3080bf0",
   "metadata": {},
   "outputs": [],
   "source": [
    "df_merge.drop(['genres'], axis=1, inplace=True)"
   ]
  },
  {
   "cell_type": "code",
   "execution_count": 52,
   "id": "f91e0451",
   "metadata": {},
   "outputs": [
    {
     "data": {
      "text/html": [
       "<div>\n",
       "<style scoped>\n",
       "    .dataframe tbody tr th:only-of-type {\n",
       "        vertical-align: middle;\n",
       "    }\n",
       "\n",
       "    .dataframe tbody tr th {\n",
       "        vertical-align: top;\n",
       "    }\n",
       "\n",
       "    .dataframe thead th {\n",
       "        text-align: right;\n",
       "    }\n",
       "</style>\n",
       "<table border=\"1\" class=\"dataframe\">\n",
       "  <thead>\n",
       "    <tr style=\"text-align: right;\">\n",
       "      <th></th>\n",
       "      <th>tconst</th>\n",
       "      <th>averageRating</th>\n",
       "      <th>numVotes</th>\n",
       "      <th>isAdult</th>\n",
       "      <th>runtimeMinutes</th>\n",
       "      <th>num_years</th>\n",
       "      <th>Horror</th>\n",
       "      <th>Short</th>\n",
       "      <th>News</th>\n",
       "      <th>Documentary</th>\n",
       "      <th>...</th>\n",
       "      <th>History</th>\n",
       "      <th>Action</th>\n",
       "      <th>Talk-Show</th>\n",
       "      <th>Romance</th>\n",
       "      <th>Adventure</th>\n",
       "      <th>Reality-TV</th>\n",
       "      <th>Film-Noir</th>\n",
       "      <th>Game-Show</th>\n",
       "      <th>War</th>\n",
       "      <th>Biography</th>\n",
       "    </tr>\n",
       "  </thead>\n",
       "  <tbody>\n",
       "    <tr>\n",
       "      <th>0</th>\n",
       "      <td>tt0000001</td>\n",
       "      <td>5.7</td>\n",
       "      <td>1958.0</td>\n",
       "      <td>0.0</td>\n",
       "      <td>1.0</td>\n",
       "      <td>129.0</td>\n",
       "      <td>0</td>\n",
       "      <td>1</td>\n",
       "      <td>0</td>\n",
       "      <td>1</td>\n",
       "      <td>...</td>\n",
       "      <td>0</td>\n",
       "      <td>0</td>\n",
       "      <td>0</td>\n",
       "      <td>0</td>\n",
       "      <td>0</td>\n",
       "      <td>0</td>\n",
       "      <td>0</td>\n",
       "      <td>0</td>\n",
       "      <td>0</td>\n",
       "      <td>0</td>\n",
       "    </tr>\n",
       "    <tr>\n",
       "      <th>1</th>\n",
       "      <td>tt0000002</td>\n",
       "      <td>5.8</td>\n",
       "      <td>263.0</td>\n",
       "      <td>0.0</td>\n",
       "      <td>5.0</td>\n",
       "      <td>131.0</td>\n",
       "      <td>0</td>\n",
       "      <td>1</td>\n",
       "      <td>0</td>\n",
       "      <td>0</td>\n",
       "      <td>...</td>\n",
       "      <td>0</td>\n",
       "      <td>0</td>\n",
       "      <td>0</td>\n",
       "      <td>0</td>\n",
       "      <td>0</td>\n",
       "      <td>0</td>\n",
       "      <td>0</td>\n",
       "      <td>0</td>\n",
       "      <td>0</td>\n",
       "      <td>0</td>\n",
       "    </tr>\n",
       "    <tr>\n",
       "      <th>2</th>\n",
       "      <td>tt0000003</td>\n",
       "      <td>6.5</td>\n",
       "      <td>1791.0</td>\n",
       "      <td>0.0</td>\n",
       "      <td>4.0</td>\n",
       "      <td>131.0</td>\n",
       "      <td>0</td>\n",
       "      <td>0</td>\n",
       "      <td>0</td>\n",
       "      <td>0</td>\n",
       "      <td>...</td>\n",
       "      <td>0</td>\n",
       "      <td>0</td>\n",
       "      <td>0</td>\n",
       "      <td>1</td>\n",
       "      <td>0</td>\n",
       "      <td>0</td>\n",
       "      <td>0</td>\n",
       "      <td>0</td>\n",
       "      <td>0</td>\n",
       "      <td>0</td>\n",
       "    </tr>\n",
       "    <tr>\n",
       "      <th>3</th>\n",
       "      <td>tt0000004</td>\n",
       "      <td>5.6</td>\n",
       "      <td>179.0</td>\n",
       "      <td>0.0</td>\n",
       "      <td>12.0</td>\n",
       "      <td>131.0</td>\n",
       "      <td>0</td>\n",
       "      <td>1</td>\n",
       "      <td>0</td>\n",
       "      <td>0</td>\n",
       "      <td>...</td>\n",
       "      <td>0</td>\n",
       "      <td>0</td>\n",
       "      <td>0</td>\n",
       "      <td>0</td>\n",
       "      <td>0</td>\n",
       "      <td>0</td>\n",
       "      <td>0</td>\n",
       "      <td>0</td>\n",
       "      <td>0</td>\n",
       "      <td>0</td>\n",
       "    </tr>\n",
       "    <tr>\n",
       "      <th>4</th>\n",
       "      <td>tt0000005</td>\n",
       "      <td>6.2</td>\n",
       "      <td>2594.0</td>\n",
       "      <td>0.0</td>\n",
       "      <td>1.0</td>\n",
       "      <td>130.0</td>\n",
       "      <td>0</td>\n",
       "      <td>1</td>\n",
       "      <td>0</td>\n",
       "      <td>0</td>\n",
       "      <td>...</td>\n",
       "      <td>0</td>\n",
       "      <td>0</td>\n",
       "      <td>0</td>\n",
       "      <td>0</td>\n",
       "      <td>0</td>\n",
       "      <td>0</td>\n",
       "      <td>0</td>\n",
       "      <td>0</td>\n",
       "      <td>0</td>\n",
       "      <td>0</td>\n",
       "    </tr>\n",
       "  </tbody>\n",
       "</table>\n",
       "<p>5 rows × 34 columns</p>\n",
       "</div>"
      ],
      "text/plain": [
       "      tconst  averageRating  numVotes  isAdult  runtimeMinutes  num_years  \\\n",
       "0  tt0000001            5.7    1958.0      0.0             1.0      129.0   \n",
       "1  tt0000002            5.8     263.0      0.0             5.0      131.0   \n",
       "2  tt0000003            6.5    1791.0      0.0             4.0      131.0   \n",
       "3  tt0000004            5.6     179.0      0.0            12.0      131.0   \n",
       "4  tt0000005            6.2    2594.0      0.0             1.0      130.0   \n",
       "\n",
       "   Horror  Short  News  Documentary  ...  History  Action  Talk-Show  Romance  \\\n",
       "0       0      1     0            1  ...        0       0          0        0   \n",
       "1       0      1     0            0  ...        0       0          0        0   \n",
       "2       0      0     0            0  ...        0       0          0        1   \n",
       "3       0      1     0            0  ...        0       0          0        0   \n",
       "4       0      1     0            0  ...        0       0          0        0   \n",
       "\n",
       "   Adventure  Reality-TV  Film-Noir  Game-Show  War  Biography  \n",
       "0          0           0          0          0    0          0  \n",
       "1          0           0          0          0    0          0  \n",
       "2          0           0          0          0    0          0  \n",
       "3          0           0          0          0    0          0  \n",
       "4          0           0          0          0    0          0  \n",
       "\n",
       "[5 rows x 34 columns]"
      ]
     },
     "execution_count": 52,
     "metadata": {},
     "output_type": "execute_result"
    }
   ],
   "source": [
    "df_merge.head()"
   ]
  },
  {
   "cell_type": "code",
   "execution_count": 53,
   "id": "29f5b863",
   "metadata": {},
   "outputs": [
    {
     "data": {
      "text/plain": [
       "Index(['tconst', 'averageRating', 'numVotes', 'isAdult', 'runtimeMinutes',\n",
       "       'num_years', 'Horror', 'Short', 'News', 'Documentary', 'Family',\n",
       "       'Animation', 'Crime', 'Comedy', 'Sport', 'Adult', 'Fantasy', 'Musical',\n",
       "       'Thriller', 'Music', 'Drama', 'Mystery', 'Western', 'Sci-Fi', 'History',\n",
       "       'Action', 'Talk-Show', 'Romance', 'Adventure', 'Reality-TV',\n",
       "       'Film-Noir', 'Game-Show', 'War', 'Biography'],\n",
       "      dtype='object')"
      ]
     },
     "execution_count": 53,
     "metadata": {},
     "output_type": "execute_result"
    }
   ],
   "source": [
    "df_merge.columns"
   ]
  },
  {
   "cell_type": "markdown",
   "id": "2da34d35",
   "metadata": {},
   "source": [
    "Next, let's visualize some features to see if there is relationship between some of the independent variables and the dependent variables."
   ]
  },
  {
   "cell_type": "code",
   "execution_count": 54,
   "id": "8b07b559",
   "metadata": {},
   "outputs": [
    {
     "data": {
      "image/png": "[encoded data removed]",
      "text/plain": [
       "<Figure size 1000x1000 with 20 Axes>"
      ]
     },
     "metadata": {},
     "output_type": "display_data"
    }
   ],
   "source": [
    "sns.pairplot(df_merge[['averageRating', 'numVotes', 'runtimeMinutes', 'num_years']], diag_kind='kde');"
   ]
  },
  {
   "cell_type": "markdown",
   "id": "4c951618",
   "metadata": {},
   "source": [
    "There is no obvious relationship shown from the above pair-plot. Some things to note:\n",
    "\n",
    "1. `averageRating` stagnates as the `numVotes` increases - this might be due to the averaging of all the votes being cast and hence one 10 star rating (or 0 star rating) might not have a lot of effect.\n",
    "2. `numVotes` decreases with the increase in `num_years` - people reviewing newer movies more as compared to old ones.\n",
    "3. `numVotes` increases with the increasee in `runtimeMinutes` - people not reviewing movies that are too short\n",
    "\n",
    "### <span style=\"color:maroon\">Train-test split</span>\n",
    "**Before doing any imputation on the numerical columns, we should split the dataset into training and testing set first**. This is because the test set plays the role of fresh unseen data, so it's not supposed to be accessible at the training stage. Using any information coming from the test set before or during training is a potential bias in the evaluation of the performance."
   ]
  },
  {
   "cell_type": "code",
   "execution_count": 55,
   "id": "90041384",
   "metadata": {},
   "outputs": [],
   "source": [
    "numerical_features = ['numVotes', 'runtimeMinutes', 'num_years'] \n",
    "categorical_features = ['Musical', 'Fantasy', 'Short', 'Game-Show', 'History', 'Film-Noir',\n",
    "        'Adult', 'Documentary', 'Crime', 'Reality-TV', 'Animation', 'Thriller',\n",
    "        'Drama', 'Sport', 'War', 'Romance', 'Adventure', 'Action', 'Music',\n",
    "        'Comedy', 'Biography', 'News', 'Horror', 'Sci-Fi', 'Western',\n",
    "        'Talk-Show', 'Family', 'Mystery'] \n",
    "model_features = numerical_features + categorical_features\n",
    "model_target = 'averageRating' "
   ]
  },
  {
   "cell_type": "markdown",
   "id": "e0004593",
   "metadata": {},
   "source": [
    "We will use 85% of the dataset for training and 15% for testing. Given that the dataset is huge (~1M records), we should be good with this split. In addition, the random state is set to 66 to make sure we have repeatable results."
   ]
  },
  {
   "cell_type": "code",
   "execution_count": 56,
   "id": "d588e8f5",
   "metadata": {},
   "outputs": [],
   "source": [
    "X_train, X_test, y_train, y_test = train_test_split(df_merge[model_features], df_merge[model_target], test_size=0.15, random_state=66)"
   ]
  },
  {
   "cell_type": "code",
   "execution_count": 57,
   "id": "47983aff",
   "metadata": {},
   "outputs": [
    {
     "name": "stdout",
     "output_type": "stream",
     "text": [
      "The shape of the training set is (755009, 31). \n",
      "The shape of the test set is (133238, 31).\n"
     ]
    }
   ],
   "source": [
    "print(f'The shape of the training set is {X_train.shape}. ')\n",
    "print(f'The shape of the test set is {X_test.shape}.')"
   ]
  },
  {
   "cell_type": "markdown",
   "id": "a76fbd46",
   "metadata": {},
   "source": [
    "After the train-test split, now we can perform imputation for numerical columns.\n",
    "\n",
    "Since `runtimeMinutes` might be an important factor in the IMDb ratings (movies that are not too long or not too short being rated higher), we will carry out an imputation task to make sure that there are no missing values in the training and test sets.\n",
    "\n",
    "**Strategies for imputation**: <br>\n",
    "It is important to get some statistics on the `runtimeMinutes` values to decide on whether to use mean/mode/median for the imputation. "
   ]
  },
  {
   "cell_type": "code",
   "execution_count": 58,
   "id": "d0cde79d",
   "metadata": {},
   "outputs": [
    {
     "data": {
      "text/plain": [
       "count    888247.000000\n",
       "mean         54.202930\n",
       "std          36.369411\n",
       "min           0.000000\n",
       "25%          23.000000\n",
       "50%          45.000000\n",
       "75%          86.000000\n",
       "max         180.000000\n",
       "Name: runtimeMinutes, dtype: float64"
      ]
     },
     "execution_count": 58,
     "metadata": {},
     "output_type": "execute_result"
    }
   ],
   "source": [
    "df_merge['runtimeMinutes'].describe()"
   ]
  },
  {
   "cell_type": "code",
   "execution_count": 59,
   "id": "6b29e380",
   "metadata": {},
   "outputs": [
    {
     "data": {
      "image/png": "[encoded data removed]",
      "text/plain": [
       "<Figure size 1280x880 with 1 Axes>"
      ]
     },
     "metadata": {},
     "output_type": "display_data"
    }
   ],
   "source": [
    "df_merge['runtimeMinutes'].value_counts().plot(linestyle='--', color='r')\n",
    "plt.xlim([0, 200])\n",
    "plt.xlabel('runtimeMinutes')\n",
    "plt.ylabel('Frequencies')\n",
    "plt.grid('ON')\n",
    "plt.title('Plot showing runtimeMinutes');"
   ]
  },
  {
   "cell_type": "code",
   "execution_count": 60,
   "id": "453a6fc9",
   "metadata": {},
   "outputs": [
    {
     "data": {
      "text/plain": [
       "45.0"
      ]
     },
     "execution_count": 60,
     "metadata": {},
     "output_type": "execute_result"
    }
   ],
   "source": [
    "df_merge['runtimeMinutes'].median()"
   ]
  },
  {
   "cell_type": "markdown",
   "id": "d76fd47c",
   "metadata": {},
   "source": [
    "### <span style='color:maroon'> Ideas for the imputation:</span>\n",
    "1. From the above analysis, we can see that the minimum `runtimeMinutes` is 0 and the maximum is 180 with a mean of 54.18 minutes and standard deviation of 36.38 minutes.\n",
    "2. We will use the `median` for imputation since median is more robust when it comes to outliers.\n",
    "\n",
    "Therefore, we will use `median` of the `runtimeMinutes` for imputing the missing values which is `45.0 minutes`."
   ]
  },
  {
   "cell_type": "code",
   "execution_count": 61,
   "id": "0f85acca",
   "metadata": {},
   "outputs": [],
   "source": [
    "X_train['runtimeMinutes'].fillna((X_train['runtimeMinutes'].median()), inplace=True)"
   ]
  },
  {
   "cell_type": "markdown",
   "id": "407f11f6",
   "metadata": {},
   "source": [
    "Similary, we perform the same idea to test set."
   ]
  },
  {
   "cell_type": "code",
   "execution_count": 62,
   "id": "fc8fdd35",
   "metadata": {},
   "outputs": [],
   "source": [
    "X_test['runtimeMinutes'].fillna((X_test['runtimeMinutes'].median()), inplace=True)"
   ]
  },
  {
   "cell_type": "markdown",
   "id": "97dd6200",
   "metadata": {},
   "source": [
    "### <span style='color:maroon'> Ideas for the feature scaling:</span>\n",
    "We will scale the numerical features for the training and test sets using `StandardScaler` feature offered by sklearn."
   ]
  },
  {
   "cell_type": "code",
   "execution_count": 63,
   "id": "7348e14f",
   "metadata": {},
   "outputs": [],
   "source": [
    "X_train[['numVotes', 'runtimeMinutes', 'num_years']] = StandardScaler().fit_transform(X_train[['numVotes', 'runtimeMinutes', 'num_years']])\n",
    "X_test[['numVotes', 'runtimeMinutes', 'num_years']] = StandardScaler().fit_transform(X_test[['numVotes', 'runtimeMinutes', 'num_years']])"
   ]
  },
  {
   "cell_type": "code",
   "execution_count": 64,
   "id": "b2fc15d6",
   "metadata": {},
   "outputs": [
    {
     "data": {
      "text/html": [
       "<div>\n",
       "<style scoped>\n",
       "    .dataframe tbody tr th:only-of-type {\n",
       "        vertical-align: middle;\n",
       "    }\n",
       "\n",
       "    .dataframe tbody tr th {\n",
       "        vertical-align: top;\n",
       "    }\n",
       "\n",
       "    .dataframe thead th {\n",
       "        text-align: right;\n",
       "    }\n",
       "</style>\n",
       "<table border=\"1\" class=\"dataframe\">\n",
       "  <thead>\n",
       "    <tr style=\"text-align: right;\">\n",
       "      <th></th>\n",
       "      <th>numVotes</th>\n",
       "      <th>runtimeMinutes</th>\n",
       "      <th>num_years</th>\n",
       "      <th>Musical</th>\n",
       "      <th>Fantasy</th>\n",
       "      <th>Short</th>\n",
       "      <th>Game-Show</th>\n",
       "      <th>History</th>\n",
       "      <th>Film-Noir</th>\n",
       "      <th>Adult</th>\n",
       "      <th>...</th>\n",
       "      <th>Music</th>\n",
       "      <th>Comedy</th>\n",
       "      <th>Biography</th>\n",
       "      <th>News</th>\n",
       "      <th>Horror</th>\n",
       "      <th>Sci-Fi</th>\n",
       "      <th>Western</th>\n",
       "      <th>Talk-Show</th>\n",
       "      <th>Family</th>\n",
       "      <th>Mystery</th>\n",
       "    </tr>\n",
       "  </thead>\n",
       "  <tbody>\n",
       "    <tr>\n",
       "      <th>569898</th>\n",
       "      <td>-0.066921</td>\n",
       "      <td>-0.913104</td>\n",
       "      <td>-0.890996</td>\n",
       "      <td>0</td>\n",
       "      <td>0</td>\n",
       "      <td>0</td>\n",
       "      <td>1</td>\n",
       "      <td>0</td>\n",
       "      <td>0</td>\n",
       "      <td>0</td>\n",
       "      <td>...</td>\n",
       "      <td>0</td>\n",
       "      <td>1</td>\n",
       "      <td>0</td>\n",
       "      <td>0</td>\n",
       "      <td>0</td>\n",
       "      <td>0</td>\n",
       "      <td>0</td>\n",
       "      <td>0</td>\n",
       "      <td>0</td>\n",
       "      <td>0</td>\n",
       "    </tr>\n",
       "    <tr>\n",
       "      <th>290786</th>\n",
       "      <td>-0.030173</td>\n",
       "      <td>-0.830658</td>\n",
       "      <td>1.642964</td>\n",
       "      <td>0</td>\n",
       "      <td>0</td>\n",
       "      <td>0</td>\n",
       "      <td>0</td>\n",
       "      <td>0</td>\n",
       "      <td>0</td>\n",
       "      <td>0</td>\n",
       "      <td>...</td>\n",
       "      <td>0</td>\n",
       "      <td>0</td>\n",
       "      <td>0</td>\n",
       "      <td>0</td>\n",
       "      <td>0</td>\n",
       "      <td>0</td>\n",
       "      <td>0</td>\n",
       "      <td>0</td>\n",
       "      <td>1</td>\n",
       "      <td>0</td>\n",
       "    </tr>\n",
       "    <tr>\n",
       "      <th>254200</th>\n",
       "      <td>-0.053779</td>\n",
       "      <td>0.928171</td>\n",
       "      <td>0.375984</td>\n",
       "      <td>0</td>\n",
       "      <td>0</td>\n",
       "      <td>0</td>\n",
       "      <td>0</td>\n",
       "      <td>0</td>\n",
       "      <td>0</td>\n",
       "      <td>0</td>\n",
       "      <td>...</td>\n",
       "      <td>0</td>\n",
       "      <td>0</td>\n",
       "      <td>0</td>\n",
       "      <td>0</td>\n",
       "      <td>0</td>\n",
       "      <td>0</td>\n",
       "      <td>0</td>\n",
       "      <td>0</td>\n",
       "      <td>0</td>\n",
       "      <td>0</td>\n",
       "    </tr>\n",
       "    <tr>\n",
       "      <th>188880</th>\n",
       "      <td>-0.067022</td>\n",
       "      <td>-1.352811</td>\n",
       "      <td>-0.936246</td>\n",
       "      <td>0</td>\n",
       "      <td>0</td>\n",
       "      <td>1</td>\n",
       "      <td>0</td>\n",
       "      <td>0</td>\n",
       "      <td>0</td>\n",
       "      <td>0</td>\n",
       "      <td>...</td>\n",
       "      <td>0</td>\n",
       "      <td>0</td>\n",
       "      <td>0</td>\n",
       "      <td>0</td>\n",
       "      <td>0</td>\n",
       "      <td>0</td>\n",
       "      <td>0</td>\n",
       "      <td>0</td>\n",
       "      <td>0</td>\n",
       "      <td>0</td>\n",
       "    </tr>\n",
       "    <tr>\n",
       "      <th>632391</th>\n",
       "      <td>-0.066921</td>\n",
       "      <td>-0.775695</td>\n",
       "      <td>1.371468</td>\n",
       "      <td>0</td>\n",
       "      <td>0</td>\n",
       "      <td>0</td>\n",
       "      <td>0</td>\n",
       "      <td>0</td>\n",
       "      <td>0</td>\n",
       "      <td>0</td>\n",
       "      <td>...</td>\n",
       "      <td>0</td>\n",
       "      <td>1</td>\n",
       "      <td>0</td>\n",
       "      <td>0</td>\n",
       "      <td>0</td>\n",
       "      <td>1</td>\n",
       "      <td>0</td>\n",
       "      <td>0</td>\n",
       "      <td>0</td>\n",
       "      <td>0</td>\n",
       "    </tr>\n",
       "  </tbody>\n",
       "</table>\n",
       "<p>5 rows × 31 columns</p>\n",
       "</div>"
      ],
      "text/plain": [
       "        numVotes  runtimeMinutes  num_years  Musical  Fantasy  Short  \\\n",
       "569898 -0.066921       -0.913104  -0.890996        0        0      0   \n",
       "290786 -0.030173       -0.830658   1.642964        0        0      0   \n",
       "254200 -0.053779        0.928171   0.375984        0        0      0   \n",
       "188880 -0.067022       -1.352811  -0.936246        0        0      1   \n",
       "632391 -0.066921       -0.775695   1.371468        0        0      0   \n",
       "\n",
       "        Game-Show  History  Film-Noir  Adult  ...  Music  Comedy  Biography  \\\n",
       "569898          1        0          0      0  ...      0       1          0   \n",
       "290786          0        0          0      0  ...      0       0          0   \n",
       "254200          0        0          0      0  ...      0       0          0   \n",
       "188880          0        0          0      0  ...      0       0          0   \n",
       "632391          0        0          0      0  ...      0       1          0   \n",
       "\n",
       "        News  Horror  Sci-Fi  Western  Talk-Show  Family  Mystery  \n",
       "569898     0       0       0        0          0       0        0  \n",
       "290786     0       0       0        0          0       1        0  \n",
       "254200     0       0       0        0          0       0        0  \n",
       "188880     0       0       0        0          0       0        0  \n",
       "632391     0       0       1        0          0       0        0  \n",
       "\n",
       "[5 rows x 31 columns]"
      ]
     },
     "execution_count": 64,
     "metadata": {},
     "output_type": "execute_result"
    }
   ],
   "source": [
    "X_train.head()"
   ]
  },
  {
   "cell_type": "code",
   "execution_count": 65,
   "id": "6019a81c",
   "metadata": {},
   "outputs": [
    {
     "data": {
      "text/html": [
       "<div>\n",
       "<style scoped>\n",
       "    .dataframe tbody tr th:only-of-type {\n",
       "        vertical-align: middle;\n",
       "    }\n",
       "\n",
       "    .dataframe tbody tr th {\n",
       "        vertical-align: top;\n",
       "    }\n",
       "\n",
       "    .dataframe thead th {\n",
       "        text-align: right;\n",
       "    }\n",
       "</style>\n",
       "<table border=\"1\" class=\"dataframe\">\n",
       "  <thead>\n",
       "    <tr style=\"text-align: right;\">\n",
       "      <th></th>\n",
       "      <th>numVotes</th>\n",
       "      <th>runtimeMinutes</th>\n",
       "      <th>num_years</th>\n",
       "      <th>Musical</th>\n",
       "      <th>Fantasy</th>\n",
       "      <th>Short</th>\n",
       "      <th>Game-Show</th>\n",
       "      <th>History</th>\n",
       "      <th>Film-Noir</th>\n",
       "      <th>Adult</th>\n",
       "      <th>...</th>\n",
       "      <th>Music</th>\n",
       "      <th>Comedy</th>\n",
       "      <th>Biography</th>\n",
       "      <th>News</th>\n",
       "      <th>Horror</th>\n",
       "      <th>Sci-Fi</th>\n",
       "      <th>Western</th>\n",
       "      <th>Talk-Show</th>\n",
       "      <th>Family</th>\n",
       "      <th>Mystery</th>\n",
       "    </tr>\n",
       "  </thead>\n",
       "  <tbody>\n",
       "    <tr>\n",
       "      <th>397706</th>\n",
       "      <td>-0.065254</td>\n",
       "      <td>-0.856845</td>\n",
       "      <td>-0.075479</td>\n",
       "      <td>0</td>\n",
       "      <td>0</td>\n",
       "      <td>0</td>\n",
       "      <td>0</td>\n",
       "      <td>0</td>\n",
       "      <td>0</td>\n",
       "      <td>0</td>\n",
       "      <td>...</td>\n",
       "      <td>0</td>\n",
       "      <td>1</td>\n",
       "      <td>0</td>\n",
       "      <td>0</td>\n",
       "      <td>0</td>\n",
       "      <td>0</td>\n",
       "      <td>0</td>\n",
       "      <td>0</td>\n",
       "      <td>0</td>\n",
       "      <td>0</td>\n",
       "    </tr>\n",
       "    <tr>\n",
       "      <th>200478</th>\n",
       "      <td>-0.040643</td>\n",
       "      <td>-1.408349</td>\n",
       "      <td>0.331152</td>\n",
       "      <td>0</td>\n",
       "      <td>0</td>\n",
       "      <td>1</td>\n",
       "      <td>0</td>\n",
       "      <td>0</td>\n",
       "      <td>0</td>\n",
       "      <td>0</td>\n",
       "      <td>...</td>\n",
       "      <td>0</td>\n",
       "      <td>0</td>\n",
       "      <td>0</td>\n",
       "      <td>0</td>\n",
       "      <td>0</td>\n",
       "      <td>0</td>\n",
       "      <td>0</td>\n",
       "      <td>0</td>\n",
       "      <td>0</td>\n",
       "      <td>0</td>\n",
       "    </tr>\n",
       "    <tr>\n",
       "      <th>1204666</th>\n",
       "      <td>-0.063521</td>\n",
       "      <td>-0.470792</td>\n",
       "      <td>-0.798378</td>\n",
       "      <td>0</td>\n",
       "      <td>0</td>\n",
       "      <td>1</td>\n",
       "      <td>0</td>\n",
       "      <td>0</td>\n",
       "      <td>0</td>\n",
       "      <td>0</td>\n",
       "      <td>...</td>\n",
       "      <td>0</td>\n",
       "      <td>1</td>\n",
       "      <td>0</td>\n",
       "      <td>0</td>\n",
       "      <td>0</td>\n",
       "      <td>0</td>\n",
       "      <td>0</td>\n",
       "      <td>0</td>\n",
       "      <td>0</td>\n",
       "      <td>0</td>\n",
       "    </tr>\n",
       "    <tr>\n",
       "      <th>182802</th>\n",
       "      <td>-0.063215</td>\n",
       "      <td>0.714942</td>\n",
       "      <td>-0.075479</td>\n",
       "      <td>0</td>\n",
       "      <td>0</td>\n",
       "      <td>0</td>\n",
       "      <td>0</td>\n",
       "      <td>0</td>\n",
       "      <td>0</td>\n",
       "      <td>0</td>\n",
       "      <td>...</td>\n",
       "      <td>0</td>\n",
       "      <td>1</td>\n",
       "      <td>0</td>\n",
       "      <td>0</td>\n",
       "      <td>0</td>\n",
       "      <td>0</td>\n",
       "      <td>0</td>\n",
       "      <td>0</td>\n",
       "      <td>0</td>\n",
       "      <td>0</td>\n",
       "    </tr>\n",
       "    <tr>\n",
       "      <th>1214598</th>\n",
       "      <td>-0.061534</td>\n",
       "      <td>-1.215323</td>\n",
       "      <td>-0.798378</td>\n",
       "      <td>0</td>\n",
       "      <td>0</td>\n",
       "      <td>0</td>\n",
       "      <td>0</td>\n",
       "      <td>0</td>\n",
       "      <td>0</td>\n",
       "      <td>0</td>\n",
       "      <td>...</td>\n",
       "      <td>0</td>\n",
       "      <td>1</td>\n",
       "      <td>0</td>\n",
       "      <td>0</td>\n",
       "      <td>0</td>\n",
       "      <td>0</td>\n",
       "      <td>0</td>\n",
       "      <td>0</td>\n",
       "      <td>0</td>\n",
       "      <td>0</td>\n",
       "    </tr>\n",
       "  </tbody>\n",
       "</table>\n",
       "<p>5 rows × 31 columns</p>\n",
       "</div>"
      ],
      "text/plain": [
       "         numVotes  runtimeMinutes  num_years  Musical  Fantasy  Short  \\\n",
       "397706  -0.065254       -0.856845  -0.075479        0        0      0   \n",
       "200478  -0.040643       -1.408349   0.331152        0        0      1   \n",
       "1204666 -0.063521       -0.470792  -0.798378        0        0      1   \n",
       "182802  -0.063215        0.714942  -0.075479        0        0      0   \n",
       "1214598 -0.061534       -1.215323  -0.798378        0        0      0   \n",
       "\n",
       "         Game-Show  History  Film-Noir  Adult  ...  Music  Comedy  Biography  \\\n",
       "397706           0        0          0      0  ...      0       1          0   \n",
       "200478           0        0          0      0  ...      0       0          0   \n",
       "1204666          0        0          0      0  ...      0       1          0   \n",
       "182802           0        0          0      0  ...      0       1          0   \n",
       "1214598          0        0          0      0  ...      0       1          0   \n",
       "\n",
       "         News  Horror  Sci-Fi  Western  Talk-Show  Family  Mystery  \n",
       "397706      0       0       0        0          0       0        0  \n",
       "200478      0       0       0        0          0       0        0  \n",
       "1204666     0       0       0        0          0       0        0  \n",
       "182802      0       0       0        0          0       0        0  \n",
       "1214598     0       0       0        0          0       0        0  \n",
       "\n",
       "[5 rows x 31 columns]"
      ]
     },
     "execution_count": 65,
     "metadata": {},
     "output_type": "execute_result"
    }
   ],
   "source": [
    "X_test.head()"
   ]
  },
  {
   "cell_type": "markdown",
   "id": "3c8ce5d2",
   "metadata": {},
   "source": [
    "Now we have the preprocessed training and test sets to work with for our ML models.\n",
    "\n",
    "## <span style=\"color:blue\">Step 3: ML Models</span>\n",
    "\n",
    "In this section, we will implement different ML models to compare their performance. \n",
    "The objective is to predict `averageRating` based on the other given features.\n",
    "\n",
    "#### <span style=\"color:green\">**Definitions of the evaluation metrics:** </span> \n",
    "* **Mean Absolute Error (MAE)**: the average of the absolute error values. The units of the error score match the units of the target value that is being predicted.\n",
    "* **Mean Squared Error (MSE)**: average of the squared differences between predicted and expected target values in a dataset\n",
    "* **Root Mean Squared Error (RMSE)**: square root of the MSE. The units of the RMSE are the same as the original units of the target value that is being predicted. \n",
    "* **R-squared (coefficient of determination)**: Best possible score is 1.0 and it can be negative (because the model can be arbitrarily worse). A constant model that always predicts the expected value of y, disregarding the input features, would get a  score of 0.0. _**If the relationship between the independent and dependent variables is non-linear then we will have low R2 values despite the model being good.**_\n",
    "\n",
    "### <span style=\"color:maroon\">**Linear Regression**</span>: \n",
    "Linear regression is one of the simplest yet powerful model. In this method, a linear model makes a prediction by simply computing a weighted sum of the input features, plus a constant called the _bias_ term. \n",
    "\n",
    "When training a model, we need to measure how well (or poorly) the model fits the training data. The most common performance measure of a regression model is the RMSE. Therefore, to train a linear regression model, we need to find the values of parameters that minimize the RMSE. "
   ]
  },
  {
   "cell_type": "code",
   "execution_count": 66,
   "id": "1024d6e8",
   "metadata": {},
   "outputs": [],
   "source": [
    "# Import necessary libraries\n",
    "from sklearn.linear_model import LinearRegression\n",
    "from sklearn.metrics import mean_absolute_error, mean_squared_error, r2_score"
   ]
  },
  {
   "cell_type": "code",
   "execution_count": 67,
   "id": "cd27e17c",
   "metadata": {},
   "outputs": [
    {
     "data": {
      "text/html": [
       "<style>#sk-container-id-1 {color: black;background-color: white;}#sk-container-id-1 pre{padding: 0;}#sk-container-id-1 div.sk-toggleable {background-color: white;}#sk-container-id-1 label.sk-toggleable__label {cursor: pointer;display: block;width: 100%;margin-bottom: 0;padding: 0.3em;box-sizing: border-box;text-align: center;}#sk-container-id-1 label.sk-toggleable__label-arrow:before {content: \"▸\";float: left;margin-right: 0.25em;color: #696969;}#sk-container-id-1 label.sk-toggleable__label-arrow:hover:before {color: black;}#sk-container-id-1 div.sk-estimator:hover label.sk-toggleable__label-arrow:before {color: black;}#sk-container-id-1 div.sk-toggleable__content {max-height: 0;max-width: 0;overflow: hidden;text-align: left;background-color: #f0f8ff;}#sk-container-id-1 div.sk-toggleable__content pre {margin: 0.2em;color: black;border-radius: 0.25em;background-color: #f0f8ff;}#sk-container-id-1 input.sk-toggleable__control:checked~div.sk-toggleable__content {max-height: 200px;max-width: 100%;overflow: auto;}#sk-container-id-1 input.sk-toggleable__control:checked~label.sk-toggleable__label-arrow:before {content: \"▾\";}#sk-container-id-1 div.sk-estimator input.sk-toggleable__control:checked~label.sk-toggleable__label {background-color: #d4ebff;}#sk-container-id-1 div.sk-label input.sk-toggleable__control:checked~label.sk-toggleable__label {background-color: #d4ebff;}#sk-container-id-1 input.sk-hidden--visually {border: 0;clip: rect(1px 1px 1px 1px);clip: rect(1px, 1px, 1px, 1px);height: 1px;margin: -1px;overflow: hidden;padding: 0;position: absolute;width: 1px;}#sk-container-id-1 div.sk-estimator {font-family: monospace;background-color: #f0f8ff;border: 1px dotted black;border-radius: 0.25em;box-sizing: border-box;margin-bottom: 0.5em;}#sk-container-id-1 div.sk-estimator:hover {background-color: #d4ebff;}#sk-container-id-1 div.sk-parallel-item::after {content: \"\";width: 100%;border-bottom: 1px solid gray;flex-grow: 1;}#sk-container-id-1 div.sk-label:hover label.sk-toggleable__label {background-color: #d4ebff;}#sk-container-id-1 div.sk-serial::before {content: \"\";position: absolute;border-left: 1px solid gray;box-sizing: border-box;top: 0;bottom: 0;left: 50%;z-index: 0;}#sk-container-id-1 div.sk-serial {display: flex;flex-direction: column;align-items: center;background-color: white;padding-right: 0.2em;padding-left: 0.2em;position: relative;}#sk-container-id-1 div.sk-item {position: relative;z-index: 1;}#sk-container-id-1 div.sk-parallel {display: flex;align-items: stretch;justify-content: center;background-color: white;position: relative;}#sk-container-id-1 div.sk-item::before, #sk-container-id-1 div.sk-parallel-item::before {content: \"\";position: absolute;border-left: 1px solid gray;box-sizing: border-box;top: 0;bottom: 0;left: 50%;z-index: -1;}#sk-container-id-1 div.sk-parallel-item {display: flex;flex-direction: column;z-index: 1;position: relative;background-color: white;}#sk-container-id-1 div.sk-parallel-item:first-child::after {align-self: flex-end;width: 50%;}#sk-container-id-1 div.sk-parallel-item:last-child::after {align-self: flex-start;width: 50%;}#sk-container-id-1 div.sk-parallel-item:only-child::after {width: 0;}#sk-container-id-1 div.sk-dashed-wrapped {border: 1px dashed gray;margin: 0 0.4em 0.5em 0.4em;box-sizing: border-box;padding-bottom: 0.4em;background-color: white;}#sk-container-id-1 div.sk-label label {font-family: monospace;font-weight: bold;display: inline-block;line-height: 1.2em;}#sk-container-id-1 div.sk-label-container {text-align: center;}#sk-container-id-1 div.sk-container {/* jupyter's `normalize.less` sets `[hidden] { display: none; }` but bootstrap.min.css set `[hidden] { display: none !important; }` so we also need the `!important` here to be able to override the default hidden behavior on the sphinx rendered scikit-learn.org. See: https://github.com/scikit-learn/scikit-learn/issues/21755 */display: inline-block !important;position: relative;}#sk-container-id-1 div.sk-text-repr-fallback {display: none;}</style><div id=\"sk-container-id-1\" class=\"sk-top-container\"><div class=\"sk-text-repr-fallback\"><pre>LinearRegression()</pre><b>In a Jupyter environment, please rerun this cell to show the HTML representation or trust the notebook. <br />On GitHub, the HTML representation is unable to render, please try loading this page with nbviewer.org.</b></div><div class=\"sk-container\" hidden><div class=\"sk-item\"><div class=\"sk-estimator sk-toggleable\"><input class=\"sk-toggleable__control sk-hidden--visually\" id=\"sk-estimator-id-1\" type=\"checkbox\" checked><label for=\"sk-estimator-id-1\" class=\"sk-toggleable__label sk-toggleable__label-arrow\">LinearRegression</label><div class=\"sk-toggleable__content\"><pre>LinearRegression()</pre></div></div></div></div></div>"
      ],
      "text/plain": [
       "LinearRegression()"
      ]
     },
     "execution_count": 67,
     "metadata": {},
     "output_type": "execute_result"
    }
   ],
   "source": [
    "linear_regressor = LinearRegression()\n",
    "linear_regressor.fit(X_train, y_train)"
   ]
  },
  {
   "cell_type": "code",
   "execution_count": 68,
   "id": "9a304cdd",
   "metadata": {},
   "outputs": [
    {
     "name": "stdout",
     "output_type": "stream",
     "text": [
      "MAE on test set (LR): 0.9377366311528843\n",
      "MSE on test set (LR): 1.5264531532412882\n",
      "RMSE on test set (LR): 1.2354971279777578\n",
      "R2 score on test set (LR): 0.15263155308353193\n"
     ]
    }
   ],
   "source": [
    "# Apply the trained model on test set\n",
    "y_pred_lr_test = linear_regressor.predict(X_test)\n",
    "\n",
    "print('MAE on test set (LR):', mean_absolute_error(y_test, y_pred_lr_test))\n",
    "print('MSE on test set (LR):', mean_squared_error(y_test, y_pred_lr_test))\n",
    "print('RMSE on test set (LR):', np.sqrt(mean_squared_error(y_test, y_pred_lr_test)))\n",
    "print('R2 score on test set (LR):', r2_score(y_test, y_pred_lr_test))"
   ]
  },
  {
   "cell_type": "code",
   "execution_count": 69,
   "id": "801d178e",
   "metadata": {},
   "outputs": [
    {
     "name": "stdout",
     "output_type": "stream",
     "text": [
      "MAE on training set (LR): 0.9365979140260337\n",
      "MSE on training set (LR): 1.5181437539836626\n",
      "RMSE on training set (LR): 1.232129763451749\n",
      "R2 score on training set (LR): 0.15669300246579143\n"
     ]
    }
   ],
   "source": [
    "# Apply the trained model on training set to check if it overfits\n",
    "y_pred_lr_train = linear_regressor.predict(X_train)\n",
    "\n",
    "print('MAE on training set (LR):', mean_absolute_error(y_train, y_pred_lr_train))\n",
    "print('MSE on training set (LR):', mean_squared_error(y_train, y_pred_lr_train))\n",
    "print('RMSE on training set (LR):', np.sqrt(mean_squared_error(y_train, y_pred_lr_train)))\n",
    "print('R2 score on training set (LR):', r2_score(y_train, y_pred_lr_train))"
   ]
  },
  {
   "cell_type": "markdown",
   "id": "dc7a93d0",
   "metadata": {},
   "source": [
    "From the above results, we can see that the metrics `Mean Absolute Error`, `Mean Squared Error`, `Root Mean Squared Error`, and `R-squared` by applying the trained Linear Regression model to the training and test sets are close to each other. This implies that the traind linear regression model does not over-fits the training set since the performance doesn't decline too much on the unseen test set. <br> \n",
    "\n",
    "Next, let's take a look at the values of parameters obtained from the trained Linear Regression model."
   ]
  },
  {
   "cell_type": "code",
   "execution_count": 70,
   "id": "8ab7d023",
   "metadata": {},
   "outputs": [
    {
     "data": {
      "text/html": [
       "<div>\n",
       "<style scoped>\n",
       "    .dataframe tbody tr th:only-of-type {\n",
       "        vertical-align: middle;\n",
       "    }\n",
       "\n",
       "    .dataframe tbody tr th {\n",
       "        vertical-align: top;\n",
       "    }\n",
       "\n",
       "    .dataframe thead th {\n",
       "        text-align: right;\n",
       "    }\n",
       "</style>\n",
       "<table border=\"1\" class=\"dataframe\">\n",
       "  <thead>\n",
       "    <tr style=\"text-align: right;\">\n",
       "      <th></th>\n",
       "      <th>Coefficients</th>\n",
       "    </tr>\n",
       "  </thead>\n",
       "  <tbody>\n",
       "    <tr>\n",
       "      <th>numVotes</th>\n",
       "      <td>0.055245</td>\n",
       "    </tr>\n",
       "    <tr>\n",
       "      <th>runtimeMinutes</th>\n",
       "      <td>-0.439205</td>\n",
       "    </tr>\n",
       "    <tr>\n",
       "      <th>num_years</th>\n",
       "      <td>-0.186810</td>\n",
       "    </tr>\n",
       "    <tr>\n",
       "      <th>Musical</th>\n",
       "      <td>-0.268323</td>\n",
       "    </tr>\n",
       "    <tr>\n",
       "      <th>Fantasy</th>\n",
       "      <td>0.131381</td>\n",
       "    </tr>\n",
       "    <tr>\n",
       "      <th>Short</th>\n",
       "      <td>-0.471091</td>\n",
       "    </tr>\n",
       "    <tr>\n",
       "      <th>Game-Show</th>\n",
       "      <td>0.366374</td>\n",
       "    </tr>\n",
       "    <tr>\n",
       "      <th>History</th>\n",
       "      <td>0.226970</td>\n",
       "    </tr>\n",
       "    <tr>\n",
       "      <th>Film-Noir</th>\n",
       "      <td>-0.271642</td>\n",
       "    </tr>\n",
       "    <tr>\n",
       "      <th>Adult</th>\n",
       "      <td>-0.033984</td>\n",
       "    </tr>\n",
       "    <tr>\n",
       "      <th>Documentary</th>\n",
       "      <td>0.457455</td>\n",
       "    </tr>\n",
       "    <tr>\n",
       "      <th>Crime</th>\n",
       "      <td>0.164436</td>\n",
       "    </tr>\n",
       "    <tr>\n",
       "      <th>Reality-TV</th>\n",
       "      <td>-0.111908</td>\n",
       "    </tr>\n",
       "    <tr>\n",
       "      <th>Animation</th>\n",
       "      <td>-0.114673</td>\n",
       "    </tr>\n",
       "    <tr>\n",
       "      <th>Thriller</th>\n",
       "      <td>-0.356933</td>\n",
       "    </tr>\n",
       "    <tr>\n",
       "      <th>Drama</th>\n",
       "      <td>0.339810</td>\n",
       "    </tr>\n",
       "    <tr>\n",
       "      <th>Sport</th>\n",
       "      <td>0.307036</td>\n",
       "    </tr>\n",
       "    <tr>\n",
       "      <th>War</th>\n",
       "      <td>0.213401</td>\n",
       "    </tr>\n",
       "    <tr>\n",
       "      <th>Romance</th>\n",
       "      <td>-0.034782</td>\n",
       "    </tr>\n",
       "    <tr>\n",
       "      <th>Adventure</th>\n",
       "      <td>0.114821</td>\n",
       "    </tr>\n",
       "    <tr>\n",
       "      <th>Action</th>\n",
       "      <td>0.011952</td>\n",
       "    </tr>\n",
       "    <tr>\n",
       "      <th>Music</th>\n",
       "      <td>0.380520</td>\n",
       "    </tr>\n",
       "    <tr>\n",
       "      <th>Comedy</th>\n",
       "      <td>0.033285</td>\n",
       "    </tr>\n",
       "    <tr>\n",
       "      <th>Biography</th>\n",
       "      <td>0.117009</td>\n",
       "    </tr>\n",
       "    <tr>\n",
       "      <th>News</th>\n",
       "      <td>-0.436729</td>\n",
       "    </tr>\n",
       "    <tr>\n",
       "      <th>Horror</th>\n",
       "      <td>-0.796915</td>\n",
       "    </tr>\n",
       "    <tr>\n",
       "      <th>Sci-Fi</th>\n",
       "      <td>-0.191586</td>\n",
       "    </tr>\n",
       "    <tr>\n",
       "      <th>Western</th>\n",
       "      <td>0.367329</td>\n",
       "    </tr>\n",
       "    <tr>\n",
       "      <th>Talk-Show</th>\n",
       "      <td>-0.174422</td>\n",
       "    </tr>\n",
       "    <tr>\n",
       "      <th>Family</th>\n",
       "      <td>0.032954</td>\n",
       "    </tr>\n",
       "    <tr>\n",
       "      <th>Mystery</th>\n",
       "      <td>0.168203</td>\n",
       "    </tr>\n",
       "  </tbody>\n",
       "</table>\n",
       "</div>"
      ],
      "text/plain": [
       "                Coefficients\n",
       "numVotes            0.055245\n",
       "runtimeMinutes     -0.439205\n",
       "num_years          -0.186810\n",
       "Musical            -0.268323\n",
       "Fantasy             0.131381\n",
       "Short              -0.471091\n",
       "Game-Show           0.366374\n",
       "History             0.226970\n",
       "Film-Noir          -0.271642\n",
       "Adult              -0.033984\n",
       "Documentary         0.457455\n",
       "Crime               0.164436\n",
       "Reality-TV         -0.111908\n",
       "Animation          -0.114673\n",
       "Thriller           -0.356933\n",
       "Drama               0.339810\n",
       "Sport               0.307036\n",
       "War                 0.213401\n",
       "Romance            -0.034782\n",
       "Adventure           0.114821\n",
       "Action              0.011952\n",
       "Music               0.380520\n",
       "Comedy              0.033285\n",
       "Biography           0.117009\n",
       "News               -0.436729\n",
       "Horror             -0.796915\n",
       "Sci-Fi             -0.191586\n",
       "Western             0.367329\n",
       "Talk-Show          -0.174422\n",
       "Family              0.032954\n",
       "Mystery             0.168203"
      ]
     },
     "execution_count": 70,
     "metadata": {},
     "output_type": "execute_result"
    }
   ],
   "source": [
    "df_coeff_lr = pd.DataFrame(linear_regressor.coef_, X_test.columns, columns=['Coefficients'])\n",
    "df_coeff_lr"
   ]
  },
  {
   "cell_type": "code",
   "execution_count": 71,
   "id": "c7d5e911",
   "metadata": {},
   "outputs": [
    {
     "data": {
      "text/plain": [
       "6.733186738795599"
      ]
     },
     "execution_count": 71,
     "metadata": {},
     "output_type": "execute_result"
    }
   ],
   "source": [
    "linear_regressor.intercept_"
   ]
  },
  {
   "cell_type": "markdown",
   "id": "c1899003",
   "metadata": {},
   "source": [
    "Now let's take a look at some of the actual ratings and predicted ratings."
   ]
  },
  {
   "cell_type": "code",
   "execution_count": 72,
   "id": "0985b406",
   "metadata": {},
   "outputs": [
    {
     "data": {
      "text/html": [
       "<div>\n",
       "<style scoped>\n",
       "    .dataframe tbody tr th:only-of-type {\n",
       "        vertical-align: middle;\n",
       "    }\n",
       "\n",
       "    .dataframe tbody tr th {\n",
       "        vertical-align: top;\n",
       "    }\n",
       "\n",
       "    .dataframe thead th {\n",
       "        text-align: right;\n",
       "    }\n",
       "</style>\n",
       "<table border=\"1\" class=\"dataframe\">\n",
       "  <thead>\n",
       "    <tr style=\"text-align: right;\">\n",
       "      <th></th>\n",
       "      <th>Actual Rating</th>\n",
       "      <th>Predicted Rating</th>\n",
       "    </tr>\n",
       "  </thead>\n",
       "  <tbody>\n",
       "    <tr>\n",
       "      <th>1034293</th>\n",
       "      <td>6.7</td>\n",
       "      <td>7.122652</td>\n",
       "    </tr>\n",
       "    <tr>\n",
       "      <th>1191367</th>\n",
       "      <td>7.6</td>\n",
       "      <td>7.481319</td>\n",
       "    </tr>\n",
       "    <tr>\n",
       "      <th>1052449</th>\n",
       "      <td>4.0</td>\n",
       "      <td>6.965081</td>\n",
       "    </tr>\n",
       "    <tr>\n",
       "      <th>192947</th>\n",
       "      <td>7.1</td>\n",
       "      <td>6.552417</td>\n",
       "    </tr>\n",
       "    <tr>\n",
       "      <th>2523</th>\n",
       "      <td>6.6</td>\n",
       "      <td>6.423801</td>\n",
       "    </tr>\n",
       "  </tbody>\n",
       "</table>\n",
       "</div>"
      ],
      "text/plain": [
       "         Actual Rating  Predicted Rating\n",
       "1034293            6.7          7.122652\n",
       "1191367            7.6          7.481319\n",
       "1052449            4.0          6.965081\n",
       "192947             7.1          6.552417\n",
       "2523               6.6          6.423801"
      ]
     },
     "execution_count": 72,
     "metadata": {},
     "output_type": "execute_result"
    }
   ],
   "source": [
    "df_comparison_lr = pd.DataFrame({'Actual Rating': y_test, 'Predicted Rating': y_pred_lr_test})\n",
    "df_comparison_lr.sample(n=5)"
   ]
  },
  {
   "cell_type": "markdown",
   "id": "e4129f8f",
   "metadata": {},
   "source": [
    "### <span style=\"color:maroon\">**Random Forest Regressor**</span>: <br> \n",
    "Random Forests is an **ensemble learning method** for classification and regression. It **combines multiple decision trees to create a forest of trees**, hence the name \"Random Forest\". \n",
    "The basic idea behind random forests is to **train many decision trees independently and on different subsets of instances and features,** and then aggregate their predictions. <br> \n",
    "\n",
    "We will use `RandomizedSearchCV` in order to find the best hyperparameters to use for prediction purposes. "
   ]
  },
  {
   "cell_type": "code",
   "execution_count": 73,
   "id": "ce5227a0",
   "metadata": {},
   "outputs": [],
   "source": [
    "# Import necessary libraries\n",
    "from sklearn.ensemble import RandomForestRegressor\n",
    "from sklearn.model_selection import RandomizedSearchCV"
   ]
  },
  {
   "cell_type": "code",
   "execution_count": 77,
   "id": "38a29050",
   "metadata": {},
   "outputs": [
    {
     "name": "stdout",
     "output_type": "stream",
     "text": [
      "The best parameters for our Random Forest Regressor are: {'oob_score': True, 'n_estimators': 20, 'min_samples_split': 7, 'min_samples_leaf': 3, 'max_features': 'auto', 'max_depth': 7, 'bootstrap': True}\n",
      "The best cross-validation score:0.2622256850858452\n"
     ]
    }
   ],
   "source": [
    "param_grid = [\n",
    "    {\n",
    "        'max_depth': [3, 7],\n",
    "        'min_samples_leaf': [1, 3],\n",
    "        'n_estimators': [5, 10, 15, 20],\n",
    "        'bootstrap': [True],\n",
    "        'max_features': ['auto'],\n",
    "        'min_samples_split': [3, 7],\n",
    "        'oob_score': [True]\n",
    "    }\n",
    "]\n",
    "random_search_rf = RandomizedSearchCV(estimator=RandomForestRegressor(), \n",
    "                                      param_distributions=param_grid,\n",
    "                                      cv=5, \n",
    "                                      verbose=0)\n",
    "random_search_rf.fit(X_train, y_train)\n",
    "\n",
    "print(f\"The best parameters for our Random Forest Regressor are: {random_search_rf.best_params_}\") \n",
    "print(f\"The best cross-validation score:{random_search_rf.best_score_}\") "
   ]
  },
  {
   "cell_type": "code",
   "execution_count": 78,
   "id": "d892c784",
   "metadata": {},
   "outputs": [
    {
     "name": "stdout",
     "output_type": "stream",
     "text": [
      "MAE on test set (RF): 0.8639670840770283\n",
      "MSE on test set (RF): 1.3494436564010424\n",
      "RMSE on test set (RF): 1.1616555670253736\n",
      "R2 score on test set (RF): 0.2508935024322487\n"
     ]
    }
   ],
   "source": [
    "# Build the model with the best parameters\n",
    "random_forest = random_search_rf.best_estimator_\n",
    "\n",
    "# Apply the trained model on test set\n",
    "y_pred_rf = random_forest.predict(X_test)\n",
    "\n",
    "print('MAE on test set (RF):', mean_absolute_error(y_test, y_pred_rf))\n",
    "print('MSE on test set (RF):', mean_squared_error(y_test, y_pred_rf))\n",
    "print('RMSE on test set (RF):', np.sqrt(mean_squared_error(y_test, y_pred_rf)))\n",
    "print('R2 score on test set (RF):', r2_score(y_test, y_pred_rf))"
   ]
  },
  {
   "cell_type": "markdown",
   "id": "fad311de",
   "metadata": {},
   "source": [
    "### <span style=\"color:maroon\">**Neural Network**</span>: <br> \n",
    "\n",
    "We have a big enough dataset to make use of more complex models like Neural Networks. These models are able to capture the inherent nonlinear relationship between the independent and dependent variable if there is any, as compared to simple linear regression models. "
   ]
  },
  {
   "cell_type": "code",
   "execution_count": 80,
   "id": "d287466c",
   "metadata": {},
   "outputs": [],
   "source": [
    "# Import necessary libraries\n",
    "from tensorflow import keras"
   ]
  },
  {
   "cell_type": "code",
   "execution_count": 87,
   "id": "b9f8fa8b",
   "metadata": {},
   "outputs": [
    {
     "name": "stdout",
     "output_type": "stream",
     "text": [
      "Epoch 1/10\n",
      "23595/23595 [==============================] - 30s 1ms/step - loss: 1.6099\n",
      "Epoch 2/10\n",
      "23595/23595 [==============================] - 27s 1ms/step - loss: 1.3069\n",
      "Epoch 3/10\n",
      "23595/23595 [==============================] - 24s 1ms/step - loss: 1.2967\n",
      "Epoch 4/10\n",
      "23595/23595 [==============================] - 29s 1ms/step - loss: 1.2906\n",
      "Epoch 5/10\n",
      "23595/23595 [==============================] - 26s 1ms/step - loss: 1.2852\n",
      "Epoch 6/10\n",
      "23595/23595 [==============================] - 24s 1ms/step - loss: 1.2824\n",
      "Epoch 7/10\n",
      "23595/23595 [==============================] - 28s 1ms/step - loss: 1.2776\n",
      "Epoch 8/10\n",
      "23595/23595 [==============================] - 26s 1ms/step - loss: 1.2743\n",
      "Epoch 9/10\n",
      "23595/23595 [==============================] - 27s 1ms/step - loss: 1.2720\n",
      "Epoch 10/10\n",
      "23595/23595 [==============================] - 26s 1ms/step - loss: 1.2700\n",
      "4164/4164 [==============================] - 3s 674us/step - loss: 1.2743\n",
      "4164/4164 [==============================] - 3s 779us/step\n"
     ]
    }
   ],
   "source": [
    "model = keras.models.Sequential([\n",
    "    keras.layers.Dense(30, activation='relu', input_shape=X_train.shape[1:]),\n",
    "    keras.layers.Dense(15, activation = 'relu'), \n",
    "    keras.layers.Dense(1)\n",
    "])\n",
    "\n",
    "model.compile(loss='mean_squared_error', optimizer='adam') # 'sgd'\n",
    "history = model.fit(X_train, y_train, epochs=10)\n",
    "mse_test_nn = model.evaluate(X_test, y_test)\n",
    "y_pred_nn = model.predict(X_test)\n",
    "r2_test_nn = r2_score(y_test, y_pred_nn)"
   ]
  },
  {
   "cell_type": "code",
   "execution_count": 88,
   "id": "07e28230",
   "metadata": {},
   "outputs": [
    {
     "name": "stdout",
     "output_type": "stream",
     "text": [
      "MAE on test set (NN): 0.8378976474193873\n",
      "MSE on test set (NN): 1.2743071059431763\n",
      "RMSE on test set (NN): 1.1288521187220124\n",
      "R2 score on test set (NN): 0.2926034900155223\n"
     ]
    }
   ],
   "source": [
    "print('MAE on test set (NN):', mean_absolute_error(y_test, y_pred_nn))\n",
    "print('MSE on test set (NN):', mean_squared_error(y_test, y_pred_nn))\n",
    "print('RMSE on test set (NN):', np.sqrt(mean_squared_error(y_test, y_pred_nn)))\n",
    "print('R2 score on test set (NN):', r2_score(y_test, y_pred_nn))"
   ]
  },
  {
   "cell_type": "markdown",
   "id": "7908ae28",
   "metadata": {},
   "source": [
    "### <span style=\"color:blue\">**Step 4: Results and conclusion** </span>\n",
    "\n",
    "In this section, we will compare the 3 models we trained from the previous section."
   ]
  },
  {
   "cell_type": "code",
   "execution_count": 89,
   "id": "01e53255",
   "metadata": {},
   "outputs": [
    {
     "name": "stdout",
     "output_type": "stream",
     "text": [
      "************Linear Regression results***************\n",
      "MAE on test set (LR): 0.9377366311528843\n",
      "MSE on test set (LR): 1.5264531532412882\n",
      "RMSE on test set (LR): 1.2354971279777578\n",
      "R2 score on test set (LR): 0.15263155308353193\n",
      "\n",
      "\n",
      "************Random Forest results***************\n",
      "MAE on test set (RF): 0.8639670840770283\n",
      "MSE on test set (RF): 1.3494436564010424\n",
      "RMSE on test set (RF): 1.1616555670253736\n",
      "R2 score on test set (RF): 0.2508935024322487\n",
      "\n",
      "\n",
      "************Neural Network results***************\n",
      "MAE on test set (NN): 0.8378976474193873\n",
      "MSE on test set (NN): 1.2743071059431763\n",
      "RMSE on test set (NN): 1.1288521187220124\n",
      "R2 score on test set (NN): 0.2926034900155223\n"
     ]
    }
   ],
   "source": [
    "print('************Linear Regression results***************')\n",
    "print('MAE on test set (LR):', mean_absolute_error(y_test, y_pred_lr_test))\n",
    "print('MSE on test set (LR):', mean_squared_error(y_test, y_pred_lr_test))\n",
    "print('RMSE on test set (LR):', np.sqrt(mean_squared_error(y_test, y_pred_lr_test)))\n",
    "print('R2 score on test set (LR):', r2_score(y_test, y_pred_lr_test))\n",
    "print('\\n')\n",
    "print('************Random Forest results***************')\n",
    "print('MAE on test set (RF):', mean_absolute_error(y_test, y_pred_rf))\n",
    "print('MSE on test set (RF):', mean_squared_error(y_test, y_pred_rf))\n",
    "print('RMSE on test set (RF):', np.sqrt(mean_squared_error(y_test, y_pred_rf)))\n",
    "print('R2 score on test set (RF):', r2_score(y_test, y_pred_rf))\n",
    "print('\\n')\n",
    "print('************Neural Network results***************')\n",
    "print('MAE on test set (NN):', mean_absolute_error(y_test, y_pred_nn))\n",
    "print('MSE on test set (NN):', mean_squared_error(y_test, y_pred_nn))\n",
    "print('RMSE on test set (NN):', np.sqrt(mean_squared_error(y_test, y_pred_nn)))\n",
    "print('R2 score on test set (NN):', r2_score(y_test, y_pred_nn))"
   ]
  },
  {
   "cell_type": "markdown",
   "id": "3583105a",
   "metadata": {},
   "source": [
    "#### <span style=\"color:green\">**Observations:** </span> \n",
    "1. Among all the models considered, Neural networks perform the best followed by random forest models, and then simple regression models. However, in case of simple regression, the training time was substantially less as compared to the other models. \n",
    "2. For all the three models, the R2 value remains very low. This might be due to the fact that the relationship between the independent and dependent variables might not be linear. \n",
    "3. The random forest and neural network models were trained for limited hyperparameters and epochs due to lack of resources. Training them for longer will definitely improve the results. "
   ]
  },
  {
   "cell_type": "markdown",
   "id": "2a1ed08d",
   "metadata": {},
   "source": [
    "### <span style=\"color:blue\">**Step 5: Future Work** </span>\n",
    "1. Include selected data from the 4 datasets that were excluded for this analysis. The names of the actors, directors, writers, etc. do have an effect on the IMDb ratings of a movie. \n",
    "2. Include information regarding the `region`, `language`, and `types` of distribution for the movies. Movies belonging to certain languages/regions might be getting higher ratings as compared to others due to the differences in the number of audiences. Similary, the delivery method for a movie might also have effects on the ratings. \n",
    "3. Try out more combinations of hyperparameters for the Random Forest model which would take longer and more computational resources. \n",
    "4. Try out a deeper/complex neural network structures to see how things turn out. "
   ]
  }
 ],
 "metadata": {
  "kernelspec": {
   "display_name": "ml_mac",
   "language": "python",
   "name": "ml_mac"
  },
  "language_info": {
   "codemirror_mode": {
    "name": "ipython",
    "version": 3
   },
   "file_extension": ".py",
   "mimetype": "text/x-python",
   "name": "python",
   "nbconvert_exporter": "python",
   "pygments_lexer": "ipython3",
   "version": "3.8.15"
  }
 },
 "nbformat": 4,
 "nbformat_minor": 5
}
