{
  "cells": [
    {
      "cell_type": "markdown",
      "metadata": {
        "id": "cncmrsXmAJ2s"
      },
      "source": [
        "# Analyzing Layoffs in 2022\n",
        "**About the dataset**: This dataset is from Kaggle, which was scraped from Layoffs.fyi. Original dataset can be tracked at https://layoffs.fyi/.\n",
        "\n",
        "**Objective**: Analyze mass layoffs in 2022 and discover useful insights and patterns.\n",
        "\n",
        "**Required libraries**: Pandas, Numpy, Matplotlib, Seaborn."
      ]
    },
    {
      "cell_type": "markdown",
      "metadata": {
        "id": "whqRhenHAJ2w"
      },
      "source": [
        "## Downloading the Dataset"
      ]
    },
    {
      "cell_type": "code",
      "execution_count": null,
      "metadata": {
        "id": "DjRfXR2lAJ2w"
      },
      "outputs": [],
      "source": [
        "!pip install jovian opendatasets --upgrade --quiet"
      ]
    },
    {
      "cell_type": "markdown",
      "metadata": {
        "id": "pCw-GtqPAJ2x"
      },
      "source": [
        "Let's begin by downloading the data, and listing the files within the dataset."
      ]
    },
    {
      "cell_type": "code",
      "execution_count": null,
      "metadata": {
        "id": "xiAqNHjDAJ2x"
      },
      "outputs": [],
      "source": [
        "dataset_url = 'https://www.kaggle.com/datasets/theakhilb/layoffs-data-2022'"
      ]
    },
    {
      "cell_type": "code",
      "execution_count": null,
      "metadata": {
        "id": "ce2jktv0AJ2x",
        "outputId": "cfa21b02-4eb5-4472-c1b2-f02101338166"
      },
      "outputs": [
        {
          "name": "stdout",
          "output_type": "stream",
          "text": [
            "Skipping, found downloaded files in \"./layoffs-data-2022\" (use force=True to force download)\n"
          ]
        }
      ],
      "source": [
        "import opendatasets as od\n",
        "od.download(dataset_url)"
      ]
    },
    {
      "cell_type": "markdown",
      "metadata": {
        "id": "wkfRKGRpAJ2z"
      },
      "source": [
        "The dataset has been downloaded and extracted."
      ]
    },
    {
      "cell_type": "code",
      "execution_count": null,
      "metadata": {
        "id": "lz58tX9iAJ2z"
      },
      "outputs": [],
      "source": [
        "data_dir = './layoffs-data-2022'"
      ]
    },
    {
      "cell_type": "code",
      "execution_count": null,
      "metadata": {
        "id": "iLVNrb-SAJ2z",
        "outputId": "7f45dab1-f7ef-4d5e-d9fe-9f629c411492"
      },
      "outputs": [
        {
          "data": {
            "text/plain": [
              "['layoffs_data.csv']"
            ]
          },
          "execution_count": 6,
          "metadata": {},
          "output_type": "execute_result"
        }
      ],
      "source": [
        "import os\n",
        "os.listdir(data_dir)"
      ]
    },
    {
      "cell_type": "code",
      "execution_count": null,
      "metadata": {
        "id": "_hgMpoVLAJ20"
      },
      "outputs": [],
      "source": [
        "project_name = \"layoff-2022\" "
      ]
    },
    {
      "cell_type": "code",
      "execution_count": null,
      "metadata": {
        "id": "SjU6nB7gAJ20"
      },
      "outputs": [],
      "source": [
        "!pip install jovian --upgrade -q"
      ]
    },
    {
      "cell_type": "code",
      "execution_count": null,
      "metadata": {
        "id": "UxtFYgYpAJ20"
      },
      "outputs": [],
      "source": [
        "import jovian"
      ]
    },
    {
      "cell_type": "code",
      "execution_count": null,
      "metadata": {
        "id": "2dojyOsmAJ20"
      },
      "outputs": [],
      "source": [
        "jovian.commit(project=project_name)"
      ]
    },
    {
      "cell_type": "markdown",
      "metadata": {
        "id": "V6U-UeFnAJ20"
      },
      "source": [
        "## Data Preparation and Cleaning"
      ]
    },
    {
      "cell_type": "markdown",
      "metadata": {
        "id": "LBPBL7KRAJ20"
      },
      "source": [
        "**Load the dataset into a data frame using Pandas**"
      ]
    },
    {
      "cell_type": "code",
      "execution_count": null,
      "metadata": {
        "id": "yBIXLUI4AJ20"
      },
      "outputs": [],
      "source": [
        "# Import libraries\n",
        "import pandas as pd\n",
        "import numpy as np"
      ]
    },
    {
      "cell_type": "code",
      "execution_count": null,
      "metadata": {
        "id": "aO7EZZKgAJ21"
      },
      "outputs": [],
      "source": [
        "# Read data into a DataFrame\n",
        "layoff_df = pd.read_csv('./layoffs-data-2022/layoffs_data.csv')"
      ]
    },
    {
      "cell_type": "code",
      "execution_count": null,
      "metadata": {
        "scrolled": false,
        "id": "dDtcA3I5AJ21",
        "outputId": "5cffb9f0-78b7-406e-9022-f95796db63e5"
      },
      "outputs": [
        {
          "data": {
            "text/html": [
              "<div>\n",
              "<style scoped>\n",
              "    .dataframe tbody tr th:only-of-type {\n",
              "        vertical-align: middle;\n",
              "    }\n",
              "\n",
              "    .dataframe tbody tr th {\n",
              "        vertical-align: top;\n",
              "    }\n",
              "\n",
              "    .dataframe thead th {\n",
              "        text-align: right;\n",
              "    }\n",
              "</style>\n",
              "<table border=\"1\" class=\"dataframe\">\n",
              "  <thead>\n",
              "    <tr style=\"text-align: right;\">\n",
              "      <th></th>\n",
              "      <th>Company</th>\n",
              "      <th>Location</th>\n",
              "      <th>Industry</th>\n",
              "      <th>Date</th>\n",
              "      <th>Source</th>\n",
              "      <th>Funds_Raised</th>\n",
              "      <th>Stage</th>\n",
              "      <th>Date_Added</th>\n",
              "      <th>Country</th>\n",
              "      <th>Laid_Off_Count</th>\n",
              "      <th>Percentage</th>\n",
              "      <th>List_of_Employees_Laid_Off</th>\n",
              "    </tr>\n",
              "  </thead>\n",
              "  <tbody>\n",
              "    <tr>\n",
              "      <th>0</th>\n",
              "      <td>Autobooks</td>\n",
              "      <td>Detroit</td>\n",
              "      <td>Finance</td>\n",
              "      <td>2022-12-10</td>\n",
              "      <td>https://www.crainsdetroit.com/technology/finte...</td>\n",
              "      <td>97.0</td>\n",
              "      <td>Series C</td>\n",
              "      <td>2022-12-11 03:36:27</td>\n",
              "      <td>United States</td>\n",
              "      <td>NaN</td>\n",
              "      <td>NaN</td>\n",
              "      <td>Unknown</td>\n",
              "    </tr>\n",
              "    <tr>\n",
              "      <th>1</th>\n",
              "      <td>PharmEasy</td>\n",
              "      <td>Mumbai</td>\n",
              "      <td>Healthcare</td>\n",
              "      <td>2022-12-10</td>\n",
              "      <td>https://inc42.com/buzz/pharmeasy-lays-off-more...</td>\n",
              "      <td>1600.0</td>\n",
              "      <td>Unknown</td>\n",
              "      <td>2022-12-11 06:25:36</td>\n",
              "      <td>India</td>\n",
              "      <td>NaN</td>\n",
              "      <td>NaN</td>\n",
              "      <td>Unknown</td>\n",
              "    </tr>\n",
              "    <tr>\n",
              "      <th>2</th>\n",
              "      <td>Playtika</td>\n",
              "      <td>Tel Aviv</td>\n",
              "      <td>Consumer</td>\n",
              "      <td>2022-12-09</td>\n",
              "      <td>https://en.globes.co.il/en/article-playtika-to...</td>\n",
              "      <td>NaN</td>\n",
              "      <td>IPO</td>\n",
              "      <td>2022-12-11 06:01:30</td>\n",
              "      <td>Israel</td>\n",
              "      <td>600.0</td>\n",
              "      <td>0.15</td>\n",
              "      <td>Unknown</td>\n",
              "    </tr>\n",
              "    <tr>\n",
              "      <th>3</th>\n",
              "      <td>Alice</td>\n",
              "      <td>Sao Paulo</td>\n",
              "      <td>Healthcare</td>\n",
              "      <td>2022-12-09</td>\n",
              "      <td>https://startups.com.br/demissoes/alice-faz-no...</td>\n",
              "      <td>174.0</td>\n",
              "      <td>Series C</td>\n",
              "      <td>2022-12-11 03:31:04</td>\n",
              "      <td>Brazil</td>\n",
              "      <td>113.0</td>\n",
              "      <td>0.16</td>\n",
              "      <td>Unknown</td>\n",
              "    </tr>\n",
              "    <tr>\n",
              "      <th>4</th>\n",
              "      <td>Primer</td>\n",
              "      <td>London</td>\n",
              "      <td>Finance</td>\n",
              "      <td>2022-12-09</td>\n",
              "      <td>https://techcrunch.com/2022/12/09/primer-the-u...</td>\n",
              "      <td>73.0</td>\n",
              "      <td>Series B</td>\n",
              "      <td>2022-12-09 16:37:23</td>\n",
              "      <td>United Kingdom</td>\n",
              "      <td>85.0</td>\n",
              "      <td>0.33</td>\n",
              "      <td>Unknown</td>\n",
              "    </tr>\n",
              "  </tbody>\n",
              "</table>\n",
              "</div>"
            ],
            "text/plain": [
              "     Company   Location    Industry        Date  \\\n",
              "0  Autobooks    Detroit     Finance  2022-12-10   \n",
              "1  PharmEasy     Mumbai  Healthcare  2022-12-10   \n",
              "2   Playtika   Tel Aviv    Consumer  2022-12-09   \n",
              "3      Alice  Sao Paulo  Healthcare  2022-12-09   \n",
              "4     Primer     London     Finance  2022-12-09   \n",
              "\n",
              "                                              Source  Funds_Raised     Stage  \\\n",
              "0  https://www.crainsdetroit.com/technology/finte...          97.0  Series C   \n",
              "1  https://inc42.com/buzz/pharmeasy-lays-off-more...        1600.0   Unknown   \n",
              "2  https://en.globes.co.il/en/article-playtika-to...           NaN       IPO   \n",
              "3  https://startups.com.br/demissoes/alice-faz-no...         174.0  Series C   \n",
              "4  https://techcrunch.com/2022/12/09/primer-the-u...          73.0  Series B   \n",
              "\n",
              "            Date_Added         Country  Laid_Off_Count  Percentage  \\\n",
              "0  2022-12-11 03:36:27   United States             NaN         NaN   \n",
              "1  2022-12-11 06:25:36           India             NaN         NaN   \n",
              "2  2022-12-11 06:01:30          Israel           600.0        0.15   \n",
              "3  2022-12-11 03:31:04          Brazil           113.0        0.16   \n",
              "4  2022-12-09 16:37:23  United Kingdom            85.0        0.33   \n",
              "\n",
              "  List_of_Employees_Laid_Off  \n",
              "0                    Unknown  \n",
              "1                    Unknown  \n",
              "2                    Unknown  \n",
              "3                    Unknown  \n",
              "4                    Unknown  "
            ]
          },
          "execution_count": 15,
          "metadata": {},
          "output_type": "execute_result"
        }
      ],
      "source": [
        "# check the first 5 rows\n",
        "layoff_df.head()"
      ]
    },
    {
      "cell_type": "markdown",
      "metadata": {
        "id": "kS6ahBtHAJ21"
      },
      "source": [
        "**Explore the number of rows & columns, ranges of values etc**"
      ]
    },
    {
      "cell_type": "code",
      "execution_count": null,
      "metadata": {
        "scrolled": true,
        "id": "D_E7-HeXAJ21",
        "outputId": "3c3004aa-8a0d-4978-cdcb-f78594f782d2"
      },
      "outputs": [
        {
          "data": {
            "text/plain": [
              "(1792, 12)"
            ]
          },
          "execution_count": 16,
          "metadata": {},
          "output_type": "execute_result"
        }
      ],
      "source": [
        "# Check the dimension of dataset\n",
        "layoff_df.shape"
      ]
    },
    {
      "cell_type": "markdown",
      "metadata": {
        "id": "OKe5D94DAJ21"
      },
      "source": [
        "There are 1792 rows and 12 columns. "
      ]
    },
    {
      "cell_type": "code",
      "execution_count": null,
      "metadata": {
        "scrolled": true,
        "id": "NK632V1QAJ21",
        "outputId": "9d434f66-7cb0-49d9-f069-8fbe48b47f10"
      },
      "outputs": [
        {
          "data": {
            "text/plain": [
              "Index(['Company', 'Location', 'Industry', 'Date', 'Source', 'Funds_Raised',\n",
              "       'Stage', 'Date_Added', 'Country', 'Laid_Off_Count', 'Percentage',\n",
              "       'List_of_Employees_Laid_Off'],\n",
              "      dtype='object')"
            ]
          },
          "execution_count": 17,
          "metadata": {},
          "output_type": "execute_result"
        }
      ],
      "source": [
        "# Check the columns of the dataset\n",
        "layoff_df.columns"
      ]
    },
    {
      "cell_type": "markdown",
      "metadata": {
        "id": "r6WUwCUuAJ22"
      },
      "source": [
        "**Handle missing, incorrect and invalid data**"
      ]
    },
    {
      "cell_type": "code",
      "execution_count": null,
      "metadata": {
        "id": "oYOcyt4sAJ22",
        "outputId": "605bae78-fb94-45da-9865-46fc322608d6"
      },
      "outputs": [
        {
          "name": "stdout",
          "output_type": "stream",
          "text": [
            "Missing value for column 'Company' is 0\n",
            "Missing value for column 'Location' is 0\n",
            "Missing value for column 'Industry' is 0\n",
            "Missing value for column 'Date' is 1\n",
            "Missing value for column 'Source' is 0\n",
            "Missing value for column 'Funds_Raised' is 133\n",
            "Missing value for column 'Stage' is 0\n",
            "Missing value for column 'Date_Added' is 0\n",
            "Missing value for column 'Country' is 0\n",
            "Missing value for column 'Laid_Off_Count' is 534\n",
            "Missing value for column 'Percentage' is 582\n",
            "Missing value for column 'List_of_Employees_Laid_Off' is 0\n"
          ]
        }
      ],
      "source": [
        "# Count the number of missing values for each column\n",
        "for col in layoff_df.columns:\n",
        "    missing_values = layoff_df[col].isnull().sum()\n",
        "    print('Missing value for column \\'{}\\' is {}'.format(col, missing_values))"
      ]
    },
    {
      "cell_type": "code",
      "execution_count": null,
      "metadata": {
        "id": "T3ShjNbhAJ22",
        "outputId": "2d15d37f-7dee-4669-8d8d-1e07e3e38888"
      },
      "outputs": [
        {
          "data": {
            "text/plain": [
              "(883, 11)"
            ]
          },
          "execution_count": 19,
          "metadata": {},
          "output_type": "execute_result"
        }
      ],
      "source": [
        "# Since each company is unique and it's difficult to estimate missing values without further information，\n",
        "# we drop out rows with missing values\n",
        "# We do not care the specific list of employees laid off\n",
        "layoff_df = layoff_df.dropna(axis=0, how='any')\n",
        "layoff_df.drop('List_of_Employees_Laid_Off', axis=1, inplace=True)\n",
        "layoff_df.shape"
      ]
    },
    {
      "cell_type": "markdown",
      "metadata": {
        "id": "F_sc0mFiAJ22"
      },
      "source": [
        "After dropping rows with missing value, there are 883 rows and 11 columns."
      ]
    },
    {
      "cell_type": "markdown",
      "metadata": {
        "id": "KLA21PVAAJ22"
      },
      "source": [
        "**Perform any additional steps (parsing dates, creating additional columns, merging multiple dataset etc.)**"
      ]
    },
    {
      "cell_type": "code",
      "execution_count": null,
      "metadata": {
        "id": "7kj5FA-VAJ22",
        "outputId": "aadb525f-3d59-4869-eac2-95d155c75199"
      },
      "outputs": [
        {
          "data": {
            "text/html": [
              "<div>\n",
              "<style scoped>\n",
              "    .dataframe tbody tr th:only-of-type {\n",
              "        vertical-align: middle;\n",
              "    }\n",
              "\n",
              "    .dataframe tbody tr th {\n",
              "        vertical-align: top;\n",
              "    }\n",
              "\n",
              "    .dataframe thead th {\n",
              "        text-align: right;\n",
              "    }\n",
              "</style>\n",
              "<table border=\"1\" class=\"dataframe\">\n",
              "  <thead>\n",
              "    <tr style=\"text-align: right;\">\n",
              "      <th></th>\n",
              "      <th>Company</th>\n",
              "      <th>Location</th>\n",
              "      <th>Industry</th>\n",
              "      <th>Date</th>\n",
              "      <th>Source</th>\n",
              "      <th>Funds_Raised</th>\n",
              "      <th>Stage</th>\n",
              "      <th>Date_Added</th>\n",
              "      <th>Country</th>\n",
              "      <th>Laid_Off_Count</th>\n",
              "      <th>Percentage</th>\n",
              "      <th>Year</th>\n",
              "      <th>Month</th>\n",
              "      <th>Day</th>\n",
              "      <th>Weekday</th>\n",
              "    </tr>\n",
              "  </thead>\n",
              "  <tbody>\n",
              "    <tr>\n",
              "      <th>3</th>\n",
              "      <td>Alice</td>\n",
              "      <td>Sao Paulo</td>\n",
              "      <td>Healthcare</td>\n",
              "      <td>2022-12-09</td>\n",
              "      <td>https://startups.com.br/demissoes/alice-faz-no...</td>\n",
              "      <td>174.0</td>\n",
              "      <td>Series C</td>\n",
              "      <td>2022-12-11 03:31:04</td>\n",
              "      <td>Brazil</td>\n",
              "      <td>113.0</td>\n",
              "      <td>0.16</td>\n",
              "      <td>2022</td>\n",
              "      <td>12</td>\n",
              "      <td>9</td>\n",
              "      <td>4</td>\n",
              "    </tr>\n",
              "    <tr>\n",
              "      <th>4</th>\n",
              "      <td>Primer</td>\n",
              "      <td>London</td>\n",
              "      <td>Finance</td>\n",
              "      <td>2022-12-09</td>\n",
              "      <td>https://techcrunch.com/2022/12/09/primer-the-u...</td>\n",
              "      <td>73.0</td>\n",
              "      <td>Series B</td>\n",
              "      <td>2022-12-09 16:37:23</td>\n",
              "      <td>United Kingdom</td>\n",
              "      <td>85.0</td>\n",
              "      <td>0.33</td>\n",
              "      <td>2022</td>\n",
              "      <td>12</td>\n",
              "      <td>9</td>\n",
              "      <td>4</td>\n",
              "    </tr>\n",
              "    <tr>\n",
              "      <th>5</th>\n",
              "      <td>C2FO</td>\n",
              "      <td>Kansas City</td>\n",
              "      <td>Finance</td>\n",
              "      <td>2022-12-09</td>\n",
              "      <td>https://www.bizjournals.com/kansascity/news/20...</td>\n",
              "      <td>537.0</td>\n",
              "      <td>Series H</td>\n",
              "      <td>2022-12-11 05:58:32</td>\n",
              "      <td>United States</td>\n",
              "      <td>20.0</td>\n",
              "      <td>0.02</td>\n",
              "      <td>2022</td>\n",
              "      <td>12</td>\n",
              "      <td>9</td>\n",
              "      <td>4</td>\n",
              "    </tr>\n",
              "    <tr>\n",
              "      <th>10</th>\n",
              "      <td>Airtable</td>\n",
              "      <td>SF Bay Area</td>\n",
              "      <td>Product</td>\n",
              "      <td>2022-12-08</td>\n",
              "      <td>https://techcrunch.com/2022/12/08/airtable-lay...</td>\n",
              "      <td>1400.0</td>\n",
              "      <td>Series F</td>\n",
              "      <td>2022-12-08 17:48:07</td>\n",
              "      <td>United States</td>\n",
              "      <td>254.0</td>\n",
              "      <td>0.20</td>\n",
              "      <td>2022</td>\n",
              "      <td>12</td>\n",
              "      <td>8</td>\n",
              "      <td>3</td>\n",
              "    </tr>\n",
              "    <tr>\n",
              "      <th>11</th>\n",
              "      <td>Swiggy</td>\n",
              "      <td>Bengaluru</td>\n",
              "      <td>Food</td>\n",
              "      <td>2022-12-08</td>\n",
              "      <td>https://inc42.com/buzz/swiggy-fire-250-employe...</td>\n",
              "      <td>3600.0</td>\n",
              "      <td>Unknown</td>\n",
              "      <td>2022-12-09 05:00:53</td>\n",
              "      <td>India</td>\n",
              "      <td>250.0</td>\n",
              "      <td>0.03</td>\n",
              "      <td>2022</td>\n",
              "      <td>12</td>\n",
              "      <td>8</td>\n",
              "      <td>3</td>\n",
              "    </tr>\n",
              "  </tbody>\n",
              "</table>\n",
              "</div>"
            ],
            "text/plain": [
              "     Company     Location    Industry       Date  \\\n",
              "3      Alice    Sao Paulo  Healthcare 2022-12-09   \n",
              "4     Primer       London     Finance 2022-12-09   \n",
              "5       C2FO  Kansas City     Finance 2022-12-09   \n",
              "10  Airtable  SF Bay Area     Product 2022-12-08   \n",
              "11    Swiggy    Bengaluru        Food 2022-12-08   \n",
              "\n",
              "                                               Source  Funds_Raised     Stage  \\\n",
              "3   https://startups.com.br/demissoes/alice-faz-no...         174.0  Series C   \n",
              "4   https://techcrunch.com/2022/12/09/primer-the-u...          73.0  Series B   \n",
              "5   https://www.bizjournals.com/kansascity/news/20...         537.0  Series H   \n",
              "10  https://techcrunch.com/2022/12/08/airtable-lay...        1400.0  Series F   \n",
              "11  https://inc42.com/buzz/swiggy-fire-250-employe...        3600.0   Unknown   \n",
              "\n",
              "             Date_Added         Country  Laid_Off_Count  Percentage  Year  \\\n",
              "3   2022-12-11 03:31:04          Brazil           113.0        0.16  2022   \n",
              "4   2022-12-09 16:37:23  United Kingdom            85.0        0.33  2022   \n",
              "5   2022-12-11 05:58:32   United States            20.0        0.02  2022   \n",
              "10  2022-12-08 17:48:07   United States           254.0        0.20  2022   \n",
              "11  2022-12-09 05:00:53           India           250.0        0.03  2022   \n",
              "\n",
              "    Month  Day  Weekday  \n",
              "3      12    9        4  \n",
              "4      12    9        4  \n",
              "5      12    9        4  \n",
              "10     12    8        3  \n",
              "11     12    8        3  "
            ]
          },
          "execution_count": 20,
          "metadata": {},
          "output_type": "execute_result"
        }
      ],
      "source": [
        "# Parse dates\n",
        "# Convert \"Date\" column into a datetime column\n",
        "layoff_df['Date'] = pd.to_datetime(layoff_df.Date)\n",
        "\n",
        "# Extract different parts of the date into seperate columns\n",
        "layoff_df['Year'] = pd.DatetimeIndex(layoff_df.Date).year\n",
        "layoff_df['Month'] = pd.DatetimeIndex(layoff_df.Date).month\n",
        "layoff_df['Day'] = pd.DatetimeIndex(layoff_df.Date).day\n",
        "layoff_df['Weekday'] = pd.DatetimeIndex(layoff_df.Date).weekday\n",
        "\n",
        "layoff_df.head()"
      ]
    },
    {
      "cell_type": "markdown",
      "metadata": {
        "id": "CsjMpoRcAJ23"
      },
      "source": [
        "Since we only focus on the layoff situation in 2022, we drop irrelevant data."
      ]
    },
    {
      "cell_type": "code",
      "execution_count": null,
      "metadata": {
        "id": "QZ5eWQMXAJ23",
        "outputId": "a1fad537-24b0-4e67-bf72-84a06c8b14b4"
      },
      "outputs": [
        {
          "data": {
            "text/plain": [
              "(539, 15)"
            ]
          },
          "execution_count": 21,
          "metadata": {},
          "output_type": "execute_result"
        }
      ],
      "source": [
        "layoff_df = layoff_df[layoff_df.Year == 2022]\n",
        "layoff_df.shape"
      ]
    },
    {
      "cell_type": "markdown",
      "metadata": {
        "id": "2M4NXwNLAJ23"
      },
      "source": [
        "After dropping rows with year not equal to 2022, there are 539 rows and 15 columns."
      ]
    },
    {
      "cell_type": "markdown",
      "metadata": {
        "id": "qsYFCfCbAJ24"
      },
      "source": [
        "## Exploratory Analysis and Visualization"
      ]
    },
    {
      "cell_type": "markdown",
      "metadata": {
        "id": "GqmdyiT2AJ24"
      },
      "source": [
        "Let's begin by importing`matplotlib.pyplot` and `seaborn`."
      ]
    },
    {
      "cell_type": "code",
      "execution_count": null,
      "metadata": {
        "id": "P6kWmpC2AJ24"
      },
      "outputs": [],
      "source": [
        "import seaborn as sns\n",
        "import matplotlib\n",
        "import matplotlib.pyplot as plt\n",
        "%matplotlib inline\n",
        "\n",
        "sns.set_style('darkgrid')\n",
        "matplotlib.rcParams['font.size'] = 14\n",
        "matplotlib.rcParams['figure.figsize'] = (9, 5)\n",
        "matplotlib.rcParams['figure.facecolor'] = '#00000000'"
      ]
    },
    {
      "cell_type": "markdown",
      "metadata": {
        "id": "ypwHMMEBAJ24"
      },
      "source": [
        "**Compute the mean, sum, range and other interesting statistics for numeric columns** "
      ]
    },
    {
      "cell_type": "code",
      "execution_count": null,
      "metadata": {
        "id": "dMhiKsEAAJ24",
        "outputId": "5cad4527-225e-4835-b79a-a81ef6ebd528"
      },
      "outputs": [
        {
          "data": {
            "text/html": [
              "<div>\n",
              "<style scoped>\n",
              "    .dataframe tbody tr th:only-of-type {\n",
              "        vertical-align: middle;\n",
              "    }\n",
              "\n",
              "    .dataframe tbody tr th {\n",
              "        vertical-align: top;\n",
              "    }\n",
              "\n",
              "    .dataframe thead th {\n",
              "        text-align: right;\n",
              "    }\n",
              "</style>\n",
              "<table border=\"1\" class=\"dataframe\">\n",
              "  <thead>\n",
              "    <tr style=\"text-align: right;\">\n",
              "      <th></th>\n",
              "      <th>Company</th>\n",
              "      <th>Location</th>\n",
              "      <th>Industry</th>\n",
              "      <th>Date</th>\n",
              "      <th>Source</th>\n",
              "      <th>Funds_Raised</th>\n",
              "      <th>Stage</th>\n",
              "      <th>Date_Added</th>\n",
              "      <th>Country</th>\n",
              "      <th>Laid_Off_Count</th>\n",
              "      <th>Percentage</th>\n",
              "      <th>Year</th>\n",
              "      <th>Month</th>\n",
              "      <th>Day</th>\n",
              "      <th>Weekday</th>\n",
              "    </tr>\n",
              "  </thead>\n",
              "  <tbody>\n",
              "    <tr>\n",
              "      <th>3</th>\n",
              "      <td>Alice</td>\n",
              "      <td>Sao Paulo</td>\n",
              "      <td>Healthcare</td>\n",
              "      <td>2022-12-09</td>\n",
              "      <td>https://startups.com.br/demissoes/alice-faz-no...</td>\n",
              "      <td>174.0</td>\n",
              "      <td>Series C</td>\n",
              "      <td>2022-12-11 03:31:04</td>\n",
              "      <td>Brazil</td>\n",
              "      <td>113.0</td>\n",
              "      <td>0.16</td>\n",
              "      <td>2022</td>\n",
              "      <td>12</td>\n",
              "      <td>9</td>\n",
              "      <td>4</td>\n",
              "    </tr>\n",
              "    <tr>\n",
              "      <th>4</th>\n",
              "      <td>Primer</td>\n",
              "      <td>London</td>\n",
              "      <td>Finance</td>\n",
              "      <td>2022-12-09</td>\n",
              "      <td>https://techcrunch.com/2022/12/09/primer-the-u...</td>\n",
              "      <td>73.0</td>\n",
              "      <td>Series B</td>\n",
              "      <td>2022-12-09 16:37:23</td>\n",
              "      <td>United Kingdom</td>\n",
              "      <td>85.0</td>\n",
              "      <td>0.33</td>\n",
              "      <td>2022</td>\n",
              "      <td>12</td>\n",
              "      <td>9</td>\n",
              "      <td>4</td>\n",
              "    </tr>\n",
              "    <tr>\n",
              "      <th>5</th>\n",
              "      <td>C2FO</td>\n",
              "      <td>Kansas City</td>\n",
              "      <td>Finance</td>\n",
              "      <td>2022-12-09</td>\n",
              "      <td>https://www.bizjournals.com/kansascity/news/20...</td>\n",
              "      <td>537.0</td>\n",
              "      <td>Series H</td>\n",
              "      <td>2022-12-11 05:58:32</td>\n",
              "      <td>United States</td>\n",
              "      <td>20.0</td>\n",
              "      <td>0.02</td>\n",
              "      <td>2022</td>\n",
              "      <td>12</td>\n",
              "      <td>9</td>\n",
              "      <td>4</td>\n",
              "    </tr>\n",
              "    <tr>\n",
              "      <th>10</th>\n",
              "      <td>Airtable</td>\n",
              "      <td>SF Bay Area</td>\n",
              "      <td>Product</td>\n",
              "      <td>2022-12-08</td>\n",
              "      <td>https://techcrunch.com/2022/12/08/airtable-lay...</td>\n",
              "      <td>1400.0</td>\n",
              "      <td>Series F</td>\n",
              "      <td>2022-12-08 17:48:07</td>\n",
              "      <td>United States</td>\n",
              "      <td>254.0</td>\n",
              "      <td>0.20</td>\n",
              "      <td>2022</td>\n",
              "      <td>12</td>\n",
              "      <td>8</td>\n",
              "      <td>3</td>\n",
              "    </tr>\n",
              "    <tr>\n",
              "      <th>11</th>\n",
              "      <td>Swiggy</td>\n",
              "      <td>Bengaluru</td>\n",
              "      <td>Food</td>\n",
              "      <td>2022-12-08</td>\n",
              "      <td>https://inc42.com/buzz/swiggy-fire-250-employe...</td>\n",
              "      <td>3600.0</td>\n",
              "      <td>Unknown</td>\n",
              "      <td>2022-12-09 05:00:53</td>\n",
              "      <td>India</td>\n",
              "      <td>250.0</td>\n",
              "      <td>0.03</td>\n",
              "      <td>2022</td>\n",
              "      <td>12</td>\n",
              "      <td>8</td>\n",
              "      <td>3</td>\n",
              "    </tr>\n",
              "  </tbody>\n",
              "</table>\n",
              "</div>"
            ],
            "text/plain": [
              "     Company     Location    Industry       Date  \\\n",
              "3      Alice    Sao Paulo  Healthcare 2022-12-09   \n",
              "4     Primer       London     Finance 2022-12-09   \n",
              "5       C2FO  Kansas City     Finance 2022-12-09   \n",
              "10  Airtable  SF Bay Area     Product 2022-12-08   \n",
              "11    Swiggy    Bengaluru        Food 2022-12-08   \n",
              "\n",
              "                                               Source  Funds_Raised     Stage  \\\n",
              "3   https://startups.com.br/demissoes/alice-faz-no...         174.0  Series C   \n",
              "4   https://techcrunch.com/2022/12/09/primer-the-u...          73.0  Series B   \n",
              "5   https://www.bizjournals.com/kansascity/news/20...         537.0  Series H   \n",
              "10  https://techcrunch.com/2022/12/08/airtable-lay...        1400.0  Series F   \n",
              "11  https://inc42.com/buzz/swiggy-fire-250-employe...        3600.0   Unknown   \n",
              "\n",
              "             Date_Added         Country  Laid_Off_Count  Percentage  Year  \\\n",
              "3   2022-12-11 03:31:04          Brazil           113.0        0.16  2022   \n",
              "4   2022-12-09 16:37:23  United Kingdom            85.0        0.33  2022   \n",
              "5   2022-12-11 05:58:32   United States            20.0        0.02  2022   \n",
              "10  2022-12-08 17:48:07   United States           254.0        0.20  2022   \n",
              "11  2022-12-09 05:00:53           India           250.0        0.03  2022   \n",
              "\n",
              "    Month  Day  Weekday  \n",
              "3      12    9        4  \n",
              "4      12    9        4  \n",
              "5      12    9        4  \n",
              "10     12    8        3  \n",
              "11     12    8        3  "
            ]
          },
          "execution_count": 25,
          "metadata": {},
          "output_type": "execute_result"
        }
      ],
      "source": [
        "layoff_df.head()"
      ]
    },
    {
      "cell_type": "code",
      "execution_count": null,
      "metadata": {
        "id": "sbnIxi2TAJ24",
        "outputId": "f38fa1c5-9d42-43b0-857f-dacc827f1ada"
      },
      "outputs": [
        {
          "name": "stdout",
          "output_type": "stream",
          "text": [
            "The average layoff count is 228.74 in 2022 worldwide.\n"
          ]
        }
      ],
      "source": [
        "# Compute the average layoff count \n",
        "average_layoff_count = layoff_df.Laid_Off_Count.mean()\n",
        "print('The average layoff count is {:.2f} in 2022 worldwide.'.format(average_layoff_count))"
      ]
    },
    {
      "cell_type": "code",
      "execution_count": null,
      "metadata": {
        "id": "aJRS3BGTAJ24",
        "outputId": "8c937562-e1b9-4f98-935e-58d70d588733"
      },
      "outputs": [
        {
          "name": "stdout",
          "output_type": "stream",
          "text": [
            "The total layoff count is 123291.00 in 2022 worldwide.\n"
          ]
        }
      ],
      "source": [
        "# Compute the total layoff count\n",
        "total_layoff_count = layoff_df.Laid_Off_Count.sum()\n",
        "print('The total layoff count is {:.2f} in 2022 worldwide.'.format(total_layoff_count))"
      ]
    },
    {
      "cell_type": "code",
      "execution_count": null,
      "metadata": {
        "id": "R-05QOT_AJ25",
        "outputId": "a333f8df-f896-4f82-8d8d-04fcc7cb2343"
      },
      "outputs": [
        {
          "data": {
            "text/html": [
              "<div>\n",
              "<style scoped>\n",
              "    .dataframe tbody tr th:only-of-type {\n",
              "        vertical-align: middle;\n",
              "    }\n",
              "\n",
              "    .dataframe tbody tr th {\n",
              "        vertical-align: top;\n",
              "    }\n",
              "\n",
              "    .dataframe thead th {\n",
              "        text-align: right;\n",
              "    }\n",
              "</style>\n",
              "<table border=\"1\" class=\"dataframe\">\n",
              "  <thead>\n",
              "    <tr style=\"text-align: right;\">\n",
              "      <th></th>\n",
              "      <th>Company</th>\n",
              "      <th>Location</th>\n",
              "      <th>Industry</th>\n",
              "      <th>Date</th>\n",
              "      <th>Source</th>\n",
              "      <th>Funds_Raised</th>\n",
              "      <th>Stage</th>\n",
              "      <th>Date_Added</th>\n",
              "      <th>Country</th>\n",
              "      <th>Laid_Off_Count</th>\n",
              "      <th>Percentage</th>\n",
              "      <th>Year</th>\n",
              "      <th>Month</th>\n",
              "      <th>Day</th>\n",
              "      <th>Weekday</th>\n",
              "    </tr>\n",
              "  </thead>\n",
              "  <tbody>\n",
              "    <tr>\n",
              "      <th>207</th>\n",
              "      <td>Meta</td>\n",
              "      <td>SF Bay Area</td>\n",
              "      <td>Consumer</td>\n",
              "      <td>2022-11-09</td>\n",
              "      <td>https://www.cnbc.com/2022/11/09/meta-to-lay-of...</td>\n",
              "      <td>26000.0</td>\n",
              "      <td>IPO</td>\n",
              "      <td>2022-11-09 15:04:03</td>\n",
              "      <td>United States</td>\n",
              "      <td>11000.0</td>\n",
              "      <td>0.13</td>\n",
              "      <td>2022</td>\n",
              "      <td>11</td>\n",
              "      <td>9</td>\n",
              "      <td>2</td>\n",
              "    </tr>\n",
              "    <tr>\n",
              "      <th>142</th>\n",
              "      <td>Amazon</td>\n",
              "      <td>Seattle</td>\n",
              "      <td>Retail</td>\n",
              "      <td>2022-11-16</td>\n",
              "      <td>https://www.nytimes.com/2022/11/14/technology/...</td>\n",
              "      <td>108.0</td>\n",
              "      <td>IPO</td>\n",
              "      <td>2022-11-16 17:40:58</td>\n",
              "      <td>United States</td>\n",
              "      <td>10000.0</td>\n",
              "      <td>0.03</td>\n",
              "      <td>2022</td>\n",
              "      <td>11</td>\n",
              "      <td>16</td>\n",
              "      <td>2</td>\n",
              "    </tr>\n",
              "    <tr>\n",
              "      <th>143</th>\n",
              "      <td>Cisco</td>\n",
              "      <td>SF Bay Area</td>\n",
              "      <td>Infrastructure</td>\n",
              "      <td>2022-11-16</td>\n",
              "      <td>https://www.bizjournals.com/sanjose/news/2022/...</td>\n",
              "      <td>2.0</td>\n",
              "      <td>IPO</td>\n",
              "      <td>2022-11-17 17:15:04</td>\n",
              "      <td>United States</td>\n",
              "      <td>4100.0</td>\n",
              "      <td>0.05</td>\n",
              "      <td>2022</td>\n",
              "      <td>11</td>\n",
              "      <td>16</td>\n",
              "      <td>2</td>\n",
              "    </tr>\n",
              "    <tr>\n",
              "      <th>237</th>\n",
              "      <td>Twitter</td>\n",
              "      <td>SF Bay Area</td>\n",
              "      <td>Consumer</td>\n",
              "      <td>2022-11-04</td>\n",
              "      <td>https://www.nytimes.com/2022/11/04/technology/...</td>\n",
              "      <td>12900.0</td>\n",
              "      <td>IPO</td>\n",
              "      <td>2022-11-04 14:48:05</td>\n",
              "      <td>United States</td>\n",
              "      <td>3700.0</td>\n",
              "      <td>0.50</td>\n",
              "      <td>2022</td>\n",
              "      <td>11</td>\n",
              "      <td>4</td>\n",
              "      <td>4</td>\n",
              "    </tr>\n",
              "    <tr>\n",
              "      <th>1095</th>\n",
              "      <td>Better.com</td>\n",
              "      <td>New York City</td>\n",
              "      <td>Real Estate</td>\n",
              "      <td>2022-03-08</td>\n",
              "      <td>https://www.nytimes.com/2022/03/08/business/be...</td>\n",
              "      <td>905.0</td>\n",
              "      <td>Unknown</td>\n",
              "      <td>2022-03-09 00:46:57</td>\n",
              "      <td>United States</td>\n",
              "      <td>3000.0</td>\n",
              "      <td>0.33</td>\n",
              "      <td>2022</td>\n",
              "      <td>3</td>\n",
              "      <td>8</td>\n",
              "      <td>1</td>\n",
              "    </tr>\n",
              "    <tr>\n",
              "      <th>1108</th>\n",
              "      <td>Peloton</td>\n",
              "      <td>New York City</td>\n",
              "      <td>Fitness</td>\n",
              "      <td>2022-02-08</td>\n",
              "      <td>https://techcrunch.com/2022/02/08/peloton-ceo-...</td>\n",
              "      <td>1900.0</td>\n",
              "      <td>IPO</td>\n",
              "      <td>2022-02-08 17:08:53</td>\n",
              "      <td>United States</td>\n",
              "      <td>2800.0</td>\n",
              "      <td>0.20</td>\n",
              "      <td>2022</td>\n",
              "      <td>2</td>\n",
              "      <td>8</td>\n",
              "      <td>1</td>\n",
              "    </tr>\n",
              "    <tr>\n",
              "      <th>1036</th>\n",
              "      <td>Carvana</td>\n",
              "      <td>Phoenix</td>\n",
              "      <td>Transportation</td>\n",
              "      <td>2022-05-10</td>\n",
              "      <td>https://techcrunch.com/2022/05/10/carvana-to-c...</td>\n",
              "      <td>1600.0</td>\n",
              "      <td>IPO</td>\n",
              "      <td>2022-05-10 15:35:42</td>\n",
              "      <td>United States</td>\n",
              "      <td>2500.0</td>\n",
              "      <td>0.12</td>\n",
              "      <td>2022</td>\n",
              "      <td>5</td>\n",
              "      <td>10</td>\n",
              "      <td>1</td>\n",
              "    </tr>\n",
              "    <tr>\n",
              "      <th>337</th>\n",
              "      <td>Byju's</td>\n",
              "      <td>Bengaluru</td>\n",
              "      <td>Education</td>\n",
              "      <td>2022-10-12</td>\n",
              "      <td>https://techcrunch.com/2022/10/12/indian-edtec...</td>\n",
              "      <td>5500.0</td>\n",
              "      <td>Private Equity</td>\n",
              "      <td>2022-10-12 19:59:53</td>\n",
              "      <td>India</td>\n",
              "      <td>2500.0</td>\n",
              "      <td>0.05</td>\n",
              "      <td>2022</td>\n",
              "      <td>10</td>\n",
              "      <td>12</td>\n",
              "      <td>2</td>\n",
              "    </tr>\n",
              "    <tr>\n",
              "      <th>357</th>\n",
              "      <td>Crypto.com</td>\n",
              "      <td>Singapore</td>\n",
              "      <td>Crypto</td>\n",
              "      <td>2022-10-06</td>\n",
              "      <td>https://www.techinasia.com/cryptocom-lays-2000...</td>\n",
              "      <td>156.0</td>\n",
              "      <td>Unknown</td>\n",
              "      <td>2022-10-07 23:31:49</td>\n",
              "      <td>Singapore</td>\n",
              "      <td>2000.0</td>\n",
              "      <td>0.30</td>\n",
              "      <td>2022</td>\n",
              "      <td>10</td>\n",
              "      <td>6</td>\n",
              "      <td>3</td>\n",
              "    </tr>\n",
              "    <tr>\n",
              "      <th>123</th>\n",
              "      <td>Carvana</td>\n",
              "      <td>Phoenix</td>\n",
              "      <td>Transportation</td>\n",
              "      <td>2022-11-18</td>\n",
              "      <td>https://www.wsj.com/articles/carvana-plans-to-...</td>\n",
              "      <td>1600.0</td>\n",
              "      <td>IPO</td>\n",
              "      <td>2022-11-18 21:34:43</td>\n",
              "      <td>United States</td>\n",
              "      <td>1500.0</td>\n",
              "      <td>0.08</td>\n",
              "      <td>2022</td>\n",
              "      <td>11</td>\n",
              "      <td>18</td>\n",
              "      <td>4</td>\n",
              "    </tr>\n",
              "    <tr>\n",
              "      <th>732</th>\n",
              "      <td>Gopuff</td>\n",
              "      <td>Philadelphia</td>\n",
              "      <td>Food</td>\n",
              "      <td>2022-07-12</td>\n",
              "      <td>https://www.bloomberg.com/news/articles/2022-0...</td>\n",
              "      <td>3400.0</td>\n",
              "      <td>Series H</td>\n",
              "      <td>2022-07-12 15:39:17</td>\n",
              "      <td>United States</td>\n",
              "      <td>1500.0</td>\n",
              "      <td>0.10</td>\n",
              "      <td>2022</td>\n",
              "      <td>7</td>\n",
              "      <td>12</td>\n",
              "      <td>1</td>\n",
              "    </tr>\n",
              "    <tr>\n",
              "      <th>193</th>\n",
              "      <td>GoTo Group</td>\n",
              "      <td>Jakarta</td>\n",
              "      <td>Transportation</td>\n",
              "      <td>2022-11-10</td>\n",
              "      <td>https://www.reuters.com/technology/indonesias-...</td>\n",
              "      <td>1300.0</td>\n",
              "      <td>IPO</td>\n",
              "      <td>2022-11-11 05:06:07</td>\n",
              "      <td>Indonesia</td>\n",
              "      <td>1300.0</td>\n",
              "      <td>0.12</td>\n",
              "      <td>2022</td>\n",
              "      <td>11</td>\n",
              "      <td>10</td>\n",
              "      <td>3</td>\n",
              "    </tr>\n",
              "    <tr>\n",
              "      <th>468</th>\n",
              "      <td>Snap</td>\n",
              "      <td>Los Angeles</td>\n",
              "      <td>Consumer</td>\n",
              "      <td>2022-08-31</td>\n",
              "      <td>https://www.theverge.com/2022/8/30/23329301/sn...</td>\n",
              "      <td>4900.0</td>\n",
              "      <td>IPO</td>\n",
              "      <td>2022-08-30 20:55:54</td>\n",
              "      <td>United States</td>\n",
              "      <td>1280.0</td>\n",
              "      <td>0.20</td>\n",
              "      <td>2022</td>\n",
              "      <td>8</td>\n",
              "      <td>31</td>\n",
              "      <td>2</td>\n",
              "    </tr>\n",
              "    <tr>\n",
              "      <th>70</th>\n",
              "      <td>DoorDash</td>\n",
              "      <td>SF Bay Area</td>\n",
              "      <td>Food</td>\n",
              "      <td>2022-11-30</td>\n",
              "      <td>https://www.reuters.com/business/retail-consum...</td>\n",
              "      <td>2500.0</td>\n",
              "      <td>IPO</td>\n",
              "      <td>2022-11-30 15:21:42</td>\n",
              "      <td>United States</td>\n",
              "      <td>1250.0</td>\n",
              "      <td>0.06</td>\n",
              "      <td>2022</td>\n",
              "      <td>11</td>\n",
              "      <td>30</td>\n",
              "      <td>2</td>\n",
              "    </tr>\n",
              "    <tr>\n",
              "      <th>895</th>\n",
              "      <td>Coinbase</td>\n",
              "      <td>SF Bay Area</td>\n",
              "      <td>Crypto</td>\n",
              "      <td>2022-06-14</td>\n",
              "      <td>https://www.cnbc.com/2022/06/14/coinbase-lays-...</td>\n",
              "      <td>549.0</td>\n",
              "      <td>IPO</td>\n",
              "      <td>2022-06-14 14:26:40</td>\n",
              "      <td>United States</td>\n",
              "      <td>1100.0</td>\n",
              "      <td>0.18</td>\n",
              "      <td>2022</td>\n",
              "      <td>6</td>\n",
              "      <td>14</td>\n",
              "      <td>1</td>\n",
              "    </tr>\n",
              "    <tr>\n",
              "      <th>71</th>\n",
              "      <td>Kraken</td>\n",
              "      <td>SF Bay Area</td>\n",
              "      <td>Crypto</td>\n",
              "      <td>2022-11-30</td>\n",
              "      <td>https://blog.kraken.com/post/16442/business-up...</td>\n",
              "      <td>134.0</td>\n",
              "      <td>Unknown</td>\n",
              "      <td>2022-11-30 16:37:32</td>\n",
              "      <td>United States</td>\n",
              "      <td>1100.0</td>\n",
              "      <td>0.30</td>\n",
              "      <td>2022</td>\n",
              "      <td>11</td>\n",
              "      <td>30</td>\n",
              "      <td>2</td>\n",
              "    </tr>\n",
              "    <tr>\n",
              "      <th>1077</th>\n",
              "      <td>Unacademy</td>\n",
              "      <td>Bengaluru</td>\n",
              "      <td>Education</td>\n",
              "      <td>2022-04-07</td>\n",
              "      <td>https://economictimes.indiatimes.com/tech/star...</td>\n",
              "      <td>838.0</td>\n",
              "      <td>Series H</td>\n",
              "      <td>2022-04-07 15:30:40</td>\n",
              "      <td>India</td>\n",
              "      <td>1000.0</td>\n",
              "      <td>0.17</td>\n",
              "      <td>2022</td>\n",
              "      <td>4</td>\n",
              "      <td>7</td>\n",
              "      <td>3</td>\n",
              "    </tr>\n",
              "    <tr>\n",
              "      <th>653</th>\n",
              "      <td>Shopify</td>\n",
              "      <td>Ottawa</td>\n",
              "      <td>Retail</td>\n",
              "      <td>2022-07-26</td>\n",
              "      <td>https://www.wsj.com/articles/shopify-to-lay-of...</td>\n",
              "      <td>122.0</td>\n",
              "      <td>IPO</td>\n",
              "      <td>2022-07-26 15:20:00</td>\n",
              "      <td>Canada</td>\n",
              "      <td>1000.0</td>\n",
              "      <td>0.10</td>\n",
              "      <td>2022</td>\n",
              "      <td>7</td>\n",
              "      <td>26</td>\n",
              "      <td>1</td>\n",
              "    </tr>\n",
              "    <tr>\n",
              "      <th>747</th>\n",
              "      <td>Butler Hospitality</td>\n",
              "      <td>New York City</td>\n",
              "      <td>Food</td>\n",
              "      <td>2022-07-08</td>\n",
              "      <td>https://techcrunch.com/2022/07/08/butler-shows...</td>\n",
              "      <td>50.0</td>\n",
              "      <td>Series B</td>\n",
              "      <td>2022-07-08 19:50:34</td>\n",
              "      <td>United States</td>\n",
              "      <td>1000.0</td>\n",
              "      <td>1.00</td>\n",
              "      <td>2022</td>\n",
              "      <td>7</td>\n",
              "      <td>8</td>\n",
              "      <td>4</td>\n",
              "    </tr>\n",
              "    <tr>\n",
              "      <th>228</th>\n",
              "      <td>Salesforce</td>\n",
              "      <td>SF Bay Area</td>\n",
              "      <td>Sales</td>\n",
              "      <td>2022-11-07</td>\n",
              "      <td>https://www.cnbc.com/2022/11/08/salesforce-cut...</td>\n",
              "      <td>65.0</td>\n",
              "      <td>IPO</td>\n",
              "      <td>2022-11-09 03:37:16</td>\n",
              "      <td>United States</td>\n",
              "      <td>1000.0</td>\n",
              "      <td>0.01</td>\n",
              "      <td>2022</td>\n",
              "      <td>11</td>\n",
              "      <td>7</td>\n",
              "      <td>0</td>\n",
              "    </tr>\n",
              "  </tbody>\n",
              "</table>\n",
              "</div>"
            ],
            "text/plain": [
              "                 Company       Location        Industry       Date  \\\n",
              "207                 Meta    SF Bay Area        Consumer 2022-11-09   \n",
              "142               Amazon        Seattle          Retail 2022-11-16   \n",
              "143                Cisco    SF Bay Area  Infrastructure 2022-11-16   \n",
              "237              Twitter    SF Bay Area        Consumer 2022-11-04   \n",
              "1095          Better.com  New York City     Real Estate 2022-03-08   \n",
              "1108             Peloton  New York City         Fitness 2022-02-08   \n",
              "1036             Carvana        Phoenix  Transportation 2022-05-10   \n",
              "337               Byju's      Bengaluru       Education 2022-10-12   \n",
              "357           Crypto.com      Singapore          Crypto 2022-10-06   \n",
              "123              Carvana        Phoenix  Transportation 2022-11-18   \n",
              "732               Gopuff   Philadelphia            Food 2022-07-12   \n",
              "193           GoTo Group        Jakarta  Transportation 2022-11-10   \n",
              "468                 Snap    Los Angeles        Consumer 2022-08-31   \n",
              "70              DoorDash    SF Bay Area            Food 2022-11-30   \n",
              "895             Coinbase    SF Bay Area          Crypto 2022-06-14   \n",
              "71                Kraken    SF Bay Area          Crypto 2022-11-30   \n",
              "1077           Unacademy      Bengaluru       Education 2022-04-07   \n",
              "653              Shopify         Ottawa          Retail 2022-07-26   \n",
              "747   Butler Hospitality  New York City            Food 2022-07-08   \n",
              "228           Salesforce    SF Bay Area           Sales 2022-11-07   \n",
              "\n",
              "                                                 Source  Funds_Raised  \\\n",
              "207   https://www.cnbc.com/2022/11/09/meta-to-lay-of...       26000.0   \n",
              "142   https://www.nytimes.com/2022/11/14/technology/...         108.0   \n",
              "143   https://www.bizjournals.com/sanjose/news/2022/...           2.0   \n",
              "237   https://www.nytimes.com/2022/11/04/technology/...       12900.0   \n",
              "1095  https://www.nytimes.com/2022/03/08/business/be...         905.0   \n",
              "1108  https://techcrunch.com/2022/02/08/peloton-ceo-...        1900.0   \n",
              "1036  https://techcrunch.com/2022/05/10/carvana-to-c...        1600.0   \n",
              "337   https://techcrunch.com/2022/10/12/indian-edtec...        5500.0   \n",
              "357   https://www.techinasia.com/cryptocom-lays-2000...         156.0   \n",
              "123   https://www.wsj.com/articles/carvana-plans-to-...        1600.0   \n",
              "732   https://www.bloomberg.com/news/articles/2022-0...        3400.0   \n",
              "193   https://www.reuters.com/technology/indonesias-...        1300.0   \n",
              "468   https://www.theverge.com/2022/8/30/23329301/sn...        4900.0   \n",
              "70    https://www.reuters.com/business/retail-consum...        2500.0   \n",
              "895   https://www.cnbc.com/2022/06/14/coinbase-lays-...         549.0   \n",
              "71    https://blog.kraken.com/post/16442/business-up...         134.0   \n",
              "1077  https://economictimes.indiatimes.com/tech/star...         838.0   \n",
              "653   https://www.wsj.com/articles/shopify-to-lay-of...         122.0   \n",
              "747   https://techcrunch.com/2022/07/08/butler-shows...          50.0   \n",
              "228   https://www.cnbc.com/2022/11/08/salesforce-cut...          65.0   \n",
              "\n",
              "               Stage           Date_Added        Country  Laid_Off_Count  \\\n",
              "207              IPO  2022-11-09 15:04:03  United States         11000.0   \n",
              "142              IPO  2022-11-16 17:40:58  United States         10000.0   \n",
              "143              IPO  2022-11-17 17:15:04  United States          4100.0   \n",
              "237              IPO  2022-11-04 14:48:05  United States          3700.0   \n",
              "1095         Unknown  2022-03-09 00:46:57  United States          3000.0   \n",
              "1108             IPO  2022-02-08 17:08:53  United States          2800.0   \n",
              "1036             IPO  2022-05-10 15:35:42  United States          2500.0   \n",
              "337   Private Equity  2022-10-12 19:59:53          India          2500.0   \n",
              "357          Unknown  2022-10-07 23:31:49      Singapore          2000.0   \n",
              "123              IPO  2022-11-18 21:34:43  United States          1500.0   \n",
              "732         Series H  2022-07-12 15:39:17  United States          1500.0   \n",
              "193              IPO  2022-11-11 05:06:07      Indonesia          1300.0   \n",
              "468              IPO  2022-08-30 20:55:54  United States          1280.0   \n",
              "70               IPO  2022-11-30 15:21:42  United States          1250.0   \n",
              "895              IPO  2022-06-14 14:26:40  United States          1100.0   \n",
              "71           Unknown  2022-11-30 16:37:32  United States          1100.0   \n",
              "1077        Series H  2022-04-07 15:30:40          India          1000.0   \n",
              "653              IPO  2022-07-26 15:20:00         Canada          1000.0   \n",
              "747         Series B  2022-07-08 19:50:34  United States          1000.0   \n",
              "228              IPO  2022-11-09 03:37:16  United States          1000.0   \n",
              "\n",
              "      Percentage  Year  Month  Day  Weekday  \n",
              "207         0.13  2022     11    9        2  \n",
              "142         0.03  2022     11   16        2  \n",
              "143         0.05  2022     11   16        2  \n",
              "237         0.50  2022     11    4        4  \n",
              "1095        0.33  2022      3    8        1  \n",
              "1108        0.20  2022      2    8        1  \n",
              "1036        0.12  2022      5   10        1  \n",
              "337         0.05  2022     10   12        2  \n",
              "357         0.30  2022     10    6        3  \n",
              "123         0.08  2022     11   18        4  \n",
              "732         0.10  2022      7   12        1  \n",
              "193         0.12  2022     11   10        3  \n",
              "468         0.20  2022      8   31        2  \n",
              "70          0.06  2022     11   30        2  \n",
              "895         0.18  2022      6   14        1  \n",
              "71          0.30  2022     11   30        2  \n",
              "1077        0.17  2022      4    7        3  \n",
              "653         0.10  2022      7   26        1  \n",
              "747         1.00  2022      7    8        4  \n",
              "228         0.01  2022     11    7        0  "
            ]
          },
          "execution_count": 29,
          "metadata": {},
          "output_type": "execute_result"
        }
      ],
      "source": [
        "# Check the companies with top 10 layoff count\n",
        "layoff_df.sort_values('Laid_Off_Count', ascending=False).head(20)"
      ]
    },
    {
      "cell_type": "markdown",
      "metadata": {
        "id": "f9Mt4DlQAJ25"
      },
      "source": [
        "**Explore distributions of numeric columns using histograms** "
      ]
    },
    {
      "cell_type": "code",
      "execution_count": null,
      "metadata": {
        "id": "4Uw36ErlAJ25",
        "outputId": "438b36fa-8435-46fa-99af-fb43647c4d18"
      },
      "outputs": [
        {
          "name": "stdout",
          "output_type": "stream",
          "text": [
            "The range of layoff count is from 5.00 to 11000.00\n"
          ]
        }
      ],
      "source": [
        "# Compute the range of layoff count\n",
        "min_layoff_count = layoff_df.Laid_Off_Count.min()\n",
        "max_layoff_count = layoff_df.Laid_Off_Count.max()\n",
        "print('The range of layoff count is from {:.2f} to {:.2f}'.format(min_layoff_count, max_layoff_count))"
      ]
    },
    {
      "cell_type": "code",
      "execution_count": null,
      "metadata": {
        "id": "B37x7d0nAJ25",
        "outputId": "b1d42c2b-5379-4ef1-9505-04524c32afa5"
      },
      "outputs": [
        {
          "data": {
            "image/png": "[encoded data removed]",
            "text/plain": [
              "<Figure size 648x360 with 1 Axes>"
            ]
          },
          "metadata": {
            "needs_background": "light"
          },
          "output_type": "display_data"
        }
      ],
      "source": [
        "plt.hist(layoff_df.Laid_Off_Count, bins=np.arange(5, 11000, 100));\n",
        "plt.title('Range of layoff count');"
      ]
    },
    {
      "cell_type": "markdown",
      "metadata": {
        "id": "baJlQVQ-AJ25"
      },
      "source": [
        "The layoff count is mostly less than 1000."
      ]
    },
    {
      "cell_type": "markdown",
      "metadata": {
        "id": "p9sU4B66AJ26"
      },
      "source": [
        "**Explore relationship between columns using scatter plots, bar charts** "
      ]
    },
    {
      "cell_type": "code",
      "execution_count": null,
      "metadata": {
        "scrolled": true,
        "id": "Rj9_1iBoAJ26"
      },
      "outputs": [],
      "source": [
        "# Plot the top 20 companies with most layoff count\n",
        "most_layoff_company = layoff_df.sort_values('Laid_Off_Count', ascending=False).head(20).Company\n",
        "most_layoff_count = layoff_df.sort_values('Laid_Off_Count', ascending=False).head(20).Laid_Off_Count\n",
        "most_layoff_industry = layoff_df.sort_values('Laid_Off_Count', ascending=False).head(20).Industry"
      ]
    },
    {
      "cell_type": "code",
      "execution_count": null,
      "metadata": {
        "id": "MRDjqSVXAJ26",
        "outputId": "6f863387-5e6b-41ab-cc9b-653e1b32c25e"
      },
      "outputs": [
        {
          "data": {
            "image/png": "[encoded data removed]",
            "text/plain": [
              "<Figure size 2160x864 with 1 Axes>"
            ]
          },
          "metadata": {
            "needs_background": "light"
          },
          "output_type": "display_data"
        }
      ],
      "source": [
        "# bar chart\n",
        "plt.figure(figsize=(30, 12))\n",
        "plt.bar(most_layoff_company, most_layoff_count);\n",
        "plt.title('Top 20 Layoff Companies');"
      ]
    },
    {
      "cell_type": "code",
      "execution_count": null,
      "metadata": {
        "id": "q74hVy1SAJ26",
        "outputId": "a67165bd-e9b2-46f8-818e-af710ee7c2ab"
      },
      "outputs": [
        {
          "data": {
            "image/png": "[encoded data removed]",
            "text/plain": [
              "<Figure size 1800x864 with 1 Axes>"
            ]
          },
          "metadata": {
            "needs_background": "light"
          },
          "output_type": "display_data"
        }
      ],
      "source": [
        "# bar chart\n",
        "plt.figure(figsize=(25, 12))\n",
        "plt.bar(most_layoff_industry, most_layoff_count);\n",
        "plt.title('Industries in Top 20 Layoff Companies');"
      ]
    },
    {
      "cell_type": "markdown",
      "metadata": {
        "id": "KVvAeRC2AJ26"
      },
      "source": [
        "In the top 20 layoff companies, consumer and retail industries account for the most. "
      ]
    },
    {
      "cell_type": "code",
      "execution_count": null,
      "metadata": {
        "id": "ok7y71hNAJ27",
        "outputId": "d868ae60-4b1e-4cf8-f14b-0d59b7e50db7"
      },
      "outputs": [
        {
          "data": {
            "text/plain": [
              "array(['Healthcare', 'Finance', 'Product', 'Food', 'HR', 'Transportation',\n",
              "       'Marketing', 'Security', 'Real Estate', 'Legal', 'Retail', 'Media',\n",
              "       'Unknown', 'Crypto', 'Education', 'Other', 'Consumer',\n",
              "       'Infrastructure', 'Data', 'Sales', 'Fitness', 'Support',\n",
              "       'Logistics', 'Recruiting', 'Construction', 'Aerospace', 'Travel',\n",
              "       'Energy'], dtype=object)"
            ]
          },
          "execution_count": 37,
          "metadata": {},
          "output_type": "execute_result"
        }
      ],
      "source": [
        "# Check different industries\n",
        "unique_industry = layoff_df['Industry'].unique()\n",
        "unique_industry "
      ]
    },
    {
      "cell_type": "code",
      "execution_count": null,
      "metadata": {
        "id": "YA5qJuKRAJ27",
        "outputId": "eb5a6ce3-0fcc-49e4-8e6a-b84f40d2a775"
      },
      "outputs": [
        {
          "name": "stdout",
          "output_type": "stream",
          "text": [
            "The number of unique industries is 28\n"
          ]
        }
      ],
      "source": [
        "# Count the number of different industries\n",
        "number_industry = layoff_df['Industry'].unique().size\n",
        "print('The number of unique industries is {}'.format(number_industry))"
      ]
    },
    {
      "cell_type": "code",
      "execution_count": null,
      "metadata": {
        "id": "RrQy9WfSAJ27",
        "outputId": "f3597b14-c764-4934-ac1a-4b8f5c014d32"
      },
      "outputs": [
        {
          "data": {
            "text/plain": [
              "Industry\n",
              "Consumer          18050.0\n",
              "Retail            17005.0\n",
              "Transportation    12725.0\n",
              "Finance           10577.0\n",
              "Real Estate        8076.0\n",
              "Food               7621.0\n",
              "Healthcare         7084.0\n",
              "Crypto             6837.0\n",
              "Education          6163.0\n",
              "Fitness            5196.0\n",
              "Infrastructure     4711.0\n",
              "Security           3185.0\n",
              "Other              2969.0\n",
              "Marketing          2721.0\n",
              "Sales              2274.0\n",
              "Media              1586.0\n",
              "Logistics          1323.0\n",
              "Data               1039.0\n",
              "Support             966.0\n",
              "Product             741.0\n",
              "Travel              565.0\n",
              "HR                  496.0\n",
              "Construction        490.0\n",
              "Unknown             298.0\n",
              "Legal               290.0\n",
              "Recruiting          173.0\n",
              "Aerospace           100.0\n",
              "Energy               30.0\n",
              "Name: Laid_Off_Count, dtype: float64"
            ]
          },
          "execution_count": 39,
          "metadata": {},
          "output_type": "execute_result"
        }
      ],
      "source": [
        "# Compute the total layoff count for each industry\n",
        "layoff_count_industry = layoff_df.groupby('Industry').Laid_Off_Count.sum().sort_values(ascending=False)\n",
        "layoff_count_industry"
      ]
    },
    {
      "cell_type": "code",
      "execution_count": null,
      "metadata": {
        "scrolled": true,
        "id": "nEpJBN0JAJ27",
        "outputId": "c1d4e8db-ea54-43de-84b9-fd29c4325e84"
      },
      "outputs": [
        {
          "data": {
            "image/png": "[encoded data removed]",
            "text/plain": [
              "<Figure size 2880x1440 with 1 Axes>"
            ]
          },
          "metadata": {
            "needs_background": "light"
          },
          "output_type": "display_data"
        }
      ],
      "source": [
        "# Plot a bar char to show the layoff count for each industry in descending order\n",
        "plt.figure(figsize=(40, 20))\n",
        "plt.bar(layoff_count_industry.index, layoff_count_industry.values);\n",
        "plt.title('Layoff Counts in Each Industry');"
      ]
    },
    {
      "cell_type": "markdown",
      "metadata": {
        "id": "VOXG6crFAJ27"
      },
      "source": [
        "The top 4 industries account for the most layoffs among 28 different industries is Consumer, Retail, Transportation and Finance."
      ]
    },
    {
      "cell_type": "code",
      "execution_count": null,
      "metadata": {
        "id": "UxKDEqPQAJ28",
        "outputId": "69da0238-245c-4ac2-f552-67be34bb94b6"
      },
      "outputs": [
        {
          "data": {
            "text/plain": [
              "array(['Brazil', 'United Kingdom', 'United States', 'India', 'Singapore',\n",
              "       'Israel', 'Indonesia', 'Argentina', 'Australia', 'Germany',\n",
              "       'Canada', 'Nigeria', 'Sweden', 'Ireland', 'Kenya', 'Estonia',\n",
              "       'Norway', 'Denmark', 'Thailand', 'Senegal', 'Hong Kong', 'China',\n",
              "       'United Arab Emirates', 'Austria', 'Finland', 'Malaysia', 'Mexico',\n",
              "       'Russia', 'Seychelles'], dtype=object)"
            ]
          },
          "execution_count": 42,
          "metadata": {},
          "output_type": "execute_result"
        }
      ],
      "source": [
        "# Check different industries\n",
        "unique_country = layoff_df['Country'].unique()\n",
        "unique_country"
      ]
    },
    {
      "cell_type": "code",
      "execution_count": null,
      "metadata": {
        "id": "xf_3_mjWAJ28",
        "outputId": "944091ca-2e0d-44e7-cddb-0cb806f34083"
      },
      "outputs": [
        {
          "data": {
            "text/plain": [
              "Country\n",
              "United States           90387.0\n",
              "India                    8861.0\n",
              "Brazil                   4009.0\n",
              "Canada                   2976.0\n",
              "Singapore                2779.0\n",
              "United Kingdom           2769.0\n",
              "Germany                  2136.0\n",
              "Indonesia                1731.0\n",
              "Israel                   1623.0\n",
              "Sweden                   1482.0\n",
              "Australia                 760.0\n",
              "China                     480.0\n",
              "United Arab Emirates      459.0\n",
              "Russia                    400.0\n",
              "Kenya                     349.0\n",
              "Senegal                   300.0\n",
              "Austria                   270.0\n",
              "Finland                   250.0\n",
              "Argentina                 233.0\n",
              "Ireland                   209.0\n",
              "Denmark                   185.0\n",
              "Estonia                   143.0\n",
              "Norway                    140.0\n",
              "Mexico                     80.0\n",
              "Seychelles                 75.0\n",
              "Nigeria                    70.0\n",
              "Thailand                   55.0\n",
              "Malaysia                   50.0\n",
              "Hong Kong                  30.0\n",
              "Name: Laid_Off_Count, dtype: float64"
            ]
          },
          "execution_count": 43,
          "metadata": {},
          "output_type": "execute_result"
        }
      ],
      "source": [
        "# Compute the total layoff count for each country\n",
        "layoff_count_country = layoff_df.groupby('Country').Laid_Off_Count.sum().sort_values(ascending=False)\n",
        "layoff_count_country"
      ]
    },
    {
      "cell_type": "code",
      "execution_count": null,
      "metadata": {
        "id": "IMDt7gy7AJ28",
        "outputId": "015f17ba-389e-4295-a27b-2e41d63bfc05"
      },
      "outputs": [
        {
          "data": {
            "image/png": "[encoded data removed]",
            "text/plain": [
              "<Figure size 2880x1440 with 1 Axes>"
            ]
          },
          "metadata": {
            "needs_background": "light"
          },
          "output_type": "display_data"
        }
      ],
      "source": [
        "# Plot a bar char to show the layoff count for each country in descending order\n",
        "plt.figure(figsize=(40, 20))\n",
        "plt.bar(layoff_count_country.index, layoff_count_country.values);\n",
        "plt.title('Layoff Counts in Each Country');"
      ]
    },
    {
      "cell_type": "markdown",
      "metadata": {
        "id": "bmhmbrTZAJ28"
      },
      "source": [
        "United States accounts for the most layoffs, way many more than the second country India. "
      ]
    },
    {
      "cell_type": "code",
      "execution_count": null,
      "metadata": {
        "id": "suBnf9d0AJ28",
        "outputId": "03540955-a402-491a-8770-f6d0bf762951"
      },
      "outputs": [
        {
          "data": {
            "text/plain": [
              "Month\n",
              "1        80.0\n",
              "2      3325.0\n",
              "3      4514.0\n",
              "4      2581.0\n",
              "5     11185.0\n",
              "6     14361.0\n",
              "7      9982.0\n",
              "8     10527.0\n",
              "9      3893.0\n",
              "10    10399.0\n",
              "11    48571.0\n",
              "12     3873.0\n",
              "Name: Laid_Off_Count, dtype: float64"
            ]
          },
          "execution_count": 45,
          "metadata": {},
          "output_type": "execute_result"
        }
      ],
      "source": [
        "# Compute monthly layoff count \n",
        "layoff_count_monthly = layoff_df.groupby('Month').Laid_Off_Count.sum()\n",
        "layoff_count_monthly"
      ]
    },
    {
      "cell_type": "code",
      "execution_count": null,
      "metadata": {
        "id": "w2RYWrP0AJ28",
        "outputId": "c34e2328-ac47-46f1-b1d9-20befb56dcfd"
      },
      "outputs": [
        {
          "data": {
            "image/png": "[encoded data removed]",
            "text/plain": [
              "<Figure size 648x360 with 1 Axes>"
            ]
          },
          "metadata": {
            "needs_background": "light"
          },
          "output_type": "display_data"
        }
      ],
      "source": [
        "# Line char for monthly layoff count\n",
        "plt.plot(layoff_count_monthly.index, layoff_count_monthly.values);\n",
        "plt.title('Monthly Layoff in 2022');"
      ]
    },
    {
      "cell_type": "markdown",
      "metadata": {
        "id": "u8ocneZrAJ29"
      },
      "source": [
        "Throughout 2022, there are a monthly layoff peaks, i.e., November."
      ]
    },
    {
      "cell_type": "code",
      "execution_count": null,
      "metadata": {
        "id": "-qySax4AAJ29",
        "outputId": "4538b489-84ff-4e87-8e63-bb67afe346fc"
      },
      "outputs": [
        {
          "data": {
            "image/png": "[encoded data removed]",
            "text/plain": [
              "<Figure size 1800x936 with 1 Axes>"
            ]
          },
          "metadata": {
            "needs_background": "light"
          },
          "output_type": "display_data"
        }
      ],
      "source": [
        "# Compute daily layoff count \n",
        "layoff_count_daily = layoff_df.groupby('Date').Laid_Off_Count.sum()\n",
        "\n",
        "# Line char for daily layoff count\n",
        "plt.figure(figsize=(25, 13))\n",
        "plt.plot(layoff_count_daily.index, layoff_count_daily.values);\n",
        "plt.title('Daily Layoff in 2022');"
      ]
    },
    {
      "cell_type": "code",
      "execution_count": null,
      "metadata": {
        "id": "9t95fJtBAJ29",
        "outputId": "a6887db6-a697-4004-b7eb-0f39096ac00a"
      },
      "outputs": [
        {
          "data": {
            "image/png": "[encoded data removed]",
            "text/plain": [
              "<Figure size 648x360 with 1 Axes>"
            ]
          },
          "metadata": {
            "needs_background": "light"
          },
          "output_type": "display_data"
        }
      ],
      "source": [
        "# Compute weekly layoff count \n",
        "layoff_count_weekly = layoff_df.groupby('Weekday').Laid_Off_Count.sum()\n",
        "\n",
        "# Line char for weekly layoff count\n",
        "plt.plot(layoff_count_weekly.index, layoff_count_weekly.values);\n",
        "plt.title('Weekly Layoff in 2022');"
      ]
    },
    {
      "cell_type": "markdown",
      "metadata": {
        "id": "Nr_ILP0fAJ29"
      },
      "source": [
        "Layoff mostly happens on Wednesday."
      ]
    },
    {
      "cell_type": "markdown",
      "metadata": {
        "id": "cJFTxzwXAJ2_"
      },
      "source": [
        "## Inferences and Conclusion\n",
        "\n",
        "- The layoff count is mostly less than 1000.\n",
        "- In the top 20 layoff companies, consumer and retail industries account for the most. \n",
        "- The top 4 industries account for the most layoffs among 28 different industries is Consumer, Retail, Transportation and Finance.\n",
        "- United States accounts for the most layoffs, way many more than the second country India. \n",
        "- Throughout 2022, there are a layoff peaks, i.e., November. \n",
        "- Layoff mostly happens on Wednesday."
      ]
    },
    {
      "cell_type": "markdown",
      "metadata": {
        "id": "lR1Xg0T3AJ3A"
      },
      "source": [
        "## References and Future Work\n",
        "\n",
        "Reference:\n",
        "https://jovian.ai/learn/data-analysis-with-python-zero-to-pandas\n",
        "\n",
        "Future Work:\n",
        "Use the layoff data in 2022 to predict layoff situations in 2023."
      ]
    },
    {
      "cell_type": "code",
      "execution_count": null,
      "metadata": {
        "id": "V5dcJVxQAJ3A"
      },
      "outputs": [],
      "source": [
        "import jovian"
      ]
    },
    {
      "cell_type": "code",
      "execution_count": null,
      "metadata": {
        "scrolled": true,
        "id": "_zp7ppCxAJ3A"
      },
      "outputs": [],
      "source": [
        "jovian.commit()"
      ]
    }
  ],
  "metadata": {
    "kernelspec": {
      "display_name": "Python 3 (ipykernel)",
      "language": "python",
      "name": "python3"
    },
    "language_info": {
      "codemirror_mode": {
        "name": "ipython",
        "version": 3
      },
      "file_extension": ".py",
      "mimetype": "text/x-python",
      "name": "python",
      "nbconvert_exporter": "python",
      "pygments_lexer": "ipython3",
      "version": "3.9.7"
    },
    "colab": {
      "provenance": []
    }
  },
  "nbformat": 4,
  "nbformat_minor": 0
}